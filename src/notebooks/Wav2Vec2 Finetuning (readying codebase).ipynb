{
 "cells": [
  {
   "cell_type": "code",
   "execution_count": 1,
   "id": "6beaeeda-3625-4093-8cd7-ccff652b23de",
   "metadata": {},
   "outputs": [],
   "source": [
    "import os\n",
    "os. chdir('../')"
   ]
  },
  {
   "cell_type": "code",
   "execution_count": null,
   "id": "a6c862cb-41f8-42d5-b26b-f7460e830fe0",
   "metadata": {},
   "outputs": [],
   "source": [
    "! python wav2vec2_training.py"
   ]
  },
  {
   "cell_type": "code",
   "execution_count": 2,
   "id": "b5948413-854d-4ed0-b1df-08f3ac03fa07",
   "metadata": {},
   "outputs": [],
   "source": [
    "from constants.mir_constants import WAV2VEC2_ARGS\n",
    "from training.wav2vec2_finetune import Wav2Vec2SpeechRecognition, SpeechRecognitionData\n",
    "import json\n",
    "from dataclasses import dataclass, asdict\n",
    "import pandas as pd\n",
    "from jiwer import wer"
   ]
  },
  {
   "cell_type": "code",
   "execution_count": 3,
   "id": "bef4a0c2-8b7d-43d3-ae5a-6069ea20509f",
   "metadata": {},
   "outputs": [],
   "source": [
    "# import wandb\n",
    "# from pytorch_lightning.loggers import WandbLogger"
   ]
  },
  {
   "cell_type": "code",
   "execution_count": 4,
   "id": "34df477b-e593-4a1b-ab65-97f2ecd4e848",
   "metadata": {},
   "outputs": [],
   "source": [
    "# run = wandb.init(\n",
    "#     project=\"song lyrics transcription\",\n",
    "#     notes=\"\",\n",
    "#     tags=[\"AdamW\", \"Finetune Wav2vec2\"]"
   ]
  },
  {
   "cell_type": "code",
   "execution_count": 5,
   "id": "a9fc9ec9-41ff-4e2b-8ad4-bddf798ea927",
   "metadata": {},
   "outputs": [],
   "source": [
    "# wandb_logger = WandbLogger()\n",
    "# trainer = Trainer(logger=wandb_logger)"
   ]
  },
  {
   "cell_type": "code",
   "execution_count": 6,
   "id": "5f88e8f2-3a31-4f49-bbd3-fa780103e689",
   "metadata": {},
   "outputs": [],
   "source": [
    "# wandb.config = asdict(WAV2VEC2_ARGS)"
   ]
  },
  {
   "cell_type": "code",
   "execution_count": 7,
   "id": "a359071b-4a39-4cf9-b89a-5ec410e4d144",
   "metadata": {},
   "outputs": [
    {
     "name": "stdout",
     "output_type": "stream",
     "text": [
      "{\n",
      "    \"TRAIN_FILE_PATH\": \"/home/users/gmenon/notebooks/home/users/gmenon/notebooks/train_song_metadata_en_demucs_cleaned.csv\",\n",
      "    \"TEST_FILE_PATH\": \"/home/users/gmenon/notebooks/home/users/gmenon/notebooks/validation_song_metadata_en_demucs_cleaned.csv\",\n",
      "    \"MODEL_BACKBONE\": \"facebook/wav2vec2-large-960h-lv60-self\",\n",
      "    \"BATCH_SIZE\": 1,\n",
      "    \"NUM_EPOCHS\": 15,\n",
      "    \"MODEL_SAVE_PATH\": \"/home/users/gmenon/workspace/songsLyricsGenerator/src/model_artefacts/wav2vec2_demucs_en_finetuned_model.pt\",\n",
      "    \"FINETUNE_STRATEGY\": \"no_freeze_deepspeed\",\n",
      "    \"LR_SCHEDULER\": \"reduce_on_plateau_schedule\"\n",
      "}\n"
     ]
    },
    {
     "name": "stderr",
     "output_type": "stream",
     "text": [
      "\u001b[34m\u001b[1mwandb\u001b[0m: Currently logged in as: \u001b[33mgreeshmasmenon\u001b[0m (\u001b[33msongslyricstranscription\u001b[0m). Use \u001b[1m`wandb login --relogin`\u001b[0m to force relogin\n"
     ]
    },
    {
     "data": {
      "text/html": [
       "wandb version 0.15.8 is available!  To upgrade, please run:\n",
       " $ pip install wandb --upgrade"
      ],
      "text/plain": [
       "<IPython.core.display.HTML object>"
      ]
     },
     "metadata": {},
     "output_type": "display_data"
    },
    {
     "data": {
      "text/html": [
       "Tracking run with wandb version 0.15.7"
      ],
      "text/plain": [
       "<IPython.core.display.HTML object>"
      ]
     },
     "metadata": {},
     "output_type": "display_data"
    },
    {
     "data": {
      "text/html": [
       "Run data is saved locally in <code>./wandb/run-20230811_165551-gmt443il</code>"
      ],
      "text/plain": [
       "<IPython.core.display.HTML object>"
      ]
     },
     "metadata": {},
     "output_type": "display_data"
    },
    {
     "data": {
      "text/html": [
       "Syncing run <strong><a href='https://wandb.ai/songslyricstranscription/SLG%20-%20wav2vec2%20finetuning/runs/gmt443il' target=\"_blank\">ethereal-spaceship-29</a></strong> to <a href='https://wandb.ai/songslyricstranscription/SLG%20-%20wav2vec2%20finetuning' target=\"_blank\">Weights & Biases</a> (<a href='https://wandb.me/run' target=\"_blank\">docs</a>)<br/>"
      ],
      "text/plain": [
       "<IPython.core.display.HTML object>"
      ]
     },
     "metadata": {},
     "output_type": "display_data"
    },
    {
     "data": {
      "text/html": [
       " View project at <a href='https://wandb.ai/songslyricstranscription/SLG%20-%20wav2vec2%20finetuning' target=\"_blank\">https://wandb.ai/songslyricstranscription/SLG%20-%20wav2vec2%20finetuning</a>"
      ],
      "text/plain": [
       "<IPython.core.display.HTML object>"
      ]
     },
     "metadata": {},
     "output_type": "display_data"
    },
    {
     "data": {
      "text/html": [
       " View run at <a href='https://wandb.ai/songslyricstranscription/SLG%20-%20wav2vec2%20finetuning/runs/gmt443il' target=\"_blank\">https://wandb.ai/songslyricstranscription/SLG%20-%20wav2vec2%20finetuning/runs/gmt443il</a>"
      ],
      "text/plain": [
       "<IPython.core.display.HTML object>"
      ]
     },
     "metadata": {},
     "output_type": "display_data"
    },
    {
     "name": "stderr",
     "output_type": "stream",
     "text": [
      "Using 'facebook/wav2vec2-large-960h-lv60-self' provided by Hugging Face/transformers (https://github.com/huggingface/transformers).\n",
      "Some weights of Wav2Vec2ForCTC were not initialized from the model checkpoint at facebook/wav2vec2-large-960h-lv60-self and are newly initialized: ['wav2vec2.masked_spec_embed']\n",
      "You should probably TRAIN this model on a down-stream task to be able to use it for predictions and inference.\n",
      "Using 16bit None Automatic Mixed Precision (AMP)\n",
      "GPU available: True (cuda), used: True\n",
      "TPU available: False, using: 0 TPU cores\n",
      "IPU available: False, using: 0 IPUs\n",
      "HPU available: False, using: 0 HPUs\n"
     ]
    },
    {
     "name": "stdout",
     "output_type": "stream",
     "text": [
      "{\n",
      "    \"training\": [\n",
      "        4342,\n",
      "        8\n",
      "    ],\n",
      "    \"validation\": [\n",
      "        1086,\n",
      "        8\n",
      "    ]\n",
      "}\n"
     ]
    }
   ],
   "source": [
    "\n",
    "#print hyperparameters used for training this model into wandb\n",
    "print(json.dumps(asdict(WAV2VEC2_ARGS), indent = 4))\n",
    "\n",
    "speech_recognition_task = Wav2Vec2SpeechRecognition(wav2vec2_args=WAV2VEC2_ARGS)\n",
    "\n",
    "#print shape of data in console. Will be visible in wandb logger\n",
    "print(json.dumps(speech_recognition_task.shape(), indent = 4))\n"
   ]
  },
  {
   "cell_type": "code",
   "execution_count": 8,
   "id": "41802556-5179-400d-a63e-67a945dbead4",
   "metadata": {},
   "outputs": [
    {
     "name": "stderr",
     "output_type": "stream",
     "text": [
      "LOCAL_RANK: 0 - CUDA_VISIBLE_DEVICES: [0]\n",
      "\n",
      "  | Name          | Type           | Params\n",
      "-------------------------------------------------\n",
      "0 | model         | Wav2Vec2ForCTC | 315 M \n",
      "1 | train_metrics | ModuleDict     | 0     \n",
      "2 | val_metrics   | ModuleDict     | 0     \n",
      "3 | test_metrics  | ModuleDict     | 0     \n",
      "-------------------------------------------------\n",
      "315 M     Trainable params\n",
      "0         Non-trainable params\n",
      "315 M     Total params\n",
      "630.943   Total estimated model params size (MB)\n",
      "SLURM auto-requeueing enabled. Setting signal handlers.\n"
     ]
    },
    {
     "data": {
      "application/vnd.jupyter.widget-view+json": {
       "model_id": "6da196998d1a4b3fbd5e5a2a92aa30cf",
       "version_major": 2,
       "version_minor": 0
      },
      "text/plain": [
       "Training: 0it [00:00, ?it/s]"
      ]
     },
     "metadata": {},
     "output_type": "display_data"
    },
    {
     "name": "stderr",
     "output_type": "stream",
     "text": [
      "`Trainer.fit` stopped: `max_epochs=10` reached.\n"
     ]
    }
   ],
   "source": [
    "speech_recognition_task.finetune()"
   ]
  },
  {
   "cell_type": "code",
   "execution_count": 9,
   "id": "482b0836-ecf6-4ca7-8d5b-82d3f61aed31",
   "metadata": {},
   "outputs": [
    {
     "name": "stderr",
     "output_type": "stream",
     "text": [
      "Using 'facebook/wav2vec2-large-960h-lv60-self' provided by Hugging Face/transformers (https://github.com/huggingface/transformers).\n",
      "Some weights of Wav2Vec2ForCTC were not initialized from the model checkpoint at facebook/wav2vec2-large-960h-lv60-self and are newly initialized: ['wav2vec2.masked_spec_embed']\n",
      "You should probably TRAIN this model on a down-stream task to be able to use it for predictions and inference.\n",
      "LOCAL_RANK: 0 - CUDA_VISIBLE_DEVICES: [0]\n"
     ]
    },
    {
     "data": {
      "application/vnd.jupyter.widget-view+json": {
       "model_id": "faed3d24b67f4704988d3468859bf965",
       "version_major": 2,
       "version_minor": 0
      },
      "text/plain": [
       "Predicting: 4342it [00:00, ?it/s]"
      ]
     },
     "metadata": {},
     "output_type": "display_data"
    }
   ],
   "source": [
    "\n",
    "inference_files_lst = [\"/home/users/gmenon/workspace/songsLyricsGenerator/src/notebooks/separated/mdx_extra/ad887cbfa84749e5a9789f303e2f5c30/vocals.wav\",\n",
    "                  \"/home/users/gmenon/dali/DALI_v1.0/audio/wav_clips/ad887cbfa84749e5a9789f303e2f5c30.wav\"]\n",
    "\n",
    "inference_predictions = speech_recognition_task.inference(inference_files=inference_files_lst,\n",
    "                   batch_size=4,\n",
    "                   model_path=WAV2VEC2_ARGS.MODEL_SAVE_PATH,\n",
    "                  wav2vec2_trainer = speech_recognition_task.wav2vec2_trainer)\n"
   ]
  },
  {
   "cell_type": "code",
   "execution_count": 10,
   "id": "db5c5e11-9db4-431b-a540-75e1b8efb6cd",
   "metadata": {},
   "outputs": [
    {
     "name": "stdout",
     "output_type": "stream",
     "text": [
      "Inference Predictions = [['I AM NOT THE ONE I YU TO CLA', 'I AM  O I A LA']]\n",
      "Starting Validation dataset Word Error Rate Metric Calculation\n"
     ]
    }
   ],
   "source": [
    "print(f\"Inference Predictions = {inference_predictions}\")\n",
    "\n",
    "print(\"Starting Validation dataset Word Error Rate Metric Calculation\")\n"
   ]
  },
  {
   "cell_type": "code",
   "execution_count": 11,
   "id": "dfacfbc6-7337-4d30-a03a-8df172bb6dce",
   "metadata": {},
   "outputs": [],
   "source": [
    "test_data = pd.read_csv(WAV2VEC2_ARGS.TEST_FILE_PATH)\n",
    "\n",
    "test_datamodule = SpeechRecognitionData.from_files(\n",
    "    predict_files=list(test_data[\"consolidated_file_path\"]), \n",
    "    batch_size=1)\n"
   ]
  },
  {
   "cell_type": "code",
   "execution_count": 12,
   "id": "0873eb66-bf82-449a-bf57-e91ae50b1710",
   "metadata": {},
   "outputs": [
    {
     "name": "stderr",
     "output_type": "stream",
     "text": [
      "LOCAL_RANK: 0 - CUDA_VISIBLE_DEVICES: [0]\n"
     ]
    },
    {
     "data": {
      "application/vnd.jupyter.widget-view+json": {
       "model_id": "1b0745c78f0d4da8a147af9544c24129",
       "version_major": 2,
       "version_minor": 0
      },
      "text/plain": [
       "Predicting: 4342it [00:00, ?it/s]"
      ]
     },
     "metadata": {},
     "output_type": "display_data"
    }
   ],
   "source": [
    "finetuned_predictions = speech_recognition_task.wav2vec2_trainer.predict(speech_recognition_task.wav2vec2_model, \n",
    "                                                datamodule=test_datamodule)"
   ]
  },
  {
   "cell_type": "code",
   "execution_count": 13,
   "id": "4350f187-3d4d-4982-a9f5-5bf1adcf8391",
   "metadata": {},
   "outputs": [],
   "source": [
    "test_data[\"finetuned_predictions\"] = finetuned_predictions"
   ]
  },
  {
   "cell_type": "code",
   "execution_count": 14,
   "id": "74001a46-e9a1-482e-b9ab-708e5eee7f96",
   "metadata": {},
   "outputs": [],
   "source": [
    "\n",
    "finetuned_pred_transformed = []\n",
    "for predictions in finetuned_predictions:\n",
    "    finetuned_pred_transformed.append(predictions[0])"
   ]
  },
  {
   "cell_type": "code",
   "execution_count": 15,
   "id": "c5ec758f-0fb0-41f0-bc7d-2bb502c7d8e2",
   "metadata": {},
   "outputs": [],
   "source": [
    "reference = list(test_data[\"transcription_capitalized\"])"
   ]
  },
  {
   "cell_type": "code",
   "execution_count": 16,
   "id": "0bc7b5b4-ca21-45a9-adc9-71b073899309",
   "metadata": {},
   "outputs": [],
   "source": [
    "hypothesis = finetuned_pred_transformed\n"
   ]
  },
  {
   "cell_type": "code",
   "execution_count": 17,
   "id": "44bbe521-2848-42ae-9423-aae864cd4a63",
   "metadata": {},
   "outputs": [
    {
     "name": "stdout",
     "output_type": "stream",
     "text": [
      "Word Error Rate = 0.8220123501634581\n"
     ]
    }
   ],
   "source": [
    "error = wer(reference, hypothesis)\n",
    "print(f\"Word Error Rate = {error}\")"
   ]
  },
  {
   "cell_type": "markdown",
   "id": "ddb07ab2-2929-4e2c-a390-cf46a469156b",
   "metadata": {},
   "source": [
    "-----"
   ]
  },
  {
   "cell_type": "code",
   "execution_count": null,
   "id": "4a546567-4a63-4954-9f0a-3c6d4a36e6d6",
   "metadata": {},
   "outputs": [],
   "source": []
  }
 ],
 "metadata": {
  "kernelspec": {
   "display_name": "Python 3 (ipykernel)",
   "language": "python",
   "name": "python3"
  },
  "language_info": {
   "codemirror_mode": {
    "name": "ipython",
    "version": 3
   },
   "file_extension": ".py",
   "mimetype": "text/x-python",
   "name": "python",
   "nbconvert_exporter": "python",
   "pygments_lexer": "ipython3",
   "version": "3.8.6"
  }
 },
 "nbformat": 4,
 "nbformat_minor": 5
}
