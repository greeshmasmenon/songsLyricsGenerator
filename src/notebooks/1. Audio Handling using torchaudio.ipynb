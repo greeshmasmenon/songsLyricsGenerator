{
 "cells": [
  {
   "cell_type": "code",
   "execution_count": 17,
   "metadata": {},
   "outputs": [
    {
     "name": "stdout",
     "output_type": "stream",
     "text": [
      "Defaulting to user installation because normal site-packages is not writeable\n",
      "Looking in indexes: https://pypi.org/simple, https://pypi.ngc.nvidia.com\n",
      "Collecting fasttext\n",
      "  Downloading fasttext-0.9.2.tar.gz (68 kB)\n",
      "\u001b[2K     \u001b[38;2;114;156;31m━━━━━━━━━━━━━━━━━━━━━━━━━━━━━━━━━━━━━━━━\u001b[0m \u001b[32m68.8/68.8 kB\u001b[0m \u001b[31m13.6 MB/s\u001b[0m eta \u001b[36m0:00:00\u001b[0m\n",
      "\u001b[?25h  Preparing metadata (setup.py) ... \u001b[?25ldone\n",
      "\u001b[?25hCollecting pybind11>=2.2 (from fasttext)\n",
      "  Obtaining dependency information for pybind11>=2.2 from https://files.pythonhosted.org/packages/06/55/9f73c32dda93fa4f539fafa268f9504e83c489f460c380371d94296126cd/pybind11-2.11.1-py3-none-any.whl.metadata\n",
      "  Downloading pybind11-2.11.1-py3-none-any.whl.metadata (9.5 kB)\n",
      "Requirement already satisfied: setuptools>=0.7.0 in /mnt/irisgpfs/apps/resif/iris-rhel8/2020b/gpu/software/Python/3.8.6-GCCcore-10.2.0/lib/python3.8/site-packages (from fasttext) (50.3.0)\n",
      "Requirement already satisfied: numpy in /mnt/irisgpfs/users/gmenon/.local/lib/python3.8/site-packages (from fasttext) (1.23.5)\n",
      "Downloading pybind11-2.11.1-py3-none-any.whl (227 kB)\n",
      "\u001b[2K   \u001b[38;2;114;156;31m━━━━━━━━━━━━━━━━━━━━━━━━━━━━━━━━━━━━━━━━\u001b[0m \u001b[32m227.7/227.7 kB\u001b[0m \u001b[31m53.8 MB/s\u001b[0m eta \u001b[36m0:00:00\u001b[0m\n",
      "\u001b[?25hBuilding wheels for collected packages: fasttext\n",
      "  Building wheel for fasttext (setup.py) ... \u001b[?25ldone\n",
      "\u001b[?25h  Created wheel for fasttext: filename=fasttext-0.9.2-cp38-cp38-linux_x86_64.whl size=4282569 sha256=a484607de3ae501ef2fa23157f1c0e4856d7b2dcaa77afb1780d9b8705389fa3\n",
      "  Stored in directory: /tmp/pip-ephem-wheel-cache-3u2935t8/wheels/93/61/2a/c54711a91c418ba06ba195b1d78ff24fcaad8592f2a694ac94\n",
      "Successfully built fasttext\n",
      "Installing collected packages: pybind11, fasttext\n",
      "Successfully installed fasttext-0.9.2 pybind11-2.11.1\n",
      "Defaulting to user installation because normal site-packages is not writeable\n",
      "Looking in indexes: https://pypi.org/simple, https://pypi.ngc.nvidia.com\n",
      "Collecting fasttext-langdetect\n",
      "  Downloading fasttext-langdetect-1.0.5.tar.gz (6.8 kB)\n",
      "  Preparing metadata (setup.py) ... \u001b[?25ldone\n",
      "\u001b[?25hRequirement already satisfied: fasttext>=0.9.1 in /mnt/irisgpfs/users/gmenon/.local/lib/python3.8/site-packages (from fasttext-langdetect) (0.9.2)\n",
      "Requirement already satisfied: requests>=2.22.0 in /mnt/irisgpfs/users/gmenon/.local/lib/python3.8/site-packages (from fasttext-langdetect) (2.28.2)\n",
      "Requirement already satisfied: pybind11>=2.2 in /mnt/irisgpfs/users/gmenon/.local/lib/python3.8/site-packages (from fasttext>=0.9.1->fasttext-langdetect) (2.11.1)\n",
      "Requirement already satisfied: setuptools>=0.7.0 in /mnt/irisgpfs/apps/resif/iris-rhel8/2020b/gpu/software/Python/3.8.6-GCCcore-10.2.0/lib/python3.8/site-packages (from fasttext>=0.9.1->fasttext-langdetect) (50.3.0)\n",
      "Requirement already satisfied: numpy in /mnt/irisgpfs/users/gmenon/.local/lib/python3.8/site-packages (from fasttext>=0.9.1->fasttext-langdetect) (1.23.5)\n",
      "Requirement already satisfied: charset-normalizer<4,>=2 in /mnt/irisgpfs/users/gmenon/.local/lib/python3.8/site-packages (from requests>=2.22.0->fasttext-langdetect) (3.1.0)\n",
      "Requirement already satisfied: idna<4,>=2.5 in /mnt/irisgpfs/apps/resif/iris-rhel8/2020b/gpu/software/Python/3.8.6-GCCcore-10.2.0/lib/python3.8/site-packages (from requests>=2.22.0->fasttext-langdetect) (2.10)\n",
      "Requirement already satisfied: urllib3<1.27,>=1.21.1 in /mnt/irisgpfs/apps/resif/iris-rhel8/2020b/gpu/software/Python/3.8.6-GCCcore-10.2.0/lib/python3.8/site-packages (from requests>=2.22.0->fasttext-langdetect) (1.25.10)\n",
      "Requirement already satisfied: certifi>=2017.4.17 in /mnt/irisgpfs/apps/resif/iris-rhel8/2020b/gpu/software/Python/3.8.6-GCCcore-10.2.0/lib/python3.8/site-packages (from requests>=2.22.0->fasttext-langdetect) (2020.6.20)\n",
      "Building wheels for collected packages: fasttext-langdetect\n",
      "  Building wheel for fasttext-langdetect (setup.py) ... \u001b[?25ldone\n",
      "\u001b[?25h  Created wheel for fasttext-langdetect: filename=fasttext_langdetect-1.0.5-py3-none-any.whl size=7507 sha256=5f462feecd2b3dae42cc315708ee6d827ed6b4a79d8a728afdb5f05b2b5bc4c5\n",
      "  Stored in directory: /tmp/pip-ephem-wheel-cache-xpc4egma/wheels/ba/0c/91/bd32e760105a77b98238686ace395c1e8cc1602b4b1e2be852\n",
      "Successfully built fasttext-langdetect\n",
      "Installing collected packages: fasttext-langdetect\n",
      "Successfully installed fasttext-langdetect-1.0.5\n"
     ]
    }
   ],
   "source": [
    "!pip install fasttext\n",
    "! pip install fasttext-langdetect"
   ]
  },
  {
   "cell_type": "code",
   "execution_count": 18,
   "metadata": {},
   "outputs": [],
   "source": [
    "import torch"
   ]
  },
  {
   "cell_type": "code",
   "execution_count": 19,
   "metadata": {},
   "outputs": [
    {
     "data": {
      "text/plain": [
       "'2.0.0+cu117'"
      ]
     },
     "execution_count": 19,
     "metadata": {},
     "output_type": "execute_result"
    }
   ],
   "source": [
    "torch.__version__"
   ]
  },
  {
   "cell_type": "code",
   "execution_count": 32,
   "metadata": {},
   "outputs": [
    {
     "name": "stdout",
     "output_type": "stream",
     "text": [
      "Defaulting to user installation because normal site-packages is not writeable\n",
      "Looking in indexes: https://pypi.org/simple, https://pypi.ngc.nvidia.com\n",
      "Requirement already satisfied: lightning-flash in /mnt/irisgpfs/users/gmenon/.local/lib/python3.8/site-packages (0.8.2)\n",
      "Requirement already satisfied: packaging in /mnt/irisgpfs/users/gmenon/.local/lib/python3.8/site-packages (from lightning-flash) (23.1)\n",
      "Requirement already satisfied: setuptools in /mnt/irisgpfs/apps/resif/iris-rhel8/2020b/gpu/software/Python/3.8.6-GCCcore-10.2.0/lib/python3.8/site-packages (from lightning-flash) (50.3.0)\n",
      "Requirement already satisfied: numpy in /mnt/irisgpfs/users/gmenon/.local/lib/python3.8/site-packages (from lightning-flash) (1.23.5)\n",
      "Requirement already satisfied: torch>1.7.0 in /mnt/irisgpfs/users/gmenon/.local/lib/python3.8/site-packages (from lightning-flash) (2.0.0)\n",
      "Requirement already satisfied: torchmetrics<0.11.0,>0.7.0 in /mnt/irisgpfs/users/gmenon/.local/lib/python3.8/site-packages (from lightning-flash) (0.10.3)\n",
      "Requirement already satisfied: pytorch-lightning<2.0.0,>1.8.0 in /mnt/irisgpfs/users/gmenon/.local/lib/python3.8/site-packages (from lightning-flash) (1.9.5)\n",
      "Requirement already satisfied: pyDeprecate>0.2.0 in /mnt/irisgpfs/users/gmenon/.local/lib/python3.8/site-packages (from lightning-flash) (0.3.2)\n",
      "Requirement already satisfied: pandas>1.1.0 in /mnt/irisgpfs/users/gmenon/.local/lib/python3.8/site-packages (from lightning-flash) (1.5.3)\n",
      "Requirement already satisfied: jsonargparse[signatures]>=4.22.0 in /mnt/irisgpfs/users/gmenon/.local/lib/python3.8/site-packages (from lightning-flash) (4.22.1)\n",
      "Requirement already satisfied: click>=7.1.2 in /mnt/irisgpfs/apps/resif/iris-rhel8/2020b/gpu/software/Python/3.8.6-GCCcore-10.2.0/lib/python3.8/site-packages (from lightning-flash) (7.1.2)\n",
      "Requirement already satisfied: protobuf in /mnt/irisgpfs/users/gmenon/.local/lib/python3.8/site-packages (from lightning-flash) (4.23.4)\n",
      "Requirement already satisfied: fsspec[http]>=2022.5.0 in /mnt/irisgpfs/users/gmenon/.local/lib/python3.8/site-packages (from lightning-flash) (2023.6.0)\n",
      "Requirement already satisfied: lightning-utilities>=0.4.1 in /mnt/irisgpfs/users/gmenon/.local/lib/python3.8/site-packages (from lightning-flash) (0.9.0)\n",
      "Requirement already satisfied: requests in /mnt/irisgpfs/users/gmenon/.local/lib/python3.8/site-packages (from fsspec[http]>=2022.5.0->lightning-flash) (2.28.2)\n",
      "Requirement already satisfied: aiohttp!=4.0.0a0,!=4.0.0a1 in /mnt/irisgpfs/users/gmenon/.local/lib/python3.8/site-packages (from fsspec[http]>=2022.5.0->lightning-flash) (3.8.4)\n",
      "Requirement already satisfied: PyYAML>=3.13 in /mnt/irisgpfs/users/gmenon/.local/lib/python3.8/site-packages (from jsonargparse[signatures]>=4.22.0->lightning-flash) (6.0)\n",
      "Requirement already satisfied: docstring-parser>=0.15 in /mnt/irisgpfs/users/gmenon/.local/lib/python3.8/site-packages (from jsonargparse[signatures]>=4.22.0->lightning-flash) (0.15)\n",
      "Requirement already satisfied: typeshed-client>=2.1.0 in /mnt/irisgpfs/users/gmenon/.local/lib/python3.8/site-packages (from jsonargparse[signatures]>=4.22.0->lightning-flash) (2.3.0)\n",
      "Requirement already satisfied: typing-extensions in /mnt/irisgpfs/users/gmenon/.local/lib/python3.8/site-packages (from lightning-utilities>=0.4.1->lightning-flash) (4.5.0)\n",
      "Requirement already satisfied: python-dateutil>=2.8.1 in /mnt/irisgpfs/users/gmenon/.local/lib/python3.8/site-packages (from pandas>1.1.0->lightning-flash) (2.8.2)\n",
      "Requirement already satisfied: pytz>=2020.1 in /mnt/irisgpfs/apps/resif/iris-rhel8/2020b/gpu/software/Python/3.8.6-GCCcore-10.2.0/lib/python3.8/site-packages (from pandas>1.1.0->lightning-flash) (2020.1)\n",
      "Requirement already satisfied: tqdm>=4.57.0 in /mnt/irisgpfs/users/gmenon/.local/lib/python3.8/site-packages (from pytorch-lightning<2.0.0,>1.8.0->lightning-flash) (4.65.0)\n",
      "Requirement already satisfied: filelock in /mnt/irisgpfs/apps/resif/iris-rhel8/2020b/gpu/software/Python/3.8.6-GCCcore-10.2.0/lib/python3.8/site-packages (from torch>1.7.0->lightning-flash) (3.0.12)\n",
      "Requirement already satisfied: sympy in /mnt/irisgpfs/users/gmenon/.local/lib/python3.8/site-packages (from torch>1.7.0->lightning-flash) (1.11.1)\n",
      "Requirement already satisfied: networkx in /mnt/irisgpfs/users/gmenon/.local/lib/python3.8/site-packages (from torch>1.7.0->lightning-flash) (3.0)\n",
      "Requirement already satisfied: jinja2 in /mnt/irisgpfs/users/gmenon/.local/lib/python3.8/site-packages (from torch>1.7.0->lightning-flash) (3.1.2)\n",
      "Requirement already satisfied: nvidia-cuda-nvrtc-cu11==11.7.99 in /mnt/irisgpfs/users/gmenon/.local/lib/python3.8/site-packages (from torch>1.7.0->lightning-flash) (11.7.99)\n",
      "Requirement already satisfied: nvidia-cuda-runtime-cu11==11.7.99 in /mnt/irisgpfs/users/gmenon/.local/lib/python3.8/site-packages (from torch>1.7.0->lightning-flash) (11.7.99)\n",
      "Requirement already satisfied: nvidia-cuda-cupti-cu11==11.7.101 in /mnt/irisgpfs/users/gmenon/.local/lib/python3.8/site-packages (from torch>1.7.0->lightning-flash) (11.7.101)\n",
      "Requirement already satisfied: nvidia-cudnn-cu11==8.5.0.96 in /mnt/irisgpfs/users/gmenon/.local/lib/python3.8/site-packages (from torch>1.7.0->lightning-flash) (8.5.0.96)\n",
      "Requirement already satisfied: nvidia-cublas-cu11==11.10.3.66 in /mnt/irisgpfs/users/gmenon/.local/lib/python3.8/site-packages (from torch>1.7.0->lightning-flash) (11.10.3.66)\n",
      "Requirement already satisfied: nvidia-cufft-cu11==10.9.0.58 in /mnt/irisgpfs/users/gmenon/.local/lib/python3.8/site-packages (from torch>1.7.0->lightning-flash) (10.9.0.58)\n",
      "Requirement already satisfied: nvidia-curand-cu11==10.2.10.91 in /mnt/irisgpfs/users/gmenon/.local/lib/python3.8/site-packages (from torch>1.7.0->lightning-flash) (10.2.10.91)\n",
      "Requirement already satisfied: nvidia-cusolver-cu11==11.4.0.1 in /mnt/irisgpfs/users/gmenon/.local/lib/python3.8/site-packages (from torch>1.7.0->lightning-flash) (11.4.0.1)\n",
      "Requirement already satisfied: nvidia-cusparse-cu11==11.7.4.91 in /mnt/irisgpfs/users/gmenon/.local/lib/python3.8/site-packages (from torch>1.7.0->lightning-flash) (11.7.4.91)\n",
      "Requirement already satisfied: nvidia-nccl-cu11==2.14.3 in /mnt/irisgpfs/users/gmenon/.local/lib/python3.8/site-packages (from torch>1.7.0->lightning-flash) (2.14.3)\n",
      "Requirement already satisfied: nvidia-nvtx-cu11==11.7.91 in /mnt/irisgpfs/users/gmenon/.local/lib/python3.8/site-packages (from torch>1.7.0->lightning-flash) (11.7.91)\n",
      "Requirement already satisfied: triton==2.0.0 in /mnt/irisgpfs/users/gmenon/.local/lib/python3.8/site-packages (from torch>1.7.0->lightning-flash) (2.0.0)\n",
      "Requirement already satisfied: wheel in /mnt/irisgpfs/users/gmenon/.local/lib/python3.8/site-packages (from nvidia-cublas-cu11==11.10.3.66->torch>1.7.0->lightning-flash) (0.40.0)\n",
      "Requirement already satisfied: cmake in /mnt/irisgpfs/users/gmenon/.local/lib/python3.8/site-packages (from triton==2.0.0->torch>1.7.0->lightning-flash) (3.26.0)\n",
      "Requirement already satisfied: lit in /mnt/irisgpfs/users/gmenon/.local/lib/python3.8/site-packages (from triton==2.0.0->torch>1.7.0->lightning-flash) (15.0.7)\n",
      "Requirement already satisfied: attrs>=17.3.0 in /mnt/irisgpfs/apps/resif/iris-rhel8/2020b/gpu/software/Python/3.8.6-GCCcore-10.2.0/lib/python3.8/site-packages (from aiohttp!=4.0.0a0,!=4.0.0a1->fsspec[http]>=2022.5.0->lightning-flash) (20.2.0)\n",
      "Requirement already satisfied: charset-normalizer<4.0,>=2.0 in /mnt/irisgpfs/users/gmenon/.local/lib/python3.8/site-packages (from aiohttp!=4.0.0a0,!=4.0.0a1->fsspec[http]>=2022.5.0->lightning-flash) (3.1.0)\n",
      "Requirement already satisfied: multidict<7.0,>=4.5 in /mnt/irisgpfs/users/gmenon/.local/lib/python3.8/site-packages (from aiohttp!=4.0.0a0,!=4.0.0a1->fsspec[http]>=2022.5.0->lightning-flash) (6.0.4)\n",
      "Requirement already satisfied: async-timeout<5.0,>=4.0.0a3 in /mnt/irisgpfs/users/gmenon/.local/lib/python3.8/site-packages (from aiohttp!=4.0.0a0,!=4.0.0a1->fsspec[http]>=2022.5.0->lightning-flash) (4.0.2)\n",
      "Requirement already satisfied: yarl<2.0,>=1.0 in /mnt/irisgpfs/users/gmenon/.local/lib/python3.8/site-packages (from aiohttp!=4.0.0a0,!=4.0.0a1->fsspec[http]>=2022.5.0->lightning-flash) (1.9.2)\n",
      "Requirement already satisfied: frozenlist>=1.1.1 in /mnt/irisgpfs/users/gmenon/.local/lib/python3.8/site-packages (from aiohttp!=4.0.0a0,!=4.0.0a1->fsspec[http]>=2022.5.0->lightning-flash) (1.3.3)\n",
      "Requirement already satisfied: aiosignal>=1.1.2 in /mnt/irisgpfs/users/gmenon/.local/lib/python3.8/site-packages (from aiohttp!=4.0.0a0,!=4.0.0a1->fsspec[http]>=2022.5.0->lightning-flash) (1.3.1)\n",
      "Requirement already satisfied: six>=1.5 in /mnt/irisgpfs/apps/resif/iris-rhel8/2020b/gpu/software/Python/3.8.6-GCCcore-10.2.0/lib/python3.8/site-packages (from python-dateutil>=2.8.1->pandas>1.1.0->lightning-flash) (1.15.0)\n"
     ]
    },
    {
     "name": "stdout",
     "output_type": "stream",
     "text": [
      "Requirement already satisfied: importlib-resources>=1.4.0 in /mnt/irisgpfs/users/gmenon/.local/lib/python3.8/site-packages (from typeshed-client>=2.1.0->jsonargparse[signatures]>=4.22.0->lightning-flash) (5.12.0)\n",
      "Requirement already satisfied: MarkupSafe>=2.0 in /mnt/irisgpfs/users/gmenon/.local/lib/python3.8/site-packages (from jinja2->torch>1.7.0->lightning-flash) (2.0.1)\n",
      "Requirement already satisfied: idna<4,>=2.5 in /mnt/irisgpfs/apps/resif/iris-rhel8/2020b/gpu/software/Python/3.8.6-GCCcore-10.2.0/lib/python3.8/site-packages (from requests->fsspec[http]>=2022.5.0->lightning-flash) (2.10)\n",
      "Requirement already satisfied: urllib3<1.27,>=1.21.1 in /mnt/irisgpfs/apps/resif/iris-rhel8/2020b/gpu/software/Python/3.8.6-GCCcore-10.2.0/lib/python3.8/site-packages (from requests->fsspec[http]>=2022.5.0->lightning-flash) (1.25.10)\n",
      "Requirement already satisfied: certifi>=2017.4.17 in /mnt/irisgpfs/apps/resif/iris-rhel8/2020b/gpu/software/Python/3.8.6-GCCcore-10.2.0/lib/python3.8/site-packages (from requests->fsspec[http]>=2022.5.0->lightning-flash) (2020.6.20)\n",
      "Requirement already satisfied: mpmath>=0.19 in /mnt/irisgpfs/users/gmenon/.local/lib/python3.8/site-packages (from sympy->torch>1.7.0->lightning-flash) (1.3.0)\n",
      "Requirement already satisfied: zipp>=3.1.0 in /mnt/irisgpfs/apps/resif/iris-rhel8/2020b/gpu/software/Python/3.8.6-GCCcore-10.2.0/lib/python3.8/site-packages (from importlib-resources>=1.4.0->typeshed-client>=2.1.0->jsonargparse[signatures]>=4.22.0->lightning-flash) (3.3.0)\n",
      "Defaulting to user installation because normal site-packages is not writeable\n",
      "Looking in indexes: https://pypi.org/simple, https://pypi.ngc.nvidia.com\n",
      "Requirement already satisfied: lightning-flash[audio,text] in /mnt/irisgpfs/users/gmenon/.local/lib/python3.8/site-packages (0.8.2)\n",
      "Requirement already satisfied: packaging in /mnt/irisgpfs/users/gmenon/.local/lib/python3.8/site-packages (from lightning-flash[audio,text]) (23.1)\n",
      "Requirement already satisfied: setuptools in /mnt/irisgpfs/apps/resif/iris-rhel8/2020b/gpu/software/Python/3.8.6-GCCcore-10.2.0/lib/python3.8/site-packages (from lightning-flash[audio,text]) (50.3.0)\n",
      "Requirement already satisfied: numpy in /mnt/irisgpfs/users/gmenon/.local/lib/python3.8/site-packages (from lightning-flash[audio,text]) (1.23.5)\n",
      "Requirement already satisfied: torch>1.7.0 in /mnt/irisgpfs/users/gmenon/.local/lib/python3.8/site-packages (from lightning-flash[audio,text]) (2.0.0)\n",
      "Requirement already satisfied: torchmetrics<0.11.0,>0.7.0 in /mnt/irisgpfs/users/gmenon/.local/lib/python3.8/site-packages (from lightning-flash[audio,text]) (0.10.3)\n",
      "Requirement already satisfied: pytorch-lightning<2.0.0,>1.8.0 in /mnt/irisgpfs/users/gmenon/.local/lib/python3.8/site-packages (from lightning-flash[audio,text]) (1.9.5)\n",
      "Requirement already satisfied: pyDeprecate>0.2.0 in /mnt/irisgpfs/users/gmenon/.local/lib/python3.8/site-packages (from lightning-flash[audio,text]) (0.3.2)\n",
      "Requirement already satisfied: pandas>1.1.0 in /mnt/irisgpfs/users/gmenon/.local/lib/python3.8/site-packages (from lightning-flash[audio,text]) (1.5.3)\n",
      "Requirement already satisfied: jsonargparse[signatures]>=4.22.0 in /mnt/irisgpfs/users/gmenon/.local/lib/python3.8/site-packages (from lightning-flash[audio,text]) (4.22.1)\n",
      "Requirement already satisfied: click>=7.1.2 in /mnt/irisgpfs/apps/resif/iris-rhel8/2020b/gpu/software/Python/3.8.6-GCCcore-10.2.0/lib/python3.8/site-packages (from lightning-flash[audio,text]) (7.1.2)\n",
      "Requirement already satisfied: protobuf in /mnt/irisgpfs/users/gmenon/.local/lib/python3.8/site-packages (from lightning-flash[audio,text]) (4.23.4)\n",
      "Requirement already satisfied: fsspec[http]>=2022.5.0 in /mnt/irisgpfs/users/gmenon/.local/lib/python3.8/site-packages (from lightning-flash[audio,text]) (2023.6.0)\n",
      "Requirement already satisfied: lightning-utilities>=0.4.1 in /mnt/irisgpfs/users/gmenon/.local/lib/python3.8/site-packages (from lightning-flash[audio,text]) (0.9.0)\n",
      "Requirement already satisfied: librosa>=0.8.1post2 in /mnt/irisgpfs/users/gmenon/.local/lib/python3.8/site-packages (from lightning-flash[audio,text]) (0.10.0.post1)\n",
      "Requirement already satisfied: datasets>1.16.1 in /mnt/irisgpfs/users/gmenon/.local/lib/python3.8/site-packages (from lightning-flash[audio,text]) (2.13.1)\n",
      "Requirement already satisfied: torchaudio in /mnt/irisgpfs/users/gmenon/.local/lib/python3.8/site-packages (from lightning-flash[audio,text]) (2.0.1)\n",
      "Requirement already satisfied: torchvision in /mnt/irisgpfs/users/gmenon/.local/lib/python3.8/site-packages (from lightning-flash[audio,text]) (0.15.1)\n",
      "Requirement already satisfied: transformers>=4.13.0 in /mnt/irisgpfs/users/gmenon/.local/lib/python3.8/site-packages (from lightning-flash[audio,text]) (4.30.2)\n",
      "Requirement already satisfied: regex in /mnt/irisgpfs/users/gmenon/.local/lib/python3.8/site-packages (from lightning-flash[audio,text]) (2023.6.3)\n",
      "Requirement already satisfied: sentencepiece>=0.1.95 in /mnt/irisgpfs/users/gmenon/.local/lib/python3.8/site-packages (from lightning-flash[audio,text]) (0.1.99)\n",
      "Requirement already satisfied: filelock in /mnt/irisgpfs/apps/resif/iris-rhel8/2020b/gpu/software/Python/3.8.6-GCCcore-10.2.0/lib/python3.8/site-packages (from lightning-flash[audio,text]) (3.0.12)\n",
      "Requirement already satisfied: sentence-transformers in /mnt/irisgpfs/users/gmenon/.local/lib/python3.8/site-packages (from lightning-flash[audio,text]) (2.2.2)\n",
      "Requirement already satisfied: ftfy in /mnt/irisgpfs/users/gmenon/.local/lib/python3.8/site-packages (from lightning-flash[audio,text]) (6.1.1)\n",
      "Requirement already satisfied: pyarrow>=8.0.0 in /mnt/irisgpfs/users/gmenon/.local/lib/python3.8/site-packages (from datasets>1.16.1->lightning-flash[audio,text]) (12.0.1)\n",
      "Requirement already satisfied: dill<0.3.7,>=0.3.0 in /mnt/irisgpfs/users/gmenon/.local/lib/python3.8/site-packages (from datasets>1.16.1->lightning-flash[audio,text]) (0.3.6)\n",
      "Requirement already satisfied: requests>=2.19.0 in /mnt/irisgpfs/users/gmenon/.local/lib/python3.8/site-packages (from datasets>1.16.1->lightning-flash[audio,text]) (2.28.2)\n",
      "Requirement already satisfied: tqdm>=4.62.1 in /mnt/irisgpfs/users/gmenon/.local/lib/python3.8/site-packages (from datasets>1.16.1->lightning-flash[audio,text]) (4.65.0)\n",
      "Requirement already satisfied: xxhash in /mnt/irisgpfs/users/gmenon/.local/lib/python3.8/site-packages (from datasets>1.16.1->lightning-flash[audio,text]) (3.2.0)\n",
      "Requirement already satisfied: multiprocess in /mnt/irisgpfs/users/gmenon/.local/lib/python3.8/site-packages (from datasets>1.16.1->lightning-flash[audio,text]) (0.70.14)\n",
      "Requirement already satisfied: aiohttp in /mnt/irisgpfs/users/gmenon/.local/lib/python3.8/site-packages (from datasets>1.16.1->lightning-flash[audio,text]) (3.8.4)\n",
      "Requirement already satisfied: huggingface-hub<1.0.0,>=0.11.0 in /mnt/irisgpfs/users/gmenon/.local/lib/python3.8/site-packages (from datasets>1.16.1->lightning-flash[audio,text]) (0.16.4)\n",
      "Requirement already satisfied: pyyaml>=5.1 in /mnt/irisgpfs/users/gmenon/.local/lib/python3.8/site-packages (from datasets>1.16.1->lightning-flash[audio,text]) (6.0)\n",
      "Requirement already satisfied: docstring-parser>=0.15 in /mnt/irisgpfs/users/gmenon/.local/lib/python3.8/site-packages (from jsonargparse[signatures]>=4.22.0->lightning-flash[audio,text]) (0.15)\n",
      "Requirement already satisfied: typeshed-client>=2.1.0 in /mnt/irisgpfs/users/gmenon/.local/lib/python3.8/site-packages (from jsonargparse[signatures]>=4.22.0->lightning-flash[audio,text]) (2.3.0)\n",
      "Requirement already satisfied: audioread>=2.1.9 in /mnt/irisgpfs/users/gmenon/.local/lib/python3.8/site-packages (from librosa>=0.8.1post2->lightning-flash[audio,text]) (3.0.0)\n",
      "Requirement already satisfied: scipy>=1.2.0 in /mnt/irisgpfs/users/gmenon/.local/lib/python3.8/site-packages (from librosa>=0.8.1post2->lightning-flash[audio,text]) (1.10.1)\n",
      "Requirement already satisfied: scikit-learn>=0.20.0 in /mnt/irisgpfs/users/gmenon/.local/lib/python3.8/site-packages (from librosa>=0.8.1post2->lightning-flash[audio,text]) (1.2.2)\n",
      "Requirement already satisfied: joblib>=0.14 in /mnt/irisgpfs/users/gmenon/.local/lib/python3.8/site-packages (from librosa>=0.8.1post2->lightning-flash[audio,text]) (1.3.1)\n",
      "Requirement already satisfied: decorator>=4.3.0 in /mnt/irisgpfs/apps/resif/iris-rhel8/2020b/gpu/software/Python/3.8.6-GCCcore-10.2.0/lib/python3.8/site-packages (from librosa>=0.8.1post2->lightning-flash[audio,text]) (4.4.2)\n",
      "Requirement already satisfied: numba>=0.51.0 in /mnt/irisgpfs/users/gmenon/.local/lib/python3.8/site-packages (from librosa>=0.8.1post2->lightning-flash[audio,text]) (0.56.4)\n",
      "Requirement already satisfied: soundfile>=0.12.1 in /mnt/irisgpfs/users/gmenon/.local/lib/python3.8/site-packages (from librosa>=0.8.1post2->lightning-flash[audio,text]) (0.12.1)\n",
      "Requirement already satisfied: pooch>=1.0 in /mnt/irisgpfs/users/gmenon/.local/lib/python3.8/site-packages (from librosa>=0.8.1post2->lightning-flash[audio,text]) (1.7.0)\n",
      "Requirement already satisfied: soxr>=0.3.2 in /mnt/irisgpfs/users/gmenon/.local/lib/python3.8/site-packages (from librosa>=0.8.1post2->lightning-flash[audio,text]) (0.3.4)\n",
      "Requirement already satisfied: typing-extensions>=4.1.1 in /mnt/irisgpfs/users/gmenon/.local/lib/python3.8/site-packages (from librosa>=0.8.1post2->lightning-flash[audio,text]) (4.5.0)\n",
      "Requirement already satisfied: lazy-loader>=0.1 in /mnt/irisgpfs/users/gmenon/.local/lib/python3.8/site-packages (from librosa>=0.8.1post2->lightning-flash[audio,text]) (0.1)\n",
      "Requirement already satisfied: msgpack>=1.0 in /mnt/irisgpfs/apps/resif/iris-rhel8/2020b/gpu/software/Python/3.8.6-GCCcore-10.2.0/lib/python3.8/site-packages (from librosa>=0.8.1post2->lightning-flash[audio,text]) (1.0.0)\n",
      "Requirement already satisfied: python-dateutil>=2.8.1 in /mnt/irisgpfs/users/gmenon/.local/lib/python3.8/site-packages (from pandas>1.1.0->lightning-flash[audio,text]) (2.8.2)\n",
      "Requirement already satisfied: pytz>=2020.1 in /mnt/irisgpfs/apps/resif/iris-rhel8/2020b/gpu/software/Python/3.8.6-GCCcore-10.2.0/lib/python3.8/site-packages (from pandas>1.1.0->lightning-flash[audio,text]) (2020.1)\n"
     ]
    },
    {
     "name": "stdout",
     "output_type": "stream",
     "text": [
      "Requirement already satisfied: sympy in /mnt/irisgpfs/users/gmenon/.local/lib/python3.8/site-packages (from torch>1.7.0->lightning-flash[audio,text]) (1.11.1)\n",
      "Requirement already satisfied: networkx in /mnt/irisgpfs/users/gmenon/.local/lib/python3.8/site-packages (from torch>1.7.0->lightning-flash[audio,text]) (3.0)\n",
      "Requirement already satisfied: jinja2 in /mnt/irisgpfs/users/gmenon/.local/lib/python3.8/site-packages (from torch>1.7.0->lightning-flash[audio,text]) (3.1.2)\n",
      "Requirement already satisfied: nvidia-cuda-nvrtc-cu11==11.7.99 in /mnt/irisgpfs/users/gmenon/.local/lib/python3.8/site-packages (from torch>1.7.0->lightning-flash[audio,text]) (11.7.99)\n",
      "Requirement already satisfied: nvidia-cuda-runtime-cu11==11.7.99 in /mnt/irisgpfs/users/gmenon/.local/lib/python3.8/site-packages (from torch>1.7.0->lightning-flash[audio,text]) (11.7.99)\n",
      "Requirement already satisfied: nvidia-cuda-cupti-cu11==11.7.101 in /mnt/irisgpfs/users/gmenon/.local/lib/python3.8/site-packages (from torch>1.7.0->lightning-flash[audio,text]) (11.7.101)\n",
      "Requirement already satisfied: nvidia-cudnn-cu11==8.5.0.96 in /mnt/irisgpfs/users/gmenon/.local/lib/python3.8/site-packages (from torch>1.7.0->lightning-flash[audio,text]) (8.5.0.96)\n",
      "Requirement already satisfied: nvidia-cublas-cu11==11.10.3.66 in /mnt/irisgpfs/users/gmenon/.local/lib/python3.8/site-packages (from torch>1.7.0->lightning-flash[audio,text]) (11.10.3.66)\n",
      "Requirement already satisfied: nvidia-cufft-cu11==10.9.0.58 in /mnt/irisgpfs/users/gmenon/.local/lib/python3.8/site-packages (from torch>1.7.0->lightning-flash[audio,text]) (10.9.0.58)\n",
      "Requirement already satisfied: nvidia-curand-cu11==10.2.10.91 in /mnt/irisgpfs/users/gmenon/.local/lib/python3.8/site-packages (from torch>1.7.0->lightning-flash[audio,text]) (10.2.10.91)\n",
      "Requirement already satisfied: nvidia-cusolver-cu11==11.4.0.1 in /mnt/irisgpfs/users/gmenon/.local/lib/python3.8/site-packages (from torch>1.7.0->lightning-flash[audio,text]) (11.4.0.1)\n",
      "Requirement already satisfied: nvidia-cusparse-cu11==11.7.4.91 in /mnt/irisgpfs/users/gmenon/.local/lib/python3.8/site-packages (from torch>1.7.0->lightning-flash[audio,text]) (11.7.4.91)\n",
      "Requirement already satisfied: nvidia-nccl-cu11==2.14.3 in /mnt/irisgpfs/users/gmenon/.local/lib/python3.8/site-packages (from torch>1.7.0->lightning-flash[audio,text]) (2.14.3)\n",
      "Requirement already satisfied: nvidia-nvtx-cu11==11.7.91 in /mnt/irisgpfs/users/gmenon/.local/lib/python3.8/site-packages (from torch>1.7.0->lightning-flash[audio,text]) (11.7.91)\n",
      "Requirement already satisfied: triton==2.0.0 in /mnt/irisgpfs/users/gmenon/.local/lib/python3.8/site-packages (from torch>1.7.0->lightning-flash[audio,text]) (2.0.0)\n",
      "Requirement already satisfied: wheel in /mnt/irisgpfs/users/gmenon/.local/lib/python3.8/site-packages (from nvidia-cublas-cu11==11.10.3.66->torch>1.7.0->lightning-flash[audio,text]) (0.40.0)\n",
      "Requirement already satisfied: cmake in /mnt/irisgpfs/users/gmenon/.local/lib/python3.8/site-packages (from triton==2.0.0->torch>1.7.0->lightning-flash[audio,text]) (3.26.0)\n",
      "Requirement already satisfied: lit in /mnt/irisgpfs/users/gmenon/.local/lib/python3.8/site-packages (from triton==2.0.0->torch>1.7.0->lightning-flash[audio,text]) (15.0.7)\n",
      "Requirement already satisfied: nltk>=3.6 in /mnt/irisgpfs/users/gmenon/.local/lib/python3.8/site-packages (from torchmetrics<0.11.0,>0.7.0->lightning-flash[audio,text]) (3.8.1)\n",
      "Requirement already satisfied: tokenizers!=0.11.3,<0.14,>=0.11.1 in /mnt/irisgpfs/users/gmenon/.local/lib/python3.8/site-packages (from transformers>=4.13.0->lightning-flash[audio,text]) (0.13.3)\n",
      "Requirement already satisfied: safetensors>=0.3.1 in /mnt/irisgpfs/users/gmenon/.local/lib/python3.8/site-packages (from transformers>=4.13.0->lightning-flash[audio,text]) (0.3.1)\n",
      "Requirement already satisfied: wcwidth>=0.2.5 in /mnt/irisgpfs/apps/resif/iris-rhel8/2020b/gpu/software/Python/3.8.6-GCCcore-10.2.0/lib/python3.8/site-packages (from ftfy->lightning-flash[audio,text]) (0.2.5)\n",
      "Requirement already satisfied: pillow!=8.3.*,>=5.3.0 in /mnt/irisgpfs/users/gmenon/.local/lib/python3.8/site-packages (from torchvision->lightning-flash[audio,text]) (9.4.0)\n",
      "Requirement already satisfied: attrs>=17.3.0 in /mnt/irisgpfs/apps/resif/iris-rhel8/2020b/gpu/software/Python/3.8.6-GCCcore-10.2.0/lib/python3.8/site-packages (from aiohttp->datasets>1.16.1->lightning-flash[audio,text]) (20.2.0)\n",
      "Requirement already satisfied: charset-normalizer<4.0,>=2.0 in /mnt/irisgpfs/users/gmenon/.local/lib/python3.8/site-packages (from aiohttp->datasets>1.16.1->lightning-flash[audio,text]) (3.1.0)\n",
      "Requirement already satisfied: multidict<7.0,>=4.5 in /mnt/irisgpfs/users/gmenon/.local/lib/python3.8/site-packages (from aiohttp->datasets>1.16.1->lightning-flash[audio,text]) (6.0.4)\n",
      "Requirement already satisfied: async-timeout<5.0,>=4.0.0a3 in /mnt/irisgpfs/users/gmenon/.local/lib/python3.8/site-packages (from aiohttp->datasets>1.16.1->lightning-flash[audio,text]) (4.0.2)\n",
      "Requirement already satisfied: yarl<2.0,>=1.0 in /mnt/irisgpfs/users/gmenon/.local/lib/python3.8/site-packages (from aiohttp->datasets>1.16.1->lightning-flash[audio,text]) (1.9.2)\n",
      "Requirement already satisfied: frozenlist>=1.1.1 in /mnt/irisgpfs/users/gmenon/.local/lib/python3.8/site-packages (from aiohttp->datasets>1.16.1->lightning-flash[audio,text]) (1.3.3)\n",
      "Requirement already satisfied: aiosignal>=1.1.2 in /mnt/irisgpfs/users/gmenon/.local/lib/python3.8/site-packages (from aiohttp->datasets>1.16.1->lightning-flash[audio,text]) (1.3.1)\n",
      "Requirement already satisfied: llvmlite<0.40,>=0.39.0dev0 in /mnt/irisgpfs/users/gmenon/.local/lib/python3.8/site-packages (from numba>=0.51.0->librosa>=0.8.1post2->lightning-flash[audio,text]) (0.39.1)\n",
      "Requirement already satisfied: importlib-metadata in /mnt/irisgpfs/users/gmenon/.local/lib/python3.8/site-packages (from numba>=0.51.0->librosa>=0.8.1post2->lightning-flash[audio,text]) (6.0.0)\n",
      "Requirement already satisfied: platformdirs>=2.5.0 in /mnt/irisgpfs/users/gmenon/.local/lib/python3.8/site-packages (from pooch>=1.0->librosa>=0.8.1post2->lightning-flash[audio,text]) (3.1.1)\n",
      "Requirement already satisfied: six>=1.5 in /mnt/irisgpfs/apps/resif/iris-rhel8/2020b/gpu/software/Python/3.8.6-GCCcore-10.2.0/lib/python3.8/site-packages (from python-dateutil>=2.8.1->pandas>1.1.0->lightning-flash[audio,text]) (1.15.0)\n",
      "Requirement already satisfied: idna<4,>=2.5 in /mnt/irisgpfs/apps/resif/iris-rhel8/2020b/gpu/software/Python/3.8.6-GCCcore-10.2.0/lib/python3.8/site-packages (from requests>=2.19.0->datasets>1.16.1->lightning-flash[audio,text]) (2.10)\n",
      "Requirement already satisfied: urllib3<1.27,>=1.21.1 in /mnt/irisgpfs/apps/resif/iris-rhel8/2020b/gpu/software/Python/3.8.6-GCCcore-10.2.0/lib/python3.8/site-packages (from requests>=2.19.0->datasets>1.16.1->lightning-flash[audio,text]) (1.25.10)\n",
      "Requirement already satisfied: certifi>=2017.4.17 in /mnt/irisgpfs/apps/resif/iris-rhel8/2020b/gpu/software/Python/3.8.6-GCCcore-10.2.0/lib/python3.8/site-packages (from requests>=2.19.0->datasets>1.16.1->lightning-flash[audio,text]) (2020.6.20)\n",
      "Requirement already satisfied: threadpoolctl>=2.0.0 in /mnt/irisgpfs/apps/resif/iris-rhel8/2020b/gpu/software/Python/3.8.6-GCCcore-10.2.0/lib/python3.8/site-packages (from scikit-learn>=0.20.0->librosa>=0.8.1post2->lightning-flash[audio,text]) (2.1.0)\n",
      "Requirement already satisfied: cffi>=1.0 in /mnt/irisgpfs/users/gmenon/.local/lib/python3.8/site-packages (from soundfile>=0.12.1->librosa>=0.8.1post2->lightning-flash[audio,text]) (1.15.1)\n",
      "Requirement already satisfied: importlib-resources>=1.4.0 in /mnt/irisgpfs/users/gmenon/.local/lib/python3.8/site-packages (from typeshed-client>=2.1.0->jsonargparse[signatures]>=4.22.0->lightning-flash[audio,text]) (5.12.0)\n",
      "Requirement already satisfied: MarkupSafe>=2.0 in /mnt/irisgpfs/users/gmenon/.local/lib/python3.8/site-packages (from jinja2->torch>1.7.0->lightning-flash[audio,text]) (2.0.1)\n",
      "Requirement already satisfied: mpmath>=0.19 in /mnt/irisgpfs/users/gmenon/.local/lib/python3.8/site-packages (from sympy->torch>1.7.0->lightning-flash[audio,text]) (1.3.0)\n",
      "Requirement already satisfied: pycparser in /mnt/irisgpfs/users/gmenon/.local/lib/python3.8/site-packages (from cffi>=1.0->soundfile>=0.12.1->librosa>=0.8.1post2->lightning-flash[audio,text]) (2.21)\n"
     ]
    },
    {
     "name": "stdout",
     "output_type": "stream",
     "text": [
      "Requirement already satisfied: zipp>=3.1.0 in /mnt/irisgpfs/apps/resif/iris-rhel8/2020b/gpu/software/Python/3.8.6-GCCcore-10.2.0/lib/python3.8/site-packages (from importlib-resources>=1.4.0->typeshed-client>=2.1.0->jsonargparse[signatures]>=4.22.0->lightning-flash[audio,text]) (3.3.0)\r\n"
     ]
    }
   ],
   "source": [
    "! pip install lightning-flash\n",
    "! pip install 'lightning-flash[audio,text]'"
   ]
  },
  {
   "cell_type": "code",
   "execution_count": 20,
   "metadata": {},
   "outputs": [
    {
     "name": "stdout",
     "output_type": "stream",
     "text": [
      "Thu Jul 20 20:20:42 2023       \n",
      "+-----------------------------------------------------------------------------+\n",
      "| NVIDIA-SMI 525.85.12    Driver Version: 525.85.12    CUDA Version: 12.0     |\n",
      "|-------------------------------+----------------------+----------------------+\n",
      "| GPU  Name        Persistence-M| Bus-Id        Disp.A | Volatile Uncorr. ECC |\n",
      "| Fan  Temp  Perf  Pwr:Usage/Cap|         Memory-Usage | GPU-Util  Compute M. |\n",
      "|                               |                      |               MIG M. |\n",
      "|===============================+======================+======================|\n",
      "|   0  Tesla V100-SXM2...  On   | 00000000:1A:00.0 Off |                    0 |\n",
      "| N/A   40C    P0    43W / 300W |      0MiB / 32768MiB |      0%      Default |\n",
      "|                               |                      |                  N/A |\n",
      "+-------------------------------+----------------------+----------------------+\n",
      "|   1  Tesla V100-SXM2...  On   | 00000000:1C:00.0 Off |                    0 |\n",
      "| N/A   35C    P0    43W / 300W |      0MiB / 32768MiB |      0%      Default |\n",
      "|                               |                      |                  N/A |\n",
      "+-------------------------------+----------------------+----------------------+\n",
      "|   2  Tesla V100-SXM2...  On   | 00000000:1D:00.0 Off |                    0 |\n",
      "| N/A   35C    P0    43W / 300W |      0MiB / 32768MiB |      0%      Default |\n",
      "|                               |                      |                  N/A |\n",
      "+-------------------------------+----------------------+----------------------+\n",
      "|   3  Tesla V100-SXM2...  On   | 00000000:1E:00.0 Off |                    0 |\n",
      "| N/A   37C    P0    43W / 300W |      0MiB / 32768MiB |      0%      Default |\n",
      "|                               |                      |                  N/A |\n",
      "+-------------------------------+----------------------+----------------------+\n",
      "                                                                               \n",
      "+-----------------------------------------------------------------------------+\n",
      "| Processes:                                                                  |\n",
      "|  GPU   GI   CI        PID   Type   Process name                  GPU Memory |\n",
      "|        ID   ID                                                   Usage      |\n",
      "|=============================================================================|\n",
      "|  No running processes found                                                 |\n",
      "+-----------------------------------------------------------------------------+\n"
     ]
    }
   ],
   "source": [
    "! nvidia-smi"
   ]
  },
  {
   "cell_type": "code",
   "execution_count": 67,
   "metadata": {},
   "outputs": [],
   "source": [
    "import pandas as pd\n",
    "import numpy as np"
   ]
  },
  {
   "cell_type": "code",
   "execution_count": 68,
   "metadata": {},
   "outputs": [],
   "source": [
    "song_metadata = pd.read_csv(\"/home/users/gmenon/notebooks/home/users/gmenon/notebooks/song_metadata_cleaned.csv\", index_col= 0)"
   ]
  },
  {
   "cell_type": "code",
   "execution_count": 69,
   "metadata": {},
   "outputs": [
    {
     "data": {
      "text/html": [
       "<div>\n",
       "<style scoped>\n",
       "    .dataframe tbody tr th:only-of-type {\n",
       "        vertical-align: middle;\n",
       "    }\n",
       "\n",
       "    .dataframe tbody tr th {\n",
       "        vertical-align: top;\n",
       "    }\n",
       "\n",
       "    .dataframe thead th {\n",
       "        text-align: right;\n",
       "    }\n",
       "</style>\n",
       "<table border=\"1\" class=\"dataframe\">\n",
       "  <thead>\n",
       "    <tr style=\"text-align: right;\">\n",
       "      <th></th>\n",
       "      <th>file_name</th>\n",
       "      <th>transcription</th>\n",
       "      <th>language</th>\n",
       "    </tr>\n",
       "  </thead>\n",
       "  <tbody>\n",
       "    <tr>\n",
       "      <th>90</th>\n",
       "      <td>/home/users/gmenon/dali/DALI_v1.0/audio/wav_cl...</td>\n",
       "      <td>betrogen kluge worte was</td>\n",
       "      <td>en</td>\n",
       "    </tr>\n",
       "    <tr>\n",
       "      <th>115</th>\n",
       "      <td>/home/users/gmenon/dali/DALI_v1.0/audio/wav_cl...</td>\n",
       "      <td>boy my life</td>\n",
       "      <td>en</td>\n",
       "    </tr>\n",
       "    <tr>\n",
       "      <th>116</th>\n",
       "      <td>/home/users/gmenon/dali/DALI_v1.0/audio/wav_cl...</td>\n",
       "      <td>ain't what it used to be</td>\n",
       "      <td>en</td>\n",
       "    </tr>\n",
       "    <tr>\n",
       "      <th>118</th>\n",
       "      <td>/home/users/gmenon/dali/DALI_v1.0/audio/wav_cl...</td>\n",
       "      <td>since you went out the door</td>\n",
       "      <td>en</td>\n",
       "    </tr>\n",
       "    <tr>\n",
       "      <th>119</th>\n",
       "      <td>/home/users/gmenon/dali/DALI_v1.0/audio/wav_cl...</td>\n",
       "      <td>all the times</td>\n",
       "      <td>en</td>\n",
       "    </tr>\n",
       "    <tr>\n",
       "      <th>...</th>\n",
       "      <td>...</td>\n",
       "      <td>...</td>\n",
       "      <td>...</td>\n",
       "    </tr>\n",
       "    <tr>\n",
       "      <th>250774</th>\n",
       "      <td>/home/users/gmenon/dali/DALI_v1.0/audio/wav_cl...</td>\n",
       "      <td>so take what i left you for the pain</td>\n",
       "      <td>en</td>\n",
       "    </tr>\n",
       "    <tr>\n",
       "      <th>250775</th>\n",
       "      <td>/home/users/gmenon/dali/DALI_v1.0/audio/wav_cl...</td>\n",
       "      <td>and do your best to forget my name</td>\n",
       "      <td>en</td>\n",
       "    </tr>\n",
       "    <tr>\n",
       "      <th>250782</th>\n",
       "      <td>/home/users/gmenon/dali/DALI_v1.0/audio/wav_cl...</td>\n",
       "      <td>chealternativeavrei</td>\n",
       "      <td>en</td>\n",
       "    </tr>\n",
       "    <tr>\n",
       "      <th>250786</th>\n",
       "      <td>/home/users/gmenon/dali/DALI_v1.0/audio/wav_cl...</td>\n",
       "      <td>do retta soloa me</td>\n",
       "      <td>en</td>\n",
       "    </tr>\n",
       "    <tr>\n",
       "      <th>250810</th>\n",
       "      <td>/home/users/gmenon/dali/DALI_v1.0/audio/wav_cl...</td>\n",
       "      <td>dentro me</td>\n",
       "      <td>en</td>\n",
       "    </tr>\n",
       "  </tbody>\n",
       "</table>\n",
       "<p>166660 rows × 3 columns</p>\n",
       "</div>"
      ],
      "text/plain": [
       "                                                file_name  \\\n",
       "90      /home/users/gmenon/dali/DALI_v1.0/audio/wav_cl...   \n",
       "115     /home/users/gmenon/dali/DALI_v1.0/audio/wav_cl...   \n",
       "116     /home/users/gmenon/dali/DALI_v1.0/audio/wav_cl...   \n",
       "118     /home/users/gmenon/dali/DALI_v1.0/audio/wav_cl...   \n",
       "119     /home/users/gmenon/dali/DALI_v1.0/audio/wav_cl...   \n",
       "...                                                   ...   \n",
       "250774  /home/users/gmenon/dali/DALI_v1.0/audio/wav_cl...   \n",
       "250775  /home/users/gmenon/dali/DALI_v1.0/audio/wav_cl...   \n",
       "250782  /home/users/gmenon/dali/DALI_v1.0/audio/wav_cl...   \n",
       "250786  /home/users/gmenon/dali/DALI_v1.0/audio/wav_cl...   \n",
       "250810  /home/users/gmenon/dali/DALI_v1.0/audio/wav_cl...   \n",
       "\n",
       "                               transcription language  \n",
       "90                  betrogen kluge worte was       en  \n",
       "115                              boy my life       en  \n",
       "116                 ain't what it used to be       en  \n",
       "118              since you went out the door       en  \n",
       "119                            all the times       en  \n",
       "...                                      ...      ...  \n",
       "250774  so take what i left you for the pain       en  \n",
       "250775    and do your best to forget my name       en  \n",
       "250782                   chealternativeavrei       en  \n",
       "250786                     do retta soloa me       en  \n",
       "250810                             dentro me       en  \n",
       "\n",
       "[166660 rows x 3 columns]"
      ]
     },
     "execution_count": 69,
     "metadata": {},
     "output_type": "execute_result"
    }
   ],
   "source": [
    "from ftlangdetect import detect\n",
    "\n",
    "def is_english(text: str) -> str:\n",
    "    \"\"\"Simple Function to detect whether the language of the text is english or not.\n",
    "    Returns a Boolean output for the same.Input the text column\"\"\"\n",
    "    return detect(text, low_memory=True)[\"lang\"]\n",
    "\n",
    "chars_to_ignore_regex = '[\\,\\?\\.\\!\\-\\;\\:\\\"\\%\\$\\&\\^\\*\\@\\#\\<\\>\\/\\+\\\\=\\_\\\\}\\{\\)\\(\\]\\[\\`1234567890]'\n",
    "song_metadata[\"transcription\"] = song_metadata[\"transcription\"].replace(chars_to_ignore_regex, '', regex=True)\n",
    "song_metadata = song_metadata[song_metadata.transcription.str.len()>8]\n",
    "song_metadata[\"language\"] = song_metadata[\"transcription\"].apply(is_english)\n",
    "song_metadata = song_metadata.loc[song_metadata[\"language\"] == \"en\"]\n",
    "song_metadata"
   ]
  },
  {
   "cell_type": "code",
   "execution_count": 70,
   "metadata": {},
   "outputs": [
    {
     "data": {
      "text/plain": [
       "(133328, 3)"
      ]
     },
     "execution_count": 70,
     "metadata": {},
     "output_type": "execute_result"
    }
   ],
   "source": [
    "train = song_metadata.sample(frac = 0.8, replace = False)\n",
    "train.shape"
   ]
  },
  {
   "cell_type": "code",
   "execution_count": 71,
   "metadata": {},
   "outputs": [
    {
     "data": {
      "text/html": [
       "<div>\n",
       "<style scoped>\n",
       "    .dataframe tbody tr th:only-of-type {\n",
       "        vertical-align: middle;\n",
       "    }\n",
       "\n",
       "    .dataframe tbody tr th {\n",
       "        vertical-align: top;\n",
       "    }\n",
       "\n",
       "    .dataframe thead th {\n",
       "        text-align: right;\n",
       "    }\n",
       "</style>\n",
       "<table border=\"1\" class=\"dataframe\">\n",
       "  <thead>\n",
       "    <tr style=\"text-align: right;\">\n",
       "      <th></th>\n",
       "      <th>file_name</th>\n",
       "      <th>transcription</th>\n",
       "    </tr>\n",
       "  </thead>\n",
       "  <tbody>\n",
       "    <tr>\n",
       "      <th>8</th>\n",
       "      <td>/home/users/gmenon/dali/DALI_v1.0/audio/wav_cl...</td>\n",
       "      <td>the shakes the breaks</td>\n",
       "    </tr>\n",
       "    <tr>\n",
       "      <th>9</th>\n",
       "      <td>/home/users/gmenon/dali/DALI_v1.0/audio/wav_cl...</td>\n",
       "      <td>that rock the block</td>\n",
       "    </tr>\n",
       "    <tr>\n",
       "      <th>11</th>\n",
       "      <td>/home/users/gmenon/dali/DALI_v1.0/audio/wav_cl...</td>\n",
       "      <td>that spin the clock</td>\n",
       "    </tr>\n",
       "    <tr>\n",
       "      <th>14</th>\n",
       "      <td>/home/users/gmenon/dali/DALI_v1.0/audio/wav_cl...</td>\n",
       "      <td>the keys the chords</td>\n",
       "    </tr>\n",
       "    <tr>\n",
       "      <th>15</th>\n",
       "      <td>/home/users/gmenon/dali/DALI_v1.0/audio/wav_cl...</td>\n",
       "      <td>the beats the words</td>\n",
       "    </tr>\n",
       "    <tr>\n",
       "      <th>...</th>\n",
       "      <td>...</td>\n",
       "      <td>...</td>\n",
       "    </tr>\n",
       "    <tr>\n",
       "      <th>166645</th>\n",
       "      <td>/home/users/gmenon/dali/DALI_v1.0/audio/wav_cl...</td>\n",
       "      <td>and now that i'm gone</td>\n",
       "    </tr>\n",
       "    <tr>\n",
       "      <th>166646</th>\n",
       "      <td>/home/users/gmenon/dali/DALI_v1.0/audio/wav_cl...</td>\n",
       "      <td>try to forget me and just move on</td>\n",
       "    </tr>\n",
       "    <tr>\n",
       "      <th>166651</th>\n",
       "      <td>/home/users/gmenon/dali/DALI_v1.0/audio/wav_cl...</td>\n",
       "      <td>try to forget me and just move on</td>\n",
       "    </tr>\n",
       "    <tr>\n",
       "      <th>166652</th>\n",
       "      <td>/home/users/gmenon/dali/DALI_v1.0/audio/wav_cl...</td>\n",
       "      <td>i am not the one that you should blame</td>\n",
       "    </tr>\n",
       "    <tr>\n",
       "      <th>166659</th>\n",
       "      <td>/home/users/gmenon/dali/DALI_v1.0/audio/wav_cl...</td>\n",
       "      <td>dentro me</td>\n",
       "    </tr>\n",
       "  </tbody>\n",
       "</table>\n",
       "<p>33332 rows × 2 columns</p>\n",
       "</div>"
      ],
      "text/plain": [
       "                                                file_name  \\\n",
       "8       /home/users/gmenon/dali/DALI_v1.0/audio/wav_cl...   \n",
       "9       /home/users/gmenon/dali/DALI_v1.0/audio/wav_cl...   \n",
       "11      /home/users/gmenon/dali/DALI_v1.0/audio/wav_cl...   \n",
       "14      /home/users/gmenon/dali/DALI_v1.0/audio/wav_cl...   \n",
       "15      /home/users/gmenon/dali/DALI_v1.0/audio/wav_cl...   \n",
       "...                                                   ...   \n",
       "166645  /home/users/gmenon/dali/DALI_v1.0/audio/wav_cl...   \n",
       "166646  /home/users/gmenon/dali/DALI_v1.0/audio/wav_cl...   \n",
       "166651  /home/users/gmenon/dali/DALI_v1.0/audio/wav_cl...   \n",
       "166652  /home/users/gmenon/dali/DALI_v1.0/audio/wav_cl...   \n",
       "166659  /home/users/gmenon/dali/DALI_v1.0/audio/wav_cl...   \n",
       "\n",
       "                                 transcription  \n",
       "8                        the shakes the breaks  \n",
       "9                          that rock the block  \n",
       "11                         that spin the clock  \n",
       "14                         the keys the chords  \n",
       "15                         the beats the words  \n",
       "...                                        ...  \n",
       "166645                   and now that i'm gone  \n",
       "166646       try to forget me and just move on  \n",
       "166651       try to forget me and just move on  \n",
       "166652  i am not the one that you should blame  \n",
       "166659                               dentro me  \n",
       "\n",
       "[33332 rows x 2 columns]"
      ]
     },
     "execution_count": 71,
     "metadata": {},
     "output_type": "execute_result"
    }
   ],
   "source": [
    "inter_dataset = song_metadata.merge(train.drop_duplicates(), on=['file_name','transcription'], \n",
    "                   how='left', indicator=True)\n",
    "validation = inter_dataset[inter_dataset[\"_merge\"] == \"left_only\"][['file_name','transcription']]\n",
    "validation"
   ]
  },
  {
   "cell_type": "code",
   "execution_count": 72,
   "metadata": {},
   "outputs": [],
   "source": [
    "train.to_csv(\"/home/users/gmenon/notebooks/home/users/gmenon/notebooks/train_metadata_cleaned.csv\")"
   ]
  },
  {
   "cell_type": "code",
   "execution_count": 73,
   "metadata": {},
   "outputs": [],
   "source": [
    "validation.to_csv(\"/home/users/gmenon/notebooks/home/users/gmenon/notebooks/validation_metadata_cleaned.csv\")"
   ]
  },
  {
   "cell_type": "code",
   "execution_count": 74,
   "metadata": {},
   "outputs": [
    {
     "name": "stdout",
     "output_type": "stream",
     "text": [
      "/home/users/gmenon/dali/DALI_v1.0/audio/wav_clips/ad887cbfa84749e5a9789f303e2f5c30.wav\n"
     ]
    }
   ],
   "source": [
    "for rows in validation[\"file_name\"][33330:33331]:\n",
    "    print(rows)"
   ]
  },
  {
   "cell_type": "code",
   "execution_count": 75,
   "metadata": {},
   "outputs": [
    {
     "name": "stdout",
     "output_type": "stream",
     "text": [
      "i am not the one that you should blame\n"
     ]
    }
   ],
   "source": [
    "for rows in validation[\"transcription\"][33330:33331]:\n",
    "    print(rows)"
   ]
  },
  {
   "cell_type": "code",
   "execution_count": 76,
   "metadata": {},
   "outputs": [],
   "source": [
    "import flash\n",
    "import torch\n",
    "from flash.audio import SpeechRecognition, SpeechRecognitionData\n",
    "# from flash.core.data.utils import download_data\n",
    "import pandas as pd\n",
    "from dataclasses import dataclass"
   ]
  },
  {
   "cell_type": "code",
   "execution_count": 109,
   "metadata": {},
   "outputs": [
    {
     "name": "stderr",
     "output_type": "stream",
     "text": [
      "Using 'facebook/wav2vec2-base-960h' provided by Hugging Face/transformers (https://github.com/huggingface/transformers) and PyTorch/fairseq (https://github.com/pytorch/fairseq).\n",
      "Some weights of Wav2Vec2ForCTC were not initialized from the model checkpoint at facebook/wav2vec2-base-960h and are newly initialized: ['wav2vec2.masked_spec_embed']\n",
      "You should probably TRAIN this model on a down-stream task to be able to use it for predictions and inference.\n",
      "GPU available: True (cuda), used: False\n",
      "TPU available: False, using: 0 TPU cores\n",
      "IPU available: False, using: 0 IPUs\n",
      "HPU available: False, using: 0 HPUs\n"
     ]
    },
    {
     "data": {
      "application/vnd.jupyter.widget-view+json": {
       "model_id": "7c583f43abd04af89250f89098998d65",
       "version_major": 2,
       "version_minor": 0
      },
      "text/plain": [
       "Predicting: 0it [00:00, ?it/s]"
      ]
     },
     "metadata": {},
     "output_type": "display_data"
    }
   ],
   "source": [
    "model = SpeechRecognition.load_from_checkpoint(\"/home/users/gmenon/workspace/songsLyricsGenerator/lightning_logs/version_1/checkpoints/epoch=0-step=3.ckpt\")\n",
    "\n",
    "trainer = flash.Trainer()\n",
    "\n",
    "test_datamodule = SpeechRecognitionData.from_files(\n",
    "    predict_files=[\"/home/users/gmenon/workspace/songsLyricsGenerator/src/notebooks/separated/mdx_extra/ad887cbfa84749e5a9789f303e2f5c30/vocals.wav\",\n",
    "                  \"/home/users/gmenon/dali/DALI_v1.0/audio/wav_clips/ad887cbfa84749e5a9789f303e2f5c30.wav\"], \n",
    "    batch_size=2)\n",
    "\n",
    "wav2vec2_predictions = trainer.predict(model, datamodule=test_datamodule)"
   ]
  },
  {
   "cell_type": "code",
   "execution_count": 110,
   "metadata": {},
   "outputs": [
    {
     "data": {
      "text/plain": [
       "[['I AM NOT THEOWADAD YOU SIR BLAYY YOU', '']]"
      ]
     },
     "execution_count": 110,
     "metadata": {},
     "output_type": "execute_result"
    }
   ],
   "source": [
    "wav2vec2_predictions"
   ]
  },
  {
   "cell_type": "code",
   "execution_count": null,
   "metadata": {},
   "outputs": [],
   "source": []
  },
  {
   "cell_type": "code",
   "execution_count": null,
   "metadata": {},
   "outputs": [],
   "source": []
  },
  {
   "cell_type": "code",
   "execution_count": null,
   "metadata": {},
   "outputs": [],
   "source": []
  }
 ],
 "metadata": {
  "kernelspec": {
   "display_name": "Python 3 (ipykernel)",
   "language": "python",
   "name": "python3"
  },
  "language_info": {
   "codemirror_mode": {
    "name": "ipython",
    "version": 3
   },
   "file_extension": ".py",
   "mimetype": "text/x-python",
   "name": "python",
   "nbconvert_exporter": "python",
   "pygments_lexer": "ipython3",
   "version": "3.8.6"
  }
 },
 "nbformat": 4,
 "nbformat_minor": 1
}
