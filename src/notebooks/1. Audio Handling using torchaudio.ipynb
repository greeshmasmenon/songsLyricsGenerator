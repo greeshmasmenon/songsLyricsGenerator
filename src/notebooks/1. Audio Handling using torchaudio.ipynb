{
 "cells": [
  {
   "cell_type": "code",
   "execution_count": 1,
   "metadata": {},
   "outputs": [],
   "source": [
    "import torch"
   ]
  },
  {
   "cell_type": "code",
   "execution_count": 2,
   "metadata": {},
   "outputs": [
    {
     "data": {
      "text/plain": [
       "'2.0.1+cu117'"
      ]
     },
     "execution_count": 2,
     "metadata": {},
     "output_type": "execute_result"
    }
   ],
   "source": [
    "torch.__version__"
   ]
  },
  {
   "cell_type": "code",
   "execution_count": 1,
   "metadata": {},
   "outputs": [],
   "source": [
    "import pandas as pd\n",
    "import numpy as np"
   ]
  },
  {
   "cell_type": "code",
   "execution_count": 9,
   "metadata": {},
   "outputs": [],
   "source": [
    "dataset = pd.read_csv(\"/home/users/gmenon/notebooks/home/users/gmenon/notebooks/song_metadata_cleaned.csv\", index_col= 0)"
   ]
  },
  {
   "cell_type": "code",
   "execution_count": 12,
   "metadata": {},
   "outputs": [
    {
     "data": {
      "text/plain": [
       "(200183, 2)"
      ]
     },
     "execution_count": 12,
     "metadata": {},
     "output_type": "execute_result"
    }
   ],
   "source": [
    "train = dataset.sample(frac = 0.8, replace = False)\n",
    "train.shape"
   ]
  },
  {
   "cell_type": "code",
   "execution_count": 39,
   "metadata": {},
   "outputs": [
    {
     "data": {
      "text/html": [
       "<div>\n",
       "<style scoped>\n",
       "    .dataframe tbody tr th:only-of-type {\n",
       "        vertical-align: middle;\n",
       "    }\n",
       "\n",
       "    .dataframe tbody tr th {\n",
       "        vertical-align: top;\n",
       "    }\n",
       "\n",
       "    .dataframe thead th {\n",
       "        text-align: right;\n",
       "    }\n",
       "</style>\n",
       "<table border=\"1\" class=\"dataframe\">\n",
       "  <thead>\n",
       "    <tr style=\"text-align: right;\">\n",
       "      <th></th>\n",
       "      <th>file_name</th>\n",
       "      <th>transcription</th>\n",
       "    </tr>\n",
       "  </thead>\n",
       "  <tbody>\n",
       "    <tr>\n",
       "      <th>2</th>\n",
       "      <td>/home/users/gmenon/dali/DALI_v1.0/audio/wav_cl...</td>\n",
       "      <td>die ich kaum ertrage</td>\n",
       "    </tr>\n",
       "    <tr>\n",
       "      <th>3</th>\n",
       "      <td>/home/users/gmenon/dali/DALI_v1.0/audio/wav_cl...</td>\n",
       "      <td>und mich standig selber frage</td>\n",
       "    </tr>\n",
       "    <tr>\n",
       "      <th>4</th>\n",
       "      <td>/home/users/gmenon/dali/DALI_v1.0/audio/wav_cl...</td>\n",
       "      <td>warum mich all</td>\n",
       "    </tr>\n",
       "    <tr>\n",
       "      <th>9</th>\n",
       "      <td>/home/users/gmenon/dali/DALI_v1.0/audio/wav_cl...</td>\n",
       "      <td>ich durch meine wellen</td>\n",
       "    </tr>\n",
       "    <tr>\n",
       "      <th>10</th>\n",
       "      <td>/home/users/gmenon/dali/DALI_v1.0/audio/wav_cl...</td>\n",
       "      <td>und war der konig</td>\n",
       "    </tr>\n",
       "    <tr>\n",
       "      <th>...</th>\n",
       "      <td>...</td>\n",
       "      <td>...</td>\n",
       "    </tr>\n",
       "    <tr>\n",
       "      <th>250200</th>\n",
       "      <td>/home/users/gmenon/dali/DALI_v1.0/audio/wav_cl...</td>\n",
       "      <td>dimmi-un po'</td>\n",
       "    </tr>\n",
       "    <tr>\n",
       "      <th>250208</th>\n",
       "      <td>/home/users/gmenon/dali/DALI_v1.0/audio/wav_cl...</td>\n",
       "      <td>che se non dai non hai</td>\n",
       "    </tr>\n",
       "    <tr>\n",
       "      <th>250221</th>\n",
       "      <td>/home/users/gmenon/dali/DALI_v1.0/audio/wav_cl...</td>\n",
       "      <td>mai-abbastanza</td>\n",
       "    </tr>\n",
       "    <tr>\n",
       "      <th>250223</th>\n",
       "      <td>/home/users/gmenon/dali/DALI_v1.0/audio/wav_cl...</td>\n",
       "      <td>quello che mi manca</td>\n",
       "    </tr>\n",
       "    <tr>\n",
       "      <th>250226</th>\n",
       "      <td>/home/users/gmenon/dali/DALI_v1.0/audio/wav_cl...</td>\n",
       "      <td>sempre-accelerando</td>\n",
       "    </tr>\n",
       "  </tbody>\n",
       "</table>\n",
       "<p>50046 rows × 2 columns</p>\n",
       "</div>"
      ],
      "text/plain": [
       "                                                file_name  \\\n",
       "2       /home/users/gmenon/dali/DALI_v1.0/audio/wav_cl...   \n",
       "3       /home/users/gmenon/dali/DALI_v1.0/audio/wav_cl...   \n",
       "4       /home/users/gmenon/dali/DALI_v1.0/audio/wav_cl...   \n",
       "9       /home/users/gmenon/dali/DALI_v1.0/audio/wav_cl...   \n",
       "10      /home/users/gmenon/dali/DALI_v1.0/audio/wav_cl...   \n",
       "...                                                   ...   \n",
       "250200  /home/users/gmenon/dali/DALI_v1.0/audio/wav_cl...   \n",
       "250208  /home/users/gmenon/dali/DALI_v1.0/audio/wav_cl...   \n",
       "250221  /home/users/gmenon/dali/DALI_v1.0/audio/wav_cl...   \n",
       "250223  /home/users/gmenon/dali/DALI_v1.0/audio/wav_cl...   \n",
       "250226  /home/users/gmenon/dali/DALI_v1.0/audio/wav_cl...   \n",
       "\n",
       "                        transcription  \n",
       "2                die ich kaum ertrage  \n",
       "3       und mich standig selber frage  \n",
       "4                      warum mich all  \n",
       "9              ich durch meine wellen  \n",
       "10                  und war der konig  \n",
       "...                               ...  \n",
       "250200                   dimmi-un po'  \n",
       "250208         che se non dai non hai  \n",
       "250221                 mai-abbastanza  \n",
       "250223            quello che mi manca  \n",
       "250226             sempre-accelerando  \n",
       "\n",
       "[50046 rows x 2 columns]"
      ]
     },
     "execution_count": 39,
     "metadata": {},
     "output_type": "execute_result"
    }
   ],
   "source": [
    "inter_dataset = dataset.merge(train.drop_duplicates(), on=['file_name','transcription'], \n",
    "                   how='left', indicator=True)\n",
    "validation = inter_dataset[inter_dataset[\"_merge\"] == \"left_only\"][['file_name','transcription']]\n",
    "validation"
   ]
  },
  {
   "cell_type": "code",
   "execution_count": 41,
   "metadata": {},
   "outputs": [],
   "source": [
    "train.to_csv(\"/home/users/gmenon/notebooks/home/users/gmenon/notebooks/train_metadata_cleaned.csv\")"
   ]
  },
  {
   "cell_type": "code",
   "execution_count": 42,
   "metadata": {},
   "outputs": [],
   "source": [
    "validation.to_csv(\"/home/users/gmenon/notebooks/home/users/gmenon/notebooks/validation_metadata_cleaned.csv\")"
   ]
  },
  {
   "cell_type": "code",
   "execution_count": 50,
   "metadata": {},
   "outputs": [
    {
     "name": "stdout",
     "output_type": "stream",
     "text": [
      "/home/users/gmenon/dali/DALI_v1.0/audio/wav_clips/48f4a0fa25b84e01ac6ff451d493bf74.wav\n",
      "/home/users/gmenon/dali/DALI_v1.0/audio/wav_clips/1d5c6cbac7ec4d44983993c265489d43.wav\n"
     ]
    }
   ],
   "source": [
    "for rows in validation[\"file_name\"][:2]:\n",
    "    print(rows)"
   ]
  },
  {
   "cell_type": "code",
   "execution_count": 51,
   "metadata": {},
   "outputs": [
    {
     "name": "stdout",
     "output_type": "stream",
     "text": [
      "die ich kaum ertrage\n",
      "und mich standig selber frage\n"
     ]
    }
   ],
   "source": [
    "for rows in validation[\"transcription\"][:2]:\n",
    "    print(rows)"
   ]
  },
  {
   "cell_type": "code",
   "execution_count": null,
   "metadata": {},
   "outputs": [],
   "source": []
  }
 ],
 "metadata": {
  "kernelspec": {
   "display_name": "Python 3 (ipykernel)",
   "language": "python",
   "name": "python3"
  },
  "language_info": {
   "codemirror_mode": {
    "name": "ipython",
    "version": 3
   },
   "file_extension": ".py",
   "mimetype": "text/x-python",
   "name": "python",
   "nbconvert_exporter": "python",
   "pygments_lexer": "ipython3",
   "version": "3.8.6"
  }
 },
 "nbformat": 4,
 "nbformat_minor": 1
}
