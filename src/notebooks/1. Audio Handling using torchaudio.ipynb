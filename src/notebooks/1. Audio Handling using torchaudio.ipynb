{
 "cells": [
  {
   "cell_type": "code",
   "execution_count": 1,
   "metadata": {},
   "outputs": [],
   "source": [
    "import torch"
   ]
  },
  {
   "cell_type": "code",
   "execution_count": 2,
   "metadata": {},
   "outputs": [
    {
     "data": {
      "text/plain": [
       "'2.0.1+cu117'"
      ]
     },
     "execution_count": 2,
     "metadata": {},
     "output_type": "execute_result"
    }
   ],
   "source": [
    "torch.__version__"
   ]
  },
  {
   "cell_type": "code",
   "execution_count": 1,
   "metadata": {},
   "outputs": [],
   "source": [
    "import pandas as pd\n",
    "import numpy as np"
   ]
  },
  {
   "cell_type": "code",
   "execution_count": 5,
   "metadata": {},
   "outputs": [],
   "source": [
    "song_metadata = pd.read_csv(\"/home/users/gmenon/notebooks/home/users/gmenon/notebooks/song_metadata_cleaned.csv\", index_col= 0)"
   ]
  },
  {
   "cell_type": "code",
   "execution_count": 6,
   "metadata": {},
   "outputs": [
    {
     "name": "stderr",
     "output_type": "stream",
     "text": [
      "Warning : `load_model` does not return WordVectorModel or SupervisedModel any more, but a `FastText` object which is very similar.\n"
     ]
    },
    {
     "data": {
      "text/html": [
       "<div>\n",
       "<style scoped>\n",
       "    .dataframe tbody tr th:only-of-type {\n",
       "        vertical-align: middle;\n",
       "    }\n",
       "\n",
       "    .dataframe tbody tr th {\n",
       "        vertical-align: top;\n",
       "    }\n",
       "\n",
       "    .dataframe thead th {\n",
       "        text-align: right;\n",
       "    }\n",
       "</style>\n",
       "<table border=\"1\" class=\"dataframe\">\n",
       "  <thead>\n",
       "    <tr style=\"text-align: right;\">\n",
       "      <th></th>\n",
       "      <th>file_name</th>\n",
       "      <th>transcription</th>\n",
       "      <th>language</th>\n",
       "    </tr>\n",
       "  </thead>\n",
       "  <tbody>\n",
       "    <tr>\n",
       "      <th>90</th>\n",
       "      <td>/home/users/gmenon/dali/DALI_v1.0/audio/wav_cl...</td>\n",
       "      <td>betrogen kluge worte was</td>\n",
       "      <td>en</td>\n",
       "    </tr>\n",
       "    <tr>\n",
       "      <th>115</th>\n",
       "      <td>/home/users/gmenon/dali/DALI_v1.0/audio/wav_cl...</td>\n",
       "      <td>boy my life</td>\n",
       "      <td>en</td>\n",
       "    </tr>\n",
       "    <tr>\n",
       "      <th>116</th>\n",
       "      <td>/home/users/gmenon/dali/DALI_v1.0/audio/wav_cl...</td>\n",
       "      <td>ain't what it used to be</td>\n",
       "      <td>en</td>\n",
       "    </tr>\n",
       "    <tr>\n",
       "      <th>118</th>\n",
       "      <td>/home/users/gmenon/dali/DALI_v1.0/audio/wav_cl...</td>\n",
       "      <td>since you went out the door</td>\n",
       "      <td>en</td>\n",
       "    </tr>\n",
       "    <tr>\n",
       "      <th>119</th>\n",
       "      <td>/home/users/gmenon/dali/DALI_v1.0/audio/wav_cl...</td>\n",
       "      <td>all the times</td>\n",
       "      <td>en</td>\n",
       "    </tr>\n",
       "    <tr>\n",
       "      <th>...</th>\n",
       "      <td>...</td>\n",
       "      <td>...</td>\n",
       "      <td>...</td>\n",
       "    </tr>\n",
       "    <tr>\n",
       "      <th>250774</th>\n",
       "      <td>/home/users/gmenon/dali/DALI_v1.0/audio/wav_cl...</td>\n",
       "      <td>so take what i left you for the pain</td>\n",
       "      <td>en</td>\n",
       "    </tr>\n",
       "    <tr>\n",
       "      <th>250775</th>\n",
       "      <td>/home/users/gmenon/dali/DALI_v1.0/audio/wav_cl...</td>\n",
       "      <td>and do your best to forget my name</td>\n",
       "      <td>en</td>\n",
       "    </tr>\n",
       "    <tr>\n",
       "      <th>250782</th>\n",
       "      <td>/home/users/gmenon/dali/DALI_v1.0/audio/wav_cl...</td>\n",
       "      <td>chealternativeavrei</td>\n",
       "      <td>en</td>\n",
       "    </tr>\n",
       "    <tr>\n",
       "      <th>250786</th>\n",
       "      <td>/home/users/gmenon/dali/DALI_v1.0/audio/wav_cl...</td>\n",
       "      <td>do retta soloa me</td>\n",
       "      <td>en</td>\n",
       "    </tr>\n",
       "    <tr>\n",
       "      <th>250810</th>\n",
       "      <td>/home/users/gmenon/dali/DALI_v1.0/audio/wav_cl...</td>\n",
       "      <td>dentro me</td>\n",
       "      <td>en</td>\n",
       "    </tr>\n",
       "  </tbody>\n",
       "</table>\n",
       "<p>166660 rows × 3 columns</p>\n",
       "</div>"
      ],
      "text/plain": [
       "                                                file_name   \n",
       "90      /home/users/gmenon/dali/DALI_v1.0/audio/wav_cl...  \\\n",
       "115     /home/users/gmenon/dali/DALI_v1.0/audio/wav_cl...   \n",
       "116     /home/users/gmenon/dali/DALI_v1.0/audio/wav_cl...   \n",
       "118     /home/users/gmenon/dali/DALI_v1.0/audio/wav_cl...   \n",
       "119     /home/users/gmenon/dali/DALI_v1.0/audio/wav_cl...   \n",
       "...                                                   ...   \n",
       "250774  /home/users/gmenon/dali/DALI_v1.0/audio/wav_cl...   \n",
       "250775  /home/users/gmenon/dali/DALI_v1.0/audio/wav_cl...   \n",
       "250782  /home/users/gmenon/dali/DALI_v1.0/audio/wav_cl...   \n",
       "250786  /home/users/gmenon/dali/DALI_v1.0/audio/wav_cl...   \n",
       "250810  /home/users/gmenon/dali/DALI_v1.0/audio/wav_cl...   \n",
       "\n",
       "                               transcription language  \n",
       "90                  betrogen kluge worte was       en  \n",
       "115                              boy my life       en  \n",
       "116                 ain't what it used to be       en  \n",
       "118              since you went out the door       en  \n",
       "119                            all the times       en  \n",
       "...                                      ...      ...  \n",
       "250774  so take what i left you for the pain       en  \n",
       "250775    and do your best to forget my name       en  \n",
       "250782                   chealternativeavrei       en  \n",
       "250786                     do retta soloa me       en  \n",
       "250810                             dentro me       en  \n",
       "\n",
       "[166660 rows x 3 columns]"
      ]
     },
     "execution_count": 6,
     "metadata": {},
     "output_type": "execute_result"
    }
   ],
   "source": [
    "from ftlangdetect import detect\n",
    "\n",
    "def is_english(text: str) -> str:\n",
    "    \"\"\"Simple Function to detect whether the language of the text is english or not.\n",
    "    Returns a Boolean output for the same.Input the text column\"\"\"\n",
    "    return detect(text, low_memory=True)[\"lang\"]\n",
    "\n",
    "chars_to_ignore_regex = '[\\,\\?\\.\\!\\-\\;\\:\\\"\\%\\$\\&\\^\\*\\@\\#\\<\\>\\/\\+\\\\=\\_\\\\}\\{\\)\\(\\]\\[\\`1234567890]'\n",
    "song_metadata[\"transcription\"] = song_metadata[\"transcription\"].replace(chars_to_ignore_regex, '', regex=True)\n",
    "song_metadata = song_metadata[song_metadata.transcription.str.len()>8]\n",
    "song_metadata[\"language\"] = song_metadata[\"transcription\"].apply(is_english)\n",
    "song_metadata = song_metadata.loc[song_metadata[\"language\"] == \"en\"]\n",
    "song_metadata"
   ]
  },
  {
   "cell_type": "code",
   "execution_count": 10,
   "metadata": {},
   "outputs": [
    {
     "data": {
      "text/plain": [
       "(133328, 3)"
      ]
     },
     "execution_count": 10,
     "metadata": {},
     "output_type": "execute_result"
    }
   ],
   "source": [
    "train = song_metadata.sample(frac = 0.8, replace = False)\n",
    "train.shape"
   ]
  },
  {
   "cell_type": "code",
   "execution_count": 11,
   "metadata": {},
   "outputs": [
    {
     "data": {
      "text/html": [
       "<div>\n",
       "<style scoped>\n",
       "    .dataframe tbody tr th:only-of-type {\n",
       "        vertical-align: middle;\n",
       "    }\n",
       "\n",
       "    .dataframe tbody tr th {\n",
       "        vertical-align: top;\n",
       "    }\n",
       "\n",
       "    .dataframe thead th {\n",
       "        text-align: right;\n",
       "    }\n",
       "</style>\n",
       "<table border=\"1\" class=\"dataframe\">\n",
       "  <thead>\n",
       "    <tr style=\"text-align: right;\">\n",
       "      <th></th>\n",
       "      <th>file_name</th>\n",
       "      <th>transcription</th>\n",
       "    </tr>\n",
       "  </thead>\n",
       "  <tbody>\n",
       "    <tr>\n",
       "      <th>3</th>\n",
       "      <td>/home/users/gmenon/dali/DALI_v1.0/audio/wav_cl...</td>\n",
       "      <td>since you went out the door</td>\n",
       "    </tr>\n",
       "    <tr>\n",
       "      <th>4</th>\n",
       "      <td>/home/users/gmenon/dali/DALI_v1.0/audio/wav_cl...</td>\n",
       "      <td>all the times</td>\n",
       "    </tr>\n",
       "    <tr>\n",
       "      <th>19</th>\n",
       "      <td>/home/users/gmenon/dali/DALI_v1.0/audio/wav_cl...</td>\n",
       "      <td>i would love it all back</td>\n",
       "    </tr>\n",
       "    <tr>\n",
       "      <th>21</th>\n",
       "      <td>/home/users/gmenon/dali/DALI_v1.0/audio/wav_cl...</td>\n",
       "      <td>and the night's</td>\n",
       "    </tr>\n",
       "    <tr>\n",
       "      <th>29</th>\n",
       "      <td>/home/users/gmenon/dali/DALI_v1.0/audio/wav_cl...</td>\n",
       "      <td>to the shakes the breaks</td>\n",
       "    </tr>\n",
       "    <tr>\n",
       "      <th>...</th>\n",
       "      <td>...</td>\n",
       "      <td>...</td>\n",
       "    </tr>\n",
       "    <tr>\n",
       "      <th>166645</th>\n",
       "      <td>/home/users/gmenon/dali/DALI_v1.0/audio/wav_cl...</td>\n",
       "      <td>and now that i'm gone</td>\n",
       "    </tr>\n",
       "    <tr>\n",
       "      <th>166648</th>\n",
       "      <td>/home/users/gmenon/dali/DALI_v1.0/audio/wav_cl...</td>\n",
       "      <td>scatter my ashes where they won't be found</td>\n",
       "    </tr>\n",
       "    <tr>\n",
       "      <th>166652</th>\n",
       "      <td>/home/users/gmenon/dali/DALI_v1.0/audio/wav_cl...</td>\n",
       "      <td>i am not the one that you should blame</td>\n",
       "    </tr>\n",
       "    <tr>\n",
       "      <th>166655</th>\n",
       "      <td>/home/users/gmenon/dali/DALI_v1.0/audio/wav_cl...</td>\n",
       "      <td>so take what i left you for the pain</td>\n",
       "    </tr>\n",
       "    <tr>\n",
       "      <th>166657</th>\n",
       "      <td>/home/users/gmenon/dali/DALI_v1.0/audio/wav_cl...</td>\n",
       "      <td>chealternativeavrei</td>\n",
       "    </tr>\n",
       "  </tbody>\n",
       "</table>\n",
       "<p>33332 rows × 2 columns</p>\n",
       "</div>"
      ],
      "text/plain": [
       "                                                file_name   \n",
       "3       /home/users/gmenon/dali/DALI_v1.0/audio/wav_cl...  \\\n",
       "4       /home/users/gmenon/dali/DALI_v1.0/audio/wav_cl...   \n",
       "19      /home/users/gmenon/dali/DALI_v1.0/audio/wav_cl...   \n",
       "21      /home/users/gmenon/dali/DALI_v1.0/audio/wav_cl...   \n",
       "29      /home/users/gmenon/dali/DALI_v1.0/audio/wav_cl...   \n",
       "...                                                   ...   \n",
       "166645  /home/users/gmenon/dali/DALI_v1.0/audio/wav_cl...   \n",
       "166648  /home/users/gmenon/dali/DALI_v1.0/audio/wav_cl...   \n",
       "166652  /home/users/gmenon/dali/DALI_v1.0/audio/wav_cl...   \n",
       "166655  /home/users/gmenon/dali/DALI_v1.0/audio/wav_cl...   \n",
       "166657  /home/users/gmenon/dali/DALI_v1.0/audio/wav_cl...   \n",
       "\n",
       "                                     transcription  \n",
       "3                      since you went out the door  \n",
       "4                                    all the times  \n",
       "19                        i would love it all back  \n",
       "21                                 and the night's  \n",
       "29                        to the shakes the breaks  \n",
       "...                                            ...  \n",
       "166645                       and now that i'm gone  \n",
       "166648  scatter my ashes where they won't be found  \n",
       "166652      i am not the one that you should blame  \n",
       "166655        so take what i left you for the pain  \n",
       "166657                         chealternativeavrei  \n",
       "\n",
       "[33332 rows x 2 columns]"
      ]
     },
     "execution_count": 11,
     "metadata": {},
     "output_type": "execute_result"
    }
   ],
   "source": [
    "inter_dataset = song_metadata.merge(train.drop_duplicates(), on=['file_name','transcription'], \n",
    "                   how='left', indicator=True)\n",
    "validation = inter_dataset[inter_dataset[\"_merge\"] == \"left_only\"][['file_name','transcription']]\n",
    "validation"
   ]
  },
  {
   "cell_type": "code",
   "execution_count": 12,
   "metadata": {},
   "outputs": [],
   "source": [
    "train.to_csv(\"/home/users/gmenon/notebooks/home/users/gmenon/notebooks/train_metadata_cleaned.csv\")"
   ]
  },
  {
   "cell_type": "code",
   "execution_count": 13,
   "metadata": {},
   "outputs": [],
   "source": [
    "validation.to_csv(\"/home/users/gmenon/notebooks/home/users/gmenon/notebooks/validation_metadata_cleaned.csv\")"
   ]
  },
  {
   "cell_type": "code",
   "execution_count": 14,
   "metadata": {},
   "outputs": [
    {
     "name": "stdout",
     "output_type": "stream",
     "text": [
      "/home/users/gmenon/dali/DALI_v1.0/audio/wav_clips/b518dbe96486489a8825a87764fc077d.wav\n",
      "/home/users/gmenon/dali/DALI_v1.0/audio/wav_clips/c0e08565927b4fb7aa3b29ca77c62ee4.wav\n"
     ]
    }
   ],
   "source": [
    "for rows in validation[\"file_name\"][:2]:\n",
    "    print(rows)"
   ]
  },
  {
   "cell_type": "code",
   "execution_count": 15,
   "metadata": {},
   "outputs": [
    {
     "name": "stdout",
     "output_type": "stream",
     "text": [
      "since you went out the door\n",
      "all the times\n"
     ]
    }
   ],
   "source": [
    "for rows in validation[\"transcription\"][:2]:\n",
    "    print(rows)"
   ]
  },
  {
   "cell_type": "code",
   "execution_count": null,
   "metadata": {},
   "outputs": [],
   "source": []
  }
 ],
 "metadata": {
  "kernelspec": {
   "display_name": "Python 3 (ipykernel)",
   "language": "python",
   "name": "python3"
  },
  "language_info": {
   "codemirror_mode": {
    "name": "ipython",
    "version": 3
   },
   "file_extension": ".py",
   "mimetype": "text/x-python",
   "name": "python",
   "nbconvert_exporter": "python",
   "pygments_lexer": "ipython3",
   "version": "3.8.6"
  }
 },
 "nbformat": 4,
 "nbformat_minor": 1
}
