{
 "cells": [
  {
   "cell_type": "markdown",
   "id": "673e521e",
   "metadata": {},
   "source": [
    "## Goal : Creating a new dataset that can load data. \n",
    "\n",
    "1. Download data from DALI.\n",
    "2. Load it into Huggingface Datasets.\n",
    "3. Break down the entire audios into smaller six second chunks. Make this parametrizable and create another metadata.csv file that has this information to be passed into the Wav2vec models.\n",
    "4. Finetune the Wav2vec model with this dataset.\n",
    "5. Evaluation procedure to make sure the Wav2vec works.\n",
    "\n",
    "\n",
    "\n",
    "***Note:** If the **.wav** files are too big and taking time, we may have to revert to **.mp3** files. However, in the initial experimentations done, mp3 files are not playable by Ipython.display and hence i omitted using them in the model*\n"
   ]
  },
  {
   "cell_type": "code",
   "execution_count": null,
   "id": "b28b8a4f",
   "metadata": {},
   "outputs": [],
   "source": [
    "!pip freeze"
   ]
  },
  {
   "cell_type": "code",
   "execution_count": null,
   "id": "9c17736c",
   "metadata": {
    "scrolled": false
   },
   "outputs": [],
   "source": [
    "!pip install dali-dataset\n",
    "#!pip install sox\n",
    "#!pip install torchaudio==0.11.0\n",
    "! pip install torchaudio --upgrade\n",
    "! pip install datasets --upgrade\n",
    "#!pip install datasets==1.18.3\n",
    "#!pip install soundfile==0.12.1\n",
    "#!pip install --force-reinstall soundfile\n",
    "# ! pip install spacy\n",
    "# ! pip install spacy-langdetect\n",
    "# !python3 -m spacy download en_core_web_sm\n",
    "!pip install fasttext\n",
    "! pip install fasttext-langdetect\n"
   ]
  },
  {
   "cell_type": "code",
   "execution_count": null,
   "id": "c8d64e25",
   "metadata": {
    "pycharm": {
     "is_executing": true
    },
    "scrolled": false
   },
   "outputs": [],
   "source": [
    "import datasets\n",
    "datasets.__version__\n"
   ]
  },
  {
   "cell_type": "code",
   "execution_count": 55,
   "id": "cda4b7a7",
   "metadata": {
    "scrolled": false
   },
   "outputs": [],
   "source": [
    "import os\n",
    "import DALI as dali_code\n",
    "import logging\n",
    "import soundfile\n",
    "from typing import Dict, Optional, List\n",
    "import pandas as pd\n",
    "import numpy as np\n",
    "\n",
    "logging.basicConfig(filename='app.log', filemode='w', format='%(asctime)s - %(name)s - %(levelname)s - %(message)s', level=logging.INFO)\n",
    "__all__ = [\"DALIDataset\"]\n",
    "\n",
    "class DALIDataset():\n",
    "    def __init__(self, data_path: str , file_path: Optional[str] = None):\n",
    "        self._data_path = data_path\n",
    "        if file_path is None:\n",
    "            self._file_path = self._data_path + 'audio/'\n",
    "        else:\n",
    "            self._file_path = file_path\n",
    "\n",
    "    @property\n",
    "    def data_path(self):\n",
    "        logging.info(\"Setting the data_path\")\n",
    "        return self._data_path\n",
    "\n",
    "    @data_path.setter\n",
    "    def data_path(self, data_path: str):\n",
    "        logging.info(\"Setting the data_path\")\n",
    "        self._data_path = data_path\n",
    "\n",
    "    @property\n",
    "    def file_path(self):\n",
    "        logging.info(\"Setting the data_path\")\n",
    "        return self._file_path\n",
    "\n",
    "    @file_path.setter\n",
    "    def file_path(self, file_path: str):\n",
    "        logging.info(\"Setting the data_path\")\n",
    "        self._file_path = file_path\n",
    "\n",
    "    def get_data(self) -> Dict:\n",
    "        logging.info(\"Getting the data_path\")\n",
    "        if self._data_path is not None:\n",
    "            dali_dataset = dali_code.get_the_DALI_dataset(self._data_path, skip=[], keep=[])\n",
    "            logging.info(f\"The DALI dataset has been downloaded\")\n",
    "            return dali_dataset\n",
    "        else:\n",
    "            raise TypeError(f\"Set the data_path for the location of the DALI datasets; data_path = {self._data_path}\")\n",
    "\n",
    "    def download_data(self) -> NotImplementedError:\n",
    "        # dali_data = self.get_data()\n",
    "        # logging.info(f\"Downloading the data into the file path = {self._data_path}data/\")\n",
    "        raise NotImplementedError\n",
    "\n",
    "    def get_info(self) -> pd.DataFrame:\n",
    "        logging.info(f\"Getting the info related to the data from the data_path = {self._data_path}\")\n",
    "        if self._data_path is not None:\n",
    "            dali_info = dali_code.get_info(self._data_path + 'info/DALI_DATA_INFO.gz')\n",
    "            dali_df = pd.DataFrame(dali_info)[1:]\n",
    "            dali_df.columns = dali_info[0]\n",
    "            logging.info(f\"The DALI dataset has {len(dali_info)} rows in it\")\n",
    "            return dali_df\n",
    "        else:\n",
    "            raise TypeError(f\"Set the data_path for the location of the DALI datasets; data_path = {self._data_path}\")\n",
    "\n",
    "    def download_info(self) -> None:\n",
    "        dali_df = self.get_info()\n",
    "        logging.info(f\"Downloading to the file path = {self._data_path}info/ \")\n",
    "        dali_df.to_csv(self._data_path + 'info/dali_info.csv')\n",
    "        logging.info(f\"Download complete in the file path = {self._data_path}info/ \")\n",
    "\n",
    "    def download_audio(self) -> List:\n",
    "        logging.info(\"Downloading audio from youtube URLs associated with the info file\")\n",
    "        if self._data_path is not None or self._file_path is not None:\n",
    "            dali_info = self.get_info()\n",
    "            logging.info(f\"The DALI Audio download has {len(dali_info)} errors in it\")\n",
    "            return dali_code.get_audio(dali_info, self._file_path, skip=[], keep=[])\n",
    "        else:\n",
    "            raise TypeError(f\"Set the data_path & file_path for the location of the DALI datasets; \"\n",
    "                            f\"data_path = {self._data_path}, file_path = {self._file_path}\")\n",
    "\n",
    "\n",
    "\n",
    "\n"
   ]
  },
  {
   "cell_type": "code",
   "execution_count": 56,
   "id": "34c041c0",
   "metadata": {
    "scrolled": false
   },
   "outputs": [
    {
     "name": "stdout",
     "output_type": "stream",
     "text": [
      "1.2.0\n"
     ]
    }
   ],
   "source": [
    "print(soundfile.__libsndfile_version__)\n"
   ]
  },
  {
   "cell_type": "code",
   "execution_count": 7,
   "id": "54033b5c",
   "metadata": {
    "scrolled": false
   },
   "outputs": [],
   "source": [
    "dali = DALIDataset(data_path=\"/home/users/gmenon/dali/DALI_v1.0/\")"
   ]
  },
  {
   "cell_type": "code",
   "execution_count": 9,
   "id": "a7b82c58",
   "metadata": {
    "scrolled": false
   },
   "outputs": [],
   "source": [
    "dali_dataset = dali.get_data()"
   ]
  },
  {
   "cell_type": "markdown",
   "id": "b2e94687",
   "metadata": {},
   "source": [
    "## Explore the DALI Dataset\n",
    "\n",
    "In this particular section, I will be going through what the DALI dataset has to offer and understand how it relates with one particular song that is being played. Initial experiment i ran took the song in audacity and me running through the lyrics and information from the following info and annotations. It helped me to understand what is happening and what the data within the particular cells mean.\n",
    "\n",
    "**Goal** -  *I would like to have a spectogram with the entire song chunks that can then be used to break down the song into lines and then have the lyrics associated with them in them*"
   ]
  },
  {
   "cell_type": "code",
   "execution_count": null,
   "id": "a335c580",
   "metadata": {
    "scrolled": false
   },
   "outputs": [],
   "source": [
    "dali_dataset[\"e186227bb7474fa5a7738c9108f11972\"].info\n",
    "\n"
   ]
  },
  {
   "cell_type": "code",
   "execution_count": null,
   "id": "47d8831c",
   "metadata": {
    "scrolled": false
   },
   "outputs": [],
   "source": [
    "for k in dali_dataset[\"e186227bb7474fa5a7738c9108f11972\"].annotations[\"annot\"][\"lines\"][:5]:\n",
    "    print(f\"frequency = {k['freq']}, time = {k['time']}, text = {k['text']}\")"
   ]
  },
  {
   "cell_type": "code",
   "execution_count": null,
   "id": "26760e00",
   "metadata": {},
   "outputs": [],
   "source": [
    "lyrics = []\n",
    "for k in dali_dataset[\"e186227bb7474fa5a7738c9108f11972\"].annotations[\"annot\"][\"paragraphs\"]:\n",
    "    lyrics.append(k[\"text\"])\n",
    "\"\".join(lyrics)"
   ]
  },
  {
   "cell_type": "code",
   "execution_count": null,
   "id": "e1dfbc3d",
   "metadata": {
    "scrolled": false
   },
   "outputs": [],
   "source": [
    "BASE_AUDIO_PATH = \"/home/users/gmenon/dali/DALI_v1.0/audio/wav_data/\"\n",
    "    \n",
    "AUDIO_DOWNLOADED_FROM_YOUTUBE = [files.split('.')[0] for files in os.listdir(BASE_AUDIO_PATH)]\n",
    "AUDIO_DOWNLOADED_FROM_YOUTUBE[:5]"
   ]
  },
  {
   "cell_type": "code",
   "execution_count": null,
   "id": "17cf10c0",
   "metadata": {
    "scrolled": false
   },
   "outputs": [],
   "source": [
    "# import json\n",
    "# with open(\"/home/users/gmenon/dali/DALI_v1.0/info/dali_dataset.json\", \"w\") as outfile:\n",
    "#     json.dumps(dali_dataset, indent = 4)"
   ]
  },
  {
   "cell_type": "code",
   "execution_count": null,
   "id": "44c9a681",
   "metadata": {
    "scrolled": false
   },
   "outputs": [],
   "source": [
    "dali_info = pd.read_csv(\"/home/users/gmenon/dali/DALI_v1.0/info/dali_info.csv\") \\\n",
    "              .filter([\"DALI_ID\",\"NAME\",\"YOUTUBE\",\"WORKING\"])"
   ]
  },
  {
   "cell_type": "code",
   "execution_count": null,
   "id": "d1a4cd12",
   "metadata": {
    "scrolled": false
   },
   "outputs": [],
   "source": [
    "_replace_dict = {True: \"Y\", False: \"N\"}  \n",
    "dali_info[\"AUDIO_DWNLD\"] = dali_info[\"DALI_ID\"].isin(AUDIO_DOWNLOADED_FROM_YOUTUBE).replace(_replace_dict)\n",
    "dali_info[\"AUDIO_PATH\"] = BASE_AUDIO_PATH + dali_info[\"DALI_ID\"] + \".wav\"\n",
    "dali_info[\"AUDIO_DWNLD\"].value_counts()"
   ]
  },
  {
   "cell_type": "code",
   "execution_count": null,
   "id": "31107b25",
   "metadata": {
    "scrolled": false
   },
   "outputs": [],
   "source": [
    "dali_info = dali_info.loc[dali_info['AUDIO_DWNLD'] == 'Y']"
   ]
  },
  {
   "cell_type": "code",
   "execution_count": null,
   "id": "e331bcb9",
   "metadata": {
    "scrolled": false
   },
   "outputs": [],
   "source": [
    "# Check whether the path looks good . It looks good\n",
    "dali_info['AUDIO_PATH'][9]"
   ]
  },
  {
   "cell_type": "code",
   "execution_count": null,
   "id": "40505680",
   "metadata": {
    "scrolled": false
   },
   "outputs": [],
   "source": [
    "dali_info"
   ]
  },
  {
   "cell_type": "raw",
   "id": "4fb4bbae",
   "metadata": {
    "scrolled": false
   },
   "source": [
    "import csv\n",
    "header = [\"file_name\",\"transcription\"]\n",
    "with open('/home/users/gmenon/dali/DALI_v1.0/audio/wav_data/metadata.csv', 'w', encoding='UTF8', newline='') as f:\n",
    "    writer = csv.writer(f, delimiter=',', quoting=csv.QUOTE_MINIMAL)\n",
    "    writer.writerow(header)\n",
    "    \n",
    "    for dali_id in dali_info[\"DALI_ID\"]:\n",
    "        file_name = BASE_AUDIO_PATH + dali_id + '.wav'\n",
    "        _lyrics = []\n",
    "        for paragraph in dali_dataset[dali_id].annotations[\"annot\"][\"paragraphs\"]:\n",
    "            _lyrics.append(paragraph[\"text\"])\n",
    "        song_lyrics = \"\".join(_lyrics)\n",
    "        writer.writerow([file_name,song_lyrics.strip()])"
   ]
  },
  {
   "cell_type": "code",
   "execution_count": null,
   "id": "e835b0a7",
   "metadata": {},
   "outputs": [],
   "source": [
    "song_metadata = pd.read_csv(\"/home/users/gmenon/dali/DALI_v1.0/audio/wav_data/metadata.csv\",delimiter= \",\")\n",
    "song_metadata.transcription[:10]"
   ]
  },
  {
   "cell_type": "code",
   "execution_count": null,
   "id": "1a5b1b98",
   "metadata": {},
   "outputs": [],
   "source": [
    "import os\n",
    "import librosa\n",
    "import warnings\n",
    "BASE_AUDIO_PATH = \"/home/users/gmenon/dali/DALI_v1.0/audio/wav_clips/\"\n",
    "corrupt_files = []\n",
    "file_list = os.listdir(BASE_AUDIO_PATH)\n",
    "for wav_file in file_list:\n",
    "    try:\n",
    "        librosa.load(BASE_AUDIO_PATH + wav_file)\n",
    "    except:\n",
    "        corrupt_files.append(BASE_AUDIO_PATH + wav_file)\n",
    "\n",
    "len(corrupt_files)\n",
    "\n",
    "\n"
   ]
  },
  {
   "cell_type": "code",
   "execution_count": null,
   "id": "b8854442",
   "metadata": {},
   "outputs": [],
   "source": [
    "song_metadata = pd.read_csv(\"/home/users/gmenon/dali/DALI_v1.0/audio/wav_clips/metadata.csv\",delimiter= \",\")\n",
    "song_metadata['file_name'] = \"/home/users/gmenon/dali/DALI_v1.0/audio/wav_clips/\" + song_metadata[\"file_name\"]\n",
    "song_metadata[\"transcription\"] = song_metadata[\"transcription\"].astype(str)\n",
    "song_metadata.shape"
   ]
  },
  {
   "cell_type": "code",
   "execution_count": null,
   "id": "8722fe16",
   "metadata": {},
   "outputs": [],
   "source": [
    "#https://www.adamsmith.haus/python/answers/how-to-filter-a-pandas-dataframe-with-a-list-by-%60in%60-or-%60not-in%60-in-python\n",
    "\n",
    "song_metadata = song_metadata[~song_metadata.file_name.isin(corrupt_files)]\n",
    "song_metadata.shape"
   ]
  },
  {
   "cell_type": "raw",
   "id": "385b8df8",
   "metadata": {},
   "source": [
    "song_metadata.to_csv(\"home/users/gmenon/notebooks/song_metadata_cleaned.csv\")"
   ]
  },
  {
   "cell_type": "code",
   "execution_count": 69,
   "id": "29c59858",
   "metadata": {},
   "outputs": [
    {
     "data": {
      "text/html": [
       "<div>\n",
       "<style scoped>\n",
       "    .dataframe tbody tr th:only-of-type {\n",
       "        vertical-align: middle;\n",
       "    }\n",
       "\n",
       "    .dataframe tbody tr th {\n",
       "        vertical-align: top;\n",
       "    }\n",
       "\n",
       "    .dataframe thead th {\n",
       "        text-align: right;\n",
       "    }\n",
       "</style>\n",
       "<table border=\"1\" class=\"dataframe\">\n",
       "  <thead>\n",
       "    <tr style=\"text-align: right;\">\n",
       "      <th></th>\n",
       "      <th>Unnamed: 0</th>\n",
       "      <th>file_name</th>\n",
       "      <th>transcription</th>\n",
       "      <th>language</th>\n",
       "    </tr>\n",
       "  </thead>\n",
       "  <tbody>\n",
       "    <tr>\n",
       "      <th>90</th>\n",
       "      <td>90</td>\n",
       "      <td>/home/users/gmenon/dali/DALI_v1.0/audio/wav_cl...</td>\n",
       "      <td>betrogen kluge worte was</td>\n",
       "      <td>en</td>\n",
       "    </tr>\n",
       "    <tr>\n",
       "      <th>115</th>\n",
       "      <td>115</td>\n",
       "      <td>/home/users/gmenon/dali/DALI_v1.0/audio/wav_cl...</td>\n",
       "      <td>boy my life</td>\n",
       "      <td>en</td>\n",
       "    </tr>\n",
       "    <tr>\n",
       "      <th>116</th>\n",
       "      <td>116</td>\n",
       "      <td>/home/users/gmenon/dali/DALI_v1.0/audio/wav_cl...</td>\n",
       "      <td>ain't what it used to be</td>\n",
       "      <td>en</td>\n",
       "    </tr>\n",
       "    <tr>\n",
       "      <th>118</th>\n",
       "      <td>118</td>\n",
       "      <td>/home/users/gmenon/dali/DALI_v1.0/audio/wav_cl...</td>\n",
       "      <td>since you went out the door</td>\n",
       "      <td>en</td>\n",
       "    </tr>\n",
       "    <tr>\n",
       "      <th>119</th>\n",
       "      <td>119</td>\n",
       "      <td>/home/users/gmenon/dali/DALI_v1.0/audio/wav_cl...</td>\n",
       "      <td>all the times</td>\n",
       "      <td>en</td>\n",
       "    </tr>\n",
       "    <tr>\n",
       "      <th>...</th>\n",
       "      <td>...</td>\n",
       "      <td>...</td>\n",
       "      <td>...</td>\n",
       "      <td>...</td>\n",
       "    </tr>\n",
       "    <tr>\n",
       "      <th>14214</th>\n",
       "      <td>14251</td>\n",
       "      <td>/home/users/gmenon/dali/DALI_v1.0/audio/wav_cl...</td>\n",
       "      <td>guinea bissau</td>\n",
       "      <td>en</td>\n",
       "    </tr>\n",
       "    <tr>\n",
       "      <th>14215</th>\n",
       "      <td>14252</td>\n",
       "      <td>/home/users/gmenon/dali/DALI_v1.0/audio/wav_cl...</td>\n",
       "      <td>today it's rainin</td>\n",
       "      <td>en</td>\n",
       "    </tr>\n",
       "    <tr>\n",
       "      <th>14216</th>\n",
       "      <td>14253</td>\n",
       "      <td>/home/users/gmenon/dali/DALI_v1.0/audio/wav_cl...</td>\n",
       "      <td>in jerusalem</td>\n",
       "      <td>en</td>\n",
       "    </tr>\n",
       "    <tr>\n",
       "      <th>14217</th>\n",
       "      <td>14254</td>\n",
       "      <td>/home/users/gmenon/dali/DALI_v1.0/audio/wav_cl...</td>\n",
       "      <td>in monrovia</td>\n",
       "      <td>en</td>\n",
       "    </tr>\n",
       "    <tr>\n",
       "      <th>14218</th>\n",
       "      <td>14255</td>\n",
       "      <td>/home/users/gmenon/dali/DALI_v1.0/audio/wav_cl...</td>\n",
       "      <td>guinea bissau</td>\n",
       "      <td>en</td>\n",
       "    </tr>\n",
       "  </tbody>\n",
       "</table>\n",
       "<p>10000 rows × 4 columns</p>\n",
       "</div>"
      ],
      "text/plain": [
       "       Unnamed: 0                                          file_name   \n",
       "90             90  /home/users/gmenon/dali/DALI_v1.0/audio/wav_cl...  \\\n",
       "115           115  /home/users/gmenon/dali/DALI_v1.0/audio/wav_cl...   \n",
       "116           116  /home/users/gmenon/dali/DALI_v1.0/audio/wav_cl...   \n",
       "118           118  /home/users/gmenon/dali/DALI_v1.0/audio/wav_cl...   \n",
       "119           119  /home/users/gmenon/dali/DALI_v1.0/audio/wav_cl...   \n",
       "...           ...                                                ...   \n",
       "14214       14251  /home/users/gmenon/dali/DALI_v1.0/audio/wav_cl...   \n",
       "14215       14252  /home/users/gmenon/dali/DALI_v1.0/audio/wav_cl...   \n",
       "14216       14253  /home/users/gmenon/dali/DALI_v1.0/audio/wav_cl...   \n",
       "14217       14254  /home/users/gmenon/dali/DALI_v1.0/audio/wav_cl...   \n",
       "14218       14255  /home/users/gmenon/dali/DALI_v1.0/audio/wav_cl...   \n",
       "\n",
       "                     transcription language  \n",
       "90        betrogen kluge worte was       en  \n",
       "115                    boy my life       en  \n",
       "116       ain't what it used to be       en  \n",
       "118    since you went out the door       en  \n",
       "119                  all the times       en  \n",
       "...                            ...      ...  \n",
       "14214                guinea bissau       en  \n",
       "14215            today it's rainin       en  \n",
       "14216                 in jerusalem       en  \n",
       "14217                  in monrovia       en  \n",
       "14218                guinea bissau       en  \n",
       "\n",
       "[10000 rows x 4 columns]"
      ]
     },
     "execution_count": 69,
     "metadata": {},
     "output_type": "execute_result"
    }
   ],
   "source": [
    "song_metadata = pd.read_csv(\"home/users/gmenon/notebooks/song_metadata_cleaned.csv\")\n",
    "from ftlangdetect import detect\n",
    "\n",
    "def is_english(text: str) -> str:\n",
    "    \"\"\"Simple Function to detect whether the language of the text is english or not.\n",
    "    Returns a Boolean output for the same.Input the text column\"\"\"\n",
    "    return detect(text, low_memory=True)[\"lang\"]\n",
    "\n",
    "chars_to_ignore_regex = '[\\,\\?\\.\\!\\-\\;\\:\\\"\\%\\$\\&\\^\\*\\@\\#\\<\\>\\/\\+\\\\=\\_\\\\}\\{\\)\\(\\]\\[\\`1234567890]'\n",
    "song_metadata[\"transcription\"] = song_metadata[\"transcription\"].replace(chars_to_ignore_regex, '', regex=True)\n",
    "song_metadata = song_metadata[song_metadata.transcription.str.len()>8]\n",
    "song_metadata[\"language\"] = song_metadata[\"transcription\"].apply(is_english)\n",
    "song_metadata = song_metadata.loc[song_metadata[\"language\"] == \"en\"]\n",
    "song_metadata = song_metadata.head(10000)\n",
    "song_metadata"
   ]
  },
  {
   "cell_type": "code",
   "execution_count": 70,
   "id": "06660093",
   "metadata": {},
   "outputs": [],
   "source": [
    "# import spacy\n",
    "# from spacy.language import Language\n",
    "# from spacy_langdetect import LanguageDetector\n",
    "\n",
    "# def is_english(text: str) -> bool:\n",
    "#     \"\"\"Simple Function to detect whether the language of the text is english or not.\n",
    "#     Returns a Boolean output for the same.Input the text column\"\"\"\n",
    "    \n",
    "#     def get_lang_detector(nlp, name):\n",
    "#         return LanguageDetector(seed=42)  # We use the seed 42\n",
    "    \n",
    "#     nlp = spacy.load(\"en_core_web_sm\")\n",
    "#     import en_core_web_sm\n",
    "#     nlp = en_core_web_sm.load()\n",
    "#     nlp.add_pipe(factory_name=\"language_detector\")\n",
    "#     doc = nlp(text)\n",
    "#     return doc._.language    "
   ]
  },
  {
   "cell_type": "code",
   "execution_count": 71,
   "id": "c5ee0093",
   "metadata": {
    "scrolled": false
   },
   "outputs": [],
   "source": [
    "from datasets import load_dataset,Dataset, Audio\n",
    "#audio_dataset = Dataset.from_dict({\"audio\": list(dali_info['AUDIO_PATH'])}).cast_column(\"audio\", Audio())\n",
    "\n",
    "audio_dataset = Dataset.from_dict({\"audio\": list(song_metadata[\"file_name\"]), \"transcription\": list(song_metadata[\"transcription\"])}).cast_column(\"audio\", Audio(sampling_rate=16000))\n",
    "audio_dataset = audio_dataset.train_test_split(test_size=0.2, shuffle=True)"
   ]
  },
  {
   "cell_type": "code",
   "execution_count": 72,
   "id": "c81a8a8b",
   "metadata": {},
   "outputs": [],
   "source": [
    "import torch\n",
    "torch.cuda.empty_cache()"
   ]
  },
  {
   "cell_type": "code",
   "execution_count": 73,
   "id": "bcefa858",
   "metadata": {
    "scrolled": false
   },
   "outputs": [],
   "source": [
    "# from datasets import load_dataset,Dataset, Audio\n",
    "# #audio_dataset = Dataset.from_dict({\"audio\": list(dali_info['AUDIO_PATH'])}).cast_column(\"audio\", Audio())\n",
    "\n",
    "# audio_dataset = Dataset.from_dict({\"audio\": [\"/home/users/gmenon/0a0c413b5290497c96d5327e2ef2ad8d.wav\"]}).cast_column(\"audio\", Audio(sampling_rate=16000))\n",
    "# #audio_dataset = audio_dataset.train_test_split(test_size=0.2, shuffle=True)\n",
    "# audio_dataset"
   ]
  },
  {
   "cell_type": "code",
   "execution_count": 74,
   "id": "0ee9bf7e",
   "metadata": {
    "scrolled": false
   },
   "outputs": [],
   "source": [
    "#np.asarray(\"/home/users/gmenon/0a0c413b5290497c96d5327e2ef2ad8d.wav\")"
   ]
  },
  {
   "cell_type": "code",
   "execution_count": 75,
   "id": "979e9f49",
   "metadata": {
    "scrolled": false
   },
   "outputs": [
    {
     "data": {
      "text/plain": [
       "[{'path': '/home/users/gmenon/dali/DALI_v1.0/audio/wav_clips/26b6fd2575eb43f29cf95b16051cbe8a.wav',\n",
       "  'array': array([-8.62852018e-03, -1.88995432e-02, -2.35048588e-02, ...,\n",
       "          6.11202698e-03, -3.55818775e-05,  1.74759142e-03]),\n",
       "  'sampling_rate': 16000},\n",
       " {'path': '/home/users/gmenon/dali/DALI_v1.0/audio/wav_clips/399748901f77492b93777e23d62f8284.wav',\n",
       "  'array': array([0.30599743, 0.36870104, 0.22216871, ..., 0.57251674, 0.71395081,\n",
       "         0.57430881]),\n",
       "  'sampling_rate': 16000},\n",
       " {'path': '/home/users/gmenon/dali/DALI_v1.0/audio/wav_clips/c0e08565927b4fb7aa3b29ca77c62ee4.wav',\n",
       "  'array': array([-0.04980557, -0.05525054, -0.03459763, ...,  0.06610934,\n",
       "          0.06904469,  0.07211959]),\n",
       "  'sampling_rate': 16000},\n",
       " {'path': '/home/users/gmenon/dali/DALI_v1.0/audio/wav_clips/8b1b21296a224ed1968a3a1fc54bba36.wav',\n",
       "  'array': array([ 0.01293724, -0.04017918, -0.05619805, ...,  0.08607915,\n",
       "          0.09864275,  0.07755247]),\n",
       "  'sampling_rate': 16000},\n",
       " {'path': '/home/users/gmenon/dali/DALI_v1.0/audio/wav_clips/cecd5fbd4e734d9184f7caf21a3d4af1.wav',\n",
       "  'array': array([-0.06065489, -0.13353515, -0.17443013, ...,  0.04674471,\n",
       "         -0.07038181, -0.15675963]),\n",
       "  'sampling_rate': 16000},\n",
       " {'path': '/home/users/gmenon/dali/DALI_v1.0/audio/wav_clips/22a3a9881ea34f078808b6fcea50eff8.wav',\n",
       "  'array': array([-0.10546312, -0.14856677, -0.06757235, ..., -0.35824209,\n",
       "         -0.30040759, -0.18656813]),\n",
       "  'sampling_rate': 16000}]"
      ]
     },
     "execution_count": 75,
     "metadata": {},
     "output_type": "execute_result"
    }
   ],
   "source": [
    "audio_dataset[\"train\"][:6][\"audio\"]"
   ]
  },
  {
   "cell_type": "code",
   "execution_count": 76,
   "id": "23d35917",
   "metadata": {
    "scrolled": false
   },
   "outputs": [
    {
     "data": {
      "text/html": [
       "\n",
       "                <audio  controls=\"controls\" autoplay=\"autoplay\">\n",
       "                    <source src=\"data:audio/wav;base64,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\" type=\"audio/wav\" />\n",
       "                    Your browser does not support the audio element.\n",
       "                </audio>\n",
       "              "
      ],
      "text/plain": [
       "<IPython.lib.display.Audio object>"
      ]
     },
     "execution_count": 76,
     "metadata": {},
     "output_type": "execute_result"
    }
   ],
   "source": [
    "import IPython.display as ipd\n",
    "ipd.Audio(data=np.asarray(audio_dataset[\"train\"][0][\"audio\"][\"array\"]), autoplay=True, rate=16000)"
   ]
  },
  {
   "cell_type": "code",
   "execution_count": 77,
   "id": "2bdbcbf6",
   "metadata": {
    "scrolled": false
   },
   "outputs": [],
   "source": [
    "# np.asarray(audio_dataset[0][\"audio\"])"
   ]
  },
  {
   "cell_type": "code",
   "execution_count": 78,
   "id": "f0552e80",
   "metadata": {
    "scrolled": false
   },
   "outputs": [],
   "source": [
    "# import IPython.display as ipd\n",
    "# import numpy as np\n",
    "# import random\n",
    "\n",
    "# print(audio_dataset[\"train\"][rand_int][\"transcription\"])\n",
    "# ipd.Audio(data=np.asarray(audio_dataset[\"train\"][rand_int][\"audio\"][\"array\"]), autoplay=True, rate=16000)"
   ]
  },
  {
   "cell_type": "markdown",
   "id": "eafbd570",
   "metadata": {},
   "source": [
    "\n",
    "### FINETUNE WAV2VEC USING THIS NEW DATASET\n",
    "\n",
    "This will be interesting as we will be finetuning the dataset of Wav2vec2.0 speech recognition using the new work we are doing for Songs to Lyrics generation."
   ]
  },
  {
   "cell_type": "code",
   "execution_count": 79,
   "id": "c2b653d7",
   "metadata": {
    "scrolled": false
   },
   "outputs": [],
   "source": [
    "from datasets import ClassLabel\n",
    "import random\n",
    "import pandas as pd\n",
    "from IPython.display import display, HTML\n",
    "\n",
    "def show_random_elements(dataset, num_examples=10):\n",
    "    assert num_examples <= len(dataset), \"Can't pick more elements than there are in the dataset.\"\n",
    "    picks = []\n",
    "    for _ in range(num_examples):\n",
    "        pick = random.randint(0, len(dataset)-1)\n",
    "        while pick in picks:\n",
    "            pick = random.randint(0, len(dataset)-1)\n",
    "        picks.append(pick)\n",
    "    \n",
    "    df = pd.DataFrame(dataset[picks])\n",
    "    display(HTML(df.to_html()))"
   ]
  },
  {
   "cell_type": "code",
   "execution_count": 80,
   "id": "dad356e4",
   "metadata": {
    "scrolled": false
   },
   "outputs": [
    {
     "data": {
      "text/html": [
       "<table border=\"1\" class=\"dataframe\">\n",
       "  <thead>\n",
       "    <tr style=\"text-align: right;\">\n",
       "      <th></th>\n",
       "      <th>transcription</th>\n",
       "    </tr>\n",
       "  </thead>\n",
       "  <tbody>\n",
       "    <tr>\n",
       "      <th>0</th>\n",
       "      <td>i don't think so</td>\n",
       "    </tr>\n",
       "    <tr>\n",
       "      <th>1</th>\n",
       "      <td>her baby's on the way</td>\n",
       "    </tr>\n",
       "    <tr>\n",
       "      <th>2</th>\n",
       "      <td>could you ask for more</td>\n",
       "    </tr>\n",
       "    <tr>\n",
       "      <th>3</th>\n",
       "      <td>you're so far</td>\n",
       "    </tr>\n",
       "    <tr>\n",
       "      <th>4</th>\n",
       "      <td>and when i see your face</td>\n",
       "    </tr>\n",
       "    <tr>\n",
       "      <th>5</th>\n",
       "      <td>make me think</td>\n",
       "    </tr>\n",
       "    <tr>\n",
       "      <th>6</th>\n",
       "      <td>when my journey began</td>\n",
       "    </tr>\n",
       "    <tr>\n",
       "      <th>7</th>\n",
       "      <td>every time i hear this song</td>\n",
       "    </tr>\n",
       "    <tr>\n",
       "      <th>8</th>\n",
       "      <td>redrainispouringdown</td>\n",
       "    </tr>\n",
       "    <tr>\n",
       "      <th>9</th>\n",
       "      <td>in our image let's make robots for our slaves</td>\n",
       "    </tr>\n",
       "  </tbody>\n",
       "</table>"
      ],
      "text/plain": [
       "<IPython.core.display.HTML object>"
      ]
     },
     "metadata": {},
     "output_type": "display_data"
    }
   ],
   "source": [
    "show_random_elements(audio_dataset[\"train\"].remove_columns(\"audio\"))"
   ]
  },
  {
   "cell_type": "code",
   "execution_count": 81,
   "id": "2302bdaa",
   "metadata": {
    "scrolled": false
   },
   "outputs": [],
   "source": [
    "import re\n",
    "chars_to_ignore_regex = '[\\,\\?\\.\\!\\-\\;\\:\\\"\\%\\$\\&\\^\\*\\@\\#\\<\\>\\/\\+\\\\=\\_\\\\}\\{\\)\\(\\]\\[\\`1234567890]'\n",
    "\n",
    "def remove_special_characters(batch):\n",
    "  #  batch[\"transcription\"] = re.sub(chars_to_ignore_regex, '', batch[\"transcription\"]).lower() + ' '\n",
    "    batch[\"transcription\"] = re.sub(chars_to_ignore_regex, '', batch[\"transcription\"]).upper()\n",
    "    return batch"
   ]
  },
  {
   "cell_type": "code",
   "execution_count": 82,
   "id": "d52036a1",
   "metadata": {
    "scrolled": false
   },
   "outputs": [
    {
     "data": {
      "application/vnd.jupyter.widget-view+json": {
       "model_id": "7d72a047a6b049b999b45b31ad1de1df",
       "version_major": 2,
       "version_minor": 0
      },
      "text/plain": [
       "Map:   0%|          | 0/8000 [00:00<?, ? examples/s]"
      ]
     },
     "metadata": {},
     "output_type": "display_data"
    },
    {
     "data": {
      "application/vnd.jupyter.widget-view+json": {
       "model_id": "cb435682e0484467af2591b74ae791ca",
       "version_major": 2,
       "version_minor": 0
      },
      "text/plain": [
       "Map:   0%|          | 0/2000 [00:00<?, ? examples/s]"
      ]
     },
     "metadata": {},
     "output_type": "display_data"
    }
   ],
   "source": [
    "audio_dataset = audio_dataset.map(remove_special_characters)"
   ]
  },
  {
   "cell_type": "code",
   "execution_count": 83,
   "id": "c34fb6ef",
   "metadata": {
    "scrolled": false
   },
   "outputs": [],
   "source": [
    "def extract_all_chars(batch):\n",
    "    all_text = \" \".join(batch[\"transcription\"])\n",
    "    vocab = list(set(all_text))\n",
    "    return {\"vocab\": [vocab], \"all_text\": [all_text]}"
   ]
  },
  {
   "cell_type": "code",
   "execution_count": 84,
   "id": "1e39fe06",
   "metadata": {
    "scrolled": false
   },
   "outputs": [
    {
     "data": {
      "application/vnd.jupyter.widget-view+json": {
       "model_id": "c74c7b9ba3f649e2b8628ed74f3b6ade",
       "version_major": 2,
       "version_minor": 0
      },
      "text/plain": [
       "Map:   0%|          | 0/8000 [00:00<?, ? examples/s]"
      ]
     },
     "metadata": {},
     "output_type": "display_data"
    },
    {
     "data": {
      "application/vnd.jupyter.widget-view+json": {
       "model_id": "1de25da9975e4166b48c0f13a8dd3ace",
       "version_major": 2,
       "version_minor": 0
      },
      "text/plain": [
       "Map:   0%|          | 0/2000 [00:00<?, ? examples/s]"
      ]
     },
     "metadata": {},
     "output_type": "display_data"
    }
   ],
   "source": [
    "vocabs = audio_dataset.map(extract_all_chars, batched=True, batch_size=-1, keep_in_memory=True, remove_columns=audio_dataset.column_names[\"train\"])"
   ]
  },
  {
   "cell_type": "code",
   "execution_count": 85,
   "id": "7fe68b03",
   "metadata": {
    "scrolled": false
   },
   "outputs": [],
   "source": [
    "vocab_list = list(set(vocabs[\"train\"][\"vocab\"][0]) | set(vocabs[\"test\"][\"vocab\"][0]))"
   ]
  },
  {
   "cell_type": "code",
   "execution_count": 86,
   "id": "d1a387ea",
   "metadata": {
    "scrolled": false
   },
   "outputs": [
    {
     "data": {
      "text/plain": [
       "{\"'\": 0,\n",
       " 'Q': 1,\n",
       " 'A': 2,\n",
       " 'W': 3,\n",
       " 'X': 4,\n",
       " 'E': 5,\n",
       " 'O': 6,\n",
       " 'I': 7,\n",
       " 'M': 8,\n",
       " 'H': 9,\n",
       " 'Y': 10,\n",
       " 'L': 11,\n",
       " 'Z': 12,\n",
       " 'S': 13,\n",
       " 'U': 14,\n",
       " 'N': 15,\n",
       " 'C': 16,\n",
       " 'V': 17,\n",
       " 'R': 18,\n",
       " 'B': 19,\n",
       " 'K': 20,\n",
       " 'G': 21,\n",
       " 'F': 22,\n",
       " 'P': 23,\n",
       " 'D': 24,\n",
       " 'T': 25,\n",
       " 'J': 26,\n",
       " ' ': 27}"
      ]
     },
     "execution_count": 86,
     "metadata": {},
     "output_type": "execute_result"
    }
   ],
   "source": [
    "vocab_dict = {v: k for k, v in enumerate(vocab_list)}\n",
    "vocab_dict"
   ]
  },
  {
   "cell_type": "code",
   "execution_count": 87,
   "id": "4ddc73c1",
   "metadata": {
    "scrolled": false
   },
   "outputs": [],
   "source": [
    "\n",
    "vocab_dict[\"|\"] = vocab_dict[\" \"]\n",
    "del vocab_dict[\" \"]"
   ]
  },
  {
   "cell_type": "code",
   "execution_count": 88,
   "id": "39fa1d33",
   "metadata": {
    "scrolled": false
   },
   "outputs": [
    {
     "data": {
      "text/plain": [
       "30"
      ]
     },
     "execution_count": 88,
     "metadata": {},
     "output_type": "execute_result"
    }
   ],
   "source": [
    "vocab_dict[\"[UNK]\"] = len(vocab_dict)\n",
    "vocab_dict[\"[PAD]\"] = len(vocab_dict)\n",
    "len(vocab_dict)"
   ]
  },
  {
   "cell_type": "code",
   "execution_count": 89,
   "id": "631dbc06",
   "metadata": {
    "scrolled": false
   },
   "outputs": [],
   "source": [
    "import json\n",
    "with open('vocab.json', 'w') as vocab_file:\n",
    "    json.dump(vocab_dict, vocab_file)"
   ]
  },
  {
   "cell_type": "code",
   "execution_count": 90,
   "id": "3e9f1780",
   "metadata": {
    "scrolled": false
   },
   "outputs": [],
   "source": [
    "from transformers import Wav2Vec2CTCTokenizer\n",
    "\n",
    "tokenizer = Wav2Vec2CTCTokenizer(\"./vocab.json\", unk_token=\"[UNK]\", pad_token=\"[PAD]\", word_delimiter_token=\"|\")"
   ]
  },
  {
   "cell_type": "code",
   "execution_count": 91,
   "id": "080e972c",
   "metadata": {
    "scrolled": false
   },
   "outputs": [],
   "source": [
    "from transformers import Wav2Vec2FeatureExtractor\n",
    "\n",
    "feature_extractor = Wav2Vec2FeatureExtractor(feature_size=1, sampling_rate=16000, padding_value=0.0, do_normalize=True, return_attention_mask=False)\n"
   ]
  },
  {
   "cell_type": "code",
   "execution_count": 92,
   "id": "0bdd7c7d",
   "metadata": {},
   "outputs": [],
   "source": [
    "from transformers import Wav2Vec2Processor\n",
    "\n",
    "processor = Wav2Vec2Processor(feature_extractor=feature_extractor, tokenizer=tokenizer)"
   ]
  },
  {
   "cell_type": "code",
   "execution_count": 93,
   "id": "0ea454d5",
   "metadata": {
    "scrolled": false
   },
   "outputs": [
    {
     "name": "stdout",
     "output_type": "stream",
     "text": [
      "ONE CHANCE\n"
     ]
    },
    {
     "data": {
      "text/html": [
       "\n",
       "                <audio  controls=\"controls\" autoplay=\"autoplay\">\n",
       "                    <source src=\"data:audio/wav;base64,UklGRkBYAABXQVZFZm10IBAAAAABAAEAgD4AAAB9AAACABAAZGF0YRxYAAB347jiqvJC7u7q8v71ENAeljECOO46wEuYTYgz/yH2IBUVCQKN9jPqJujk/MsF7/zlClQbJQhr9if9GPxD7QXdocvDwqnExMMowJjIVuAD8fHwD/jTBPQEXAZVAHLhI9NW4bXg5Nf+3frm+vJf/ub/TwrFGGMT9Q0AGZwfjxs5Gu0anRKaBUoBZgBd/qUBFv9g9sj6BAV7DxIdwhbAB0gQDhX3BxwB5/Qc5M/ggdng1RDh1dwx2gTuIPSB+JYNAA5UCDcPDP/M6orob9+x5fL3ZeUT1OzlXetZ4RTme/fgDGAOIvsC++IHLgpcEUwbcx/QJXMg0RI/F6Ya7wy0Dt0d2hkjGv4x0TYDKhU0nzZ0HmIaQyM3FeQBo/Sx60jwnvhC/0IH6Qq6EioZ9A4UBAT4o+fM6rLo4c8K0wLn/tx82YvsH+pl2oDd+uls8yn4mPlNCl8rRTZWJ2cxf1WFWn1BBT85SmMzExEoFKchURBr8BHet+c/95HgScm05kgF4QIBBBgRtijEQYlDx0GBRLg4ODIXJ4IDzu/n5RPEz6odr//C5MinqDOfE8lI11PUBfJj9tjfne4oCC0DPO+B52b9KyOkQk1MkDIcGzEb9Pnpwua9StVb3urmuPIa+pP6C/Ie70r09/PO9GT1Me2e98cYjiPxInY5ozLhBHoAGQgb6470nQfqzwGt2Mu13cn4Jxh//YLkWPWrC9EdWwnS4tfhPc44v+D0R/wi2Jr/6BI/+UMrPE/NJSUoqkNgOYA6fzTrEboIGgN836TLysQsouWIZqOVxrHDTrirxfnRjOAyFXIqZusD2rgbgiBe+cf9Iur/v1u+o8b36TYfxxJt+98IJAE9BAoWHgI3AWAU2ALwAKEbOCh+MBYuaSmqOD07AzBvKwkmpCvkNJI4D0FENzgvgTn3HLICpxizFN8RTzG+HHgEBSh5JZEBogeyDMj4N+NI1MLdWOAuweO5F9FW1CPUdeDK2pzH7MD3z7/2pQxY6m/MxOqKDuEPFhNKNZRhK2FfR4VjlX+UWUhT6nZwXU04HUigTAUyARyiGC4vQj56K7IkfjmPOswkcyHRLtsxVjPnN0cx0SwqJSkDPeWY28DUiuJ999DsLdiNyWfCSNh+7BTgxdYI24TVmcBVqaWvd8WOuVird8ng7/v2b+mm58X6MgYi/67rGczDtt2ur6e/tITJKdF83kPiOeL6/lYPUBLlH+j+y9iM7d/sP+nZGQci+A59GM77HOMh+773KgGJKFUWugOkGicZmRWtBkbRFNGJ9QfrzPRdHrUesCJMSv1eqF5BX5tcvFNaOPUbmyGzJh8QLAajCAkHxRNQEdP3y/6LDNgBNAzoE8795fs+AXHyDOZZ1DnKL9Nmxhu0prJdqvCqYqIBgImJN6tPpt2tasifylbIQcQZwuDNysKssNC6Jrv8rnutf7Iu1lEDVAeMD9MzLzxSNAZD50WRLpgkeSQ/EEr3fumc47LtAfTa6En17xbnI+Yl9CtNNEI4/CX6HRA5O0IVM6gp9xoCHP0o3BNfCT0mhCpHGPIcnjHdPuo0GSzPOIkvoxbyGjAcMwq5/RnwWvL2B4EEFv5FHXo/GEe3PDM2kEChPQgtoTsVS8MrBgfs+sbzbPlyDbgKXe/250r8zQYjAK39+PpM7SDbocT5q+OgGKfDsLq0RbcduYawB6f5tX3QmszPqfGSNpsqrXC3V7lwtbu8GtqY8xP1MeqC35rmngZTFsL/CPG6+oPw2s79wI3JSs0Jzh7WA+Jc9HcHHg5XFJYYzAUB+YUHRwnTAogR7g/v80frYv0QE2YN8fEkAK0g8g1jAIMSxAKI7JHvn+rS7SHwleFp+vcbyQu1BaIXDh0tJR4gPBHbGGcOovt8F/EtUh4bGAgnZ0DNTeM+8zKlL40q+S+YKUkbCyY8JnQSHRABDO0ItCEzLPkYahX+JnAvGiDdDKQNLAxW+LXugPFB5aXU799W97/0Se5qAtYNhP92+jIF/w3tFH8f7yttO4VUOmelZH1mIWstWgVM0D25GiMTPCokIiQD9vhmDuQp3CQaGDUeqxZ9DnYXDRMRCq7+buvB9pwEn+xz2H3R6dZ28o34yPDi7YnNoMK423fK0sCq4a7W1bHfp3avLM/93dfJHc8W4632VBYzEAT+oRXeFTj9IxLbMwwpNP1e6LX6TfRR1JTPPdI72NroyO8+E3094CjEGWctcCKpGxUpwiADF30CoOAF45/qSuMV9rMH3QI0+Lbl5+8GEjcIvu/B/VwQ6gzUA0YNXhuKBnX8xS/WWH1MsT0/ODwnIBolKaFEOUYJNMcp8CdrMU04PilsJE0oYQwG82n67P0j9fPudfI/B80bOC0aRs0+4hEv/pkFI/tH6Fzrq/tP9rzZXtdu+H0Fvvdb+8wHKv7C7fDh/stXtc6y+r3Ow+G/477aw4LI9Nsq/8IOwAI8847uMfFc4IPC78358z33z9y1wAK4tc4I3ZXcBPV6BRf2CesG2FXEotZv2sy7H72qx4Stc5yLqgC+schxvwmxVLeByG7PgL2soRej4a0hnaWSHqiow+3LzMHP0WoDMhCA/J8FDRfoHiss3DBIO0ZLZzmAKYJAnlQjTDIo3gsCHuAh1/8UAJ8LZ/sJ/LYJixe5KnwkryHJMGcXgQXoJ+Iv+h50IYkeriAbJDsPfBOYMicyMiDUFy0dADAnME8nbjt1RPwjLQvTFLAeyw7JAVgNOxByChYjPkacSpI8AEUUY/9ZaykVIU8z8hz7/28GeRaCGmUPiQDBAWwQrx5vHREJofbH7ZzpIubU0fy+Bs2q10vKjclL00TSkcwGx6bEm7oipV6o9r2Jutu118kZ15DXWt6n5E7cicZ0uGXAhcs+yW3Cn8nd5vj6ge087NINtBES5pDO2tR7x1Gzkr6n0rzQNcPnvVzIf9fR3PDiAPLH937wtPHc/WcAxvr/++n4yPalEWAnxxBg/0kUJyjbIhQM0/rF/Vr65e1f9vkArf2hCjUpXUFGTQ5TfldgS8gvfipON444PDxsSfBY63BdeaJnQ2OcZldRHkBIQUoyVCEbL9M+4j8KSftP+0f/N4Ua+QyRH/YRVuls8iUPQwuICPwcgTY8Omwo4DCvSmhCXjOONfsz3jk8QdM4XTZbOEI6tkqbUfNDUDvlOjQ/xkFPOxc6fDxGOUwtvAhD6JDsvfA78nkGqwV09ncMoyybJQoH5wVAJocl2/mf5AbtFuzf2IXJBdQQ2zvJv8YR0YzQGOFU9B/oONcv1End1ewZ6IXZjuAk6tHa7r/auiTEELRMpv3EZOqu9zru+djv5ZYBSui/xWbPataRv62uOMX/6/3tZ93m3qTW/cHVxCjjVQGH/cbw+AIeAhTfu9QR02vGV8kqwKGpDa8Ptki0mMzH6XX5+BXtLzsiZAFF+B0F5AvXAK31WAt3K/oZE/rhCl4c6gX29fIGIyRDLwspATZ7Q6UkK//9/kMPmBWiDv8K3gtH+c/qdQDvFG4QNAx9EWwahhpHCu0AoAUHB7MOBBxTFTYIDweA+K7d09sq8fEEqRExFxUbSSMgLIs5C0ZFQF42ODvuPSguThm+GVwuiToSPJw4uyF5ByT/zf1xBmAVAxhjHtQrSCrRIvgaTgm592PtVOxz8qPzOfjfAfv2KN7Q06nS+cX7syO1s714tHeyb8PHxwXBNsB3xtfQUsgWtWO8asm80TPzxQztBL0JLRmUB0rp/eg09ovrVNtg7QAVGimvHR0R9BMQ+vzB6bWCzzbLm7eTvk7U9N4L4NznwOwV4njTH8CotBzB37+3s0PLH+qI9qEAQvea5Znlzd9934X5kQf3/Iv0KvT87rbkvPJHEGQJYPKb8h3y1u7N9gMFQiKKMvUdWh1iOxY3YAwm7KPsx/3QCAIVXSZgJl0SGv4A+T0A/P/D/b8LNRi0FEAN2Qe4CKgPDg4n/0nx1/JQ/eUBLgUDB2P8qvgvEDopfSkaINIfcCKZJqw1PElpU85JhzXLNlQ90SEpCRcOFQ95DzQWsRm/J5IlgQ3bHFo12By4BE4KHRZ1GFoDTvzLFjcWvAEzCyMbbR2TFEgJiRYSJ84iUSFvGQwK7QqgAf/r/een5qXmSvGs+bsEgQOe8fIC2iiuKaweGicNLh0d+/vN+a0ZLB83EHMXJyOiI7wbkwVT9JP3yf+E/9n0OPSQDOIarg1CAqr6je2D5GzUzb0WvnzJrsV7x4/b5umw5PLSIMarxdnAbLmrxITUG9Ns0fTeyOZ42DrPft224+bdzush/qgDoQ3UEGEIDgoACygF8AGs8W/hgOeb56HiM/i4EXkWgRYwFa0HvPLb5OTeqdDPvjvDqtlf6VX1jAt6HVsbIBa0ECn1h9vg53r6ffY0/Yscxi8AKgInnyikFXz9xf5jBsL72vBc/I4Y5jEmQZlBBikZD7wPzgzr9SPyrghgHyUyuj9qQ3ZB1zggKawc+RmQGUIW4hxnMAA9vTwiNzctFCDsDMj8NAfoIRU1uUjEW4VYOkBiK/kl7BvZB50JSxcGD4oRJDopWx5RQDRuLIYuUBOe+kUO5iSVLJ5CYFGMQ5Ax9ijKImcNA+5v62D6ffqqC8EwnDXeKD809DYFDQ7eNNjN5K7gRd2o7Z3/fwEz8lPZkcbXxwvX5ddPx+DIJ9v82h/TJdxv42LUpMBUwRfG4bgKutTYYedr3jjjl/TT+2j4ZfrBA0r83OII0dbHnsHPu8Cte6tGwffSodud5I7nY++b+/f4Be8g5aPaQNiw1tbVa9z80Je2rrboxcK9YKh6pQqwtqfQlWWbxaHAmGyp+s4g2H3M7czI0ATFL7aGuMPCnsbRypHVzeTq6x7hCd/L8ILwlOI97ff5sOyB4/jwofqQ72zjkuuY/poO3iUJRutRMTq+Ezbvvdb83Ur0Tvfg+vQNTRCUBTEKAxOwEIUH8P5k+efzYfzJFccg7iVcPK49PyEnEu0KGfj35Y/gwvAZA/0DVRptRhNP5UNzRxg+0CZgGS8PKw6YG/MjLTNhXHV5lmVPPRUoBSDyFG8QkhrwJH8kLig5PehMrEFHK+UT7feO6Pvs+POX+db/AAViECYgPSdQIe8VdxUHIbkoDjBhOhY42iyKI8oasRiZE90AYwCyGAcf/BRRHUIu2CysHiUXwBD8+vvnte6p+0sDpBcPLt4ykDXpMaoH/87NvtjLhNKb3r74HAqnDI4L5whRAsb2eOru4e3buuDY8wj+wPcl9RvyFeX44zPuH+kB5WX1wPui8AHx9vVL8SP0JwPnDVwIlPtSAtwR6QVO8JztNurx29/UsN+i9YkCgQkiHBMhmQW569Xi59i+zZrTT+9TA9H+4f8JAdje7756xkDH5bAJsqHK09HGyRzQRuI86MPkQe0W+SrycuvD92f4IetP+BcN3QVs/d/8ze724l/k3ubJ7Af0zviq/iz8TfhQAvUAJerM6kQSoDJAN3lB3lBJOWkFiOaV4s7oAusk6Cv6QRRLDHf/Lw/wEmj+FfhLAIACKAc2FnEgDR/iIX0rfCivF70QKhuFH4gYkCPyNqwteiN1MlovxRtuJeIrSgws+1kMhg4iC2QvlFcMVNo/Py99EG3vYekQ/aULkQG0/eEUzh+DFyUiYi+yHpQJ4wvFFl0UtgykFdAkCSHLFe8aeCSsF6T+MfvcB6sJ+QzaH88uSzQqN8AsXRf9CfIGLQxtH5A4Y0Z1RdQ9nzY6LUoeZhoVKswwiiMUHAAZqgrPBVwVURtrDGoFZAyO/QrYOMuf2Dna4Nav35zjb+Cs5BfsX++37CPiydZX0FrKlMQWwxrJZdP30dDH+s1P2NHRTNbZ5/bixd4R9tAElQQjDzUVNQujBBoIHAmx/D3x6fhm/PHtx+f05q3YUc08z8HS5NMD0wPPacmsy+7cjehg30/ZSt++3RfX2ta+2rThvOHg00vPn9bDyea2mL/UxPy1M797157RpsOmxLK9hrOTuZPFBc7c0FDNpc9H2wfluutb8Hryk/nn/zL+HgonIP0TsPIQ71H3ivHI+EcLXRDdE7gWLga07Mjead4Z4m7m4/YUDd8Of/9h8j7q/OZg5OjeM+H86FDpSOiK7Rr0v/N56fnob/4iC5EHCheKLrEqyx1aHKgf4S42QnZACTLFJU8YIgssBZ8Yaz+TQ6cqUy99NOUQDvnfCe0a2xezEZoaUiNyEs//WQUdDGQHiwkSGY4lQCLGG6UXgQqdBoQcADOoOGwxqSSWHHAVCBDqEw0QbgnkGSEoRh99H9kuEi8fIuInSz4fQtk5YD7tOQcqkTHdRh1MA0VAQXo/IyreCXQDwggoBckRXCi9KEkTm/hb7Rzus+Wy570ADBZVIUIfFQl693zz/OwW4UjSB8zK1mznOvhhAZT9svzx/9kBOAeQB/MMVSTOMNMt7jMPOtM04i4sNn5AcilWBesEnApcACYDqQl6CQoMKAv9DgQOW/vO/HwJFfxn9qL+G/dP71Hnc+Dv8ZL8FPI092z8E+6F6mfxHekH3D3esuGm2D3e3fTM82/jKuMk5c7h9+U179vysOw87skAsQuPDyIbkxcMAYvy+e808Tjz3ffs/V/5pvIn9Szyq/Fa/l//tPMU7+H0FAIJ+i7Qw7QLvB3JJ9Pe27jgEuK/2ljNVca4zx7gsdn7xcjGKssPx5jO2Nea3UXpyOxT7Z3xwOdN4nfvKfMT9e8IAxvJJOYreSLMBsft0eZr7an2fv4/ADsBFQz1DPfyT9nZ1LjXFtR3zarRjOTt9s75x+ve2mzYIeMK8Fn8+QXLBsT+vvk0/AP7N/vLBkMMGgecCaMQaBWoGiEYxQ8hDC4I+AM4CZ0WRyOvLNM3mD0iNXYvHzDnKGYtEUKWRglFtFI9WURMMjR8HcocZSkiLJMsXS87LcIizABD0RW+tccB0EXUzdoA32jeWdxu3nzkd+nc7OTv4PLe9Ej1Zfp/BG0JTAzPFQcfQCEYHsAXERWeGSUiSzOoSqBPtDmfIRoUQwmnB6ATzRoqGWMcJyNdKEQpux7aFCcZGRkYDfsJaxCUEw8W/BLh//HsKe6i9dPyUfPU+tvzD+Nw4w/wlvAQ6L/ojetG5LnnLvn/9I3o9vmzByD4svKK+0z6Gf4HCOz+ru8p+QESSBcMBUP6GQMzEJoYUhzjHVkdWRWxDGkKbwG78E/vFgdoI0QsristLUQSQ9lUuFS6B7+EwyPLSs9M1szd49R6vuy0iMLe0ATWv94d4hTaetvn4u/jkO/mAab+ZOvf49nxpQekEfIQ4RDyDk0KMAV0+bLqhd++1bjcpPq2CtsDegcUCiHy/d0p31bcrtYY4777nQei+Nvg09LpxMC9lMtf2Lbd+eoT7Kna+dSB1v3QZ9iP6r7sGOZx7cz9MATE/jb7Qv7DAYoFZwjMAi36OPn6+QT7VQYDEnYSvBWXHXsZ+g65C2wNARHwFHsU3Q0qBJP7Nu4720zaO+4D/CAGOw6a9efKrbo+u5q9AtGy6O/u4vEU/TABTPZo8PL7W/+28IHvDPz8+x366v/aAm0Oox15FJ4H/RaxLe40QjLOLCgrJS3+Kj4pyC1GMzw24TUWNhs9Uj6lLlgi+yPaH4UUNhCkDA8KChnDL68z/yL8DUb/tvjT/vsU8CftJbQgGCagJzohcR2mHuchHifNLoovFyb8JXstHilIKZoyvSu7I10rTzDAN/ZB+TebKQIqnC+PPDtFEjV5IZMeCiLyJfMoUivTLbYnwhniDBgA+fWV93EKZycqOFo2xCjaBivdO85d13TjW+/k+XsBhwGK9AvpQeua8IrzpfgW/xYFtwycE9wPKwaGCjgZVCH6JEIpvTO3Q6lCpDOWLh4llhGKC+QJIwShCaMLjv4P/JsL8BddE5wDe/NJ32bNMdSQ6Gbzivo5/IjxL+iI4U7UcMo+0CTfDON72TvXNNmL0P3NetiK3gXihenH7gbw5u2N7FPwi/Q8+JX6pvtcBb0PbxHgGx0nHh94GeAb/xJwC4kLRgWY/yj+VPpY+dP5xvX+7T/i1tWdyDO8wL5VyrrPB9jh3rjRC7ZlmJqKa5vbsKKzhrKItGG6XctW19DO6cOUxTHHfMKTxmXP4seevrrFqcmOycLV6NwB12rZmOTx6QHqQuxd7tnoqOWN7BHsCOib9Fn+yffE+p8FWfp93p/P+sufwFy/udYR4BrT2tnk6GbepM/2y+vFncPVzPXW6tvM4Kzl4eAH22Pn3vSj8HPvIvpwAPT7mO/o6FvuzvB781cBvAtwC/oDUfupBswcNB7QGFYdmh5YHykhnhxvG6gbRRbNFWEUOwqXBbAH1gRu9iTiWOSN/7kMbwdACDgK5QLA+KD2yAMSE88TRA66DrAWER80GNsC6/LD8OD3dALODMEUjRT4Eh0fFC0eMFw2wDw/Nx46B0uvTHY/TTvmNpgpMSqdMm0n4B4gMDlAK0P/QBkxYRxUEo4PGhxxL84rVCA4IOQXuwzXDZYKkAOdBpoIPgQuB/YToRkWEdkRWSV9MyI3hThmM10w1zISMK8w9jcpPu1GoUP9Lz4pKihlIUgwRD8FLIgf0i28L0Eg9hfjGmkdQhl/GpQkTSbEHbMRbAXFBowPXgnp/j0B0Af3CnoJ0wEK9d7iT9EBzPrT9tx72J/MRc8n3i7or+3C8G3vru6v7qrr4+l68OX8MQWODnodmBleAgH9iAj9DcQTOhcZDYgEgAnrELkNEgbQCecNBQiUDmwe7x9DHFAWkAjWAOf3pegO6qfzwPNT9ab0n+1w6XXfl9X73qvtpPLL8wL29f3eBrwHVgcsCUIJxgeIA5QDhw2UFN4R1gpYBxENPQ6DBYQH8w2GBVn9jABhAwn95+2n42DjEODL3JrdVNlW2Ljd59kKz3PIUsoX0ErK6b/UwxjNYtjL6HztAemJ4hLLH7MrtJq7ornDt+XBBdk443/XUNTr1ujI1L6Zw9LCzsF/zoPcNeaY9t8CKPh67e/8Uww9CNYIARbVH+wiIiPxIoYgahQnAcr4ZwmdHrwTOvQg41Db/NNQ1KrTgc4eysnGLs652NXVs9W62JbPcNCr3tTkvu42+k33+/kiBIAFYQvhE44OHgf2CrAaSykPIrkSghILGekiRy1HJk4WmQ2hBggFTg2wFNEV2A/zCQUQwRilHKcj8iSWGkITcg8ICwEO6w9CBx0F7w0sDQkGxQs4EkcGpPO+6cTka9ug0uPcve//65LkY/NM+V7tqOmS4pHWhd9Q7mTxN/p6CocWbh4zJu8voTEMK9UuajLiJ1oosDWbNd0u/y/TL0smYx0kIjIj4Q3W+7T2NemT40TxP/aO8Xzwhe8V+YkMBhMBDtEKHArDDCUQzQ4dCusHORALICInvCE3HqsjjyPcFqMQHhJcDOUL4hC5DLAV/CdZHDIJzA0JEA4JSgoMDwkRJAylAWH9+/ub+wEDIQf7Bs8KkATd9dDwa+1q5N3jFPQ4B/UHBgLRDBwU0gjNAWgAFPeK6eLZ1tFT26DhhddH0dHZhOTH6sLyJviE8HDnruyF+TYDIgqvFbYjiiOoGh4b4xrNFrIW+Q3ABmEQURHxDG4bnCLcGDQaTSGqIN0ZewVe6ljbW9rK3QrZbdA/06nWPdKf1vLiDugK4bXP98ci2gHxmfbn9Iz/0ReMJA8WlwTSAykF8/9D/En5TPY79yH0ae4G9SX8YPWP7nLlp9bL2+rr8+rB6xn4Ef5lBIcMOwim/z/+tgLTA9D5GPcZA3UC/Pi7+ljySdjtysfQy9eQ3+Hu8vBR0r+xAK1JszS8cMvqzvLGI8k20gzXON4O6tPseOLw27jeK+H55m/1lAgMGIcW2g2kD9YNNwknEE8PgQYiBkH/UPoaB/IRMB9FLO0auwcVDWYIfPtU/JX8TPuIACoJihSvFuUPhRGjFs4a4h4kGUgXVSX7L4YwcytQI40irCYkLYw3izKOIxQo2DMdMSwlyBikF1Ig0SD5GQMYlRvnF5UJ5ArkGicbGBvtIsQavBcTIF4WEQ4wDtMB7f0VAlT9rP97+1/tRvT6+KrtT+8A75noNfV+ArICxf3k7xbkx+KW698CMg9IA0D6jPqBA6QSvw9uB+YPcBMLEUQXpBniGFwdRiKcKHsuqzAiMD4pVyFyH6cg+yG3Ht0efSvZM+M2jDzIMtchKhgrAwn2EQcdE4EU7h2SHMURqw26A+r51f4/BBMF9AceCDYFVAE2/xUJfBetGb8XFRZTB7H0uvJw/qEJDw0+EOIZ0hsvFRsWQBi1GEIdXhm0FYwhmSj6JhIm7xvME0AWchRGFswb4RTgDhQQHQ4XDUQIIfus7/fpy/BJ/7QA8PgB8nzqkOoY8FnsBtuSxj/F8NHR06jVstxw2S7Zn96y3Snj4ufb3hbd3Om9+g4Cn/Iz5tHvTPlwBKQUShYFDsH8z+Y07acAw/7e+JnzF+/rADILHvSk4o7df9CFxxK+37BquvzLycj1xY7LUMbGwGrHis5U0yHdouos85v0ofSR75XqEPn5CAL+hOvT4lnfieau7uzo5eEc5evukvJM56factInzYHZpOyF8Bvum+gO4x/qp/Ji9mP5sPb28h/py+Ed9Ur4B9pj15PfadAIykC4Gpqnp8rDI8gaxLy93M7G4t/Ih74R2fbaHeNW+6/uZ95f5W7rd/eF/ljypeff7KUEgg5W+U3zT/V96Wb7xRbgEy8UnhR8BsD+yPcY+JoDhAEv/30A9fveB8MKjPD84HzXvNKe6VD76v4N/4/uP/FkAZDvmO5DCOUA7P+EGisc2RCxDrwJLgcwCVoTwx3JFXcUwRw5EpcTKCs8MRgwqjUNNEM560i2SjE25x4sJb89IENiRyRYZFIUPCk1ETdWN9Q0vSyCIyIbdRnLHe0OPff3/0ETmg0XDBwYWQxB8mXzawmvFh4a6BXYAvL1Ev1T+X7wBgZVGrES0RJ1HxcjfB52FOsTsyHyKswzjTWMIa8W7Bo0GxollSlqH1YoejKmK8kvdzCnIkUgxCt2PQg2ywp/Aa8YFwtw/mkW7x70E3UW7h7MG1oRSxL0GTMaoxjzDOUDhhxIM6MxlDgXQWBI8F1VZkhe7FuDXNxeG1JmNTYshzADPNxQWEPQIHwUVgb+/8kP9RJQFwwXP/Hf2xDtmvfy++r4wuws7nLwvvGy/n8DPv+S8vXfae45COD5QOhg9aH8CeYs1bjq/f7r/G0HwgWI7APwDAErB0IJGvLY5TL0/NzFyjDm/+UQ3X7xTu7z3kTfKdmV1kDXD9PN2I3aitTD0iTSaOAX73nkA9rD0wbJs8cwxIXDAscirN+OpIvIhPCId6GRuIHWpeFOzOzEzsnqzjbbI9Srz8/sKwA5AucKhQxAA/T1//MhAuj8+fABArwSjRfeG6wbICt4O8Uu5R7bCITrEO4K8VjgC+2+/Zvttet3BUkQEv394b/ROcIdsSWqPqn5skTCQ78iuu3CK8fSyHLMC8nLvxm03blH1/3q0PSIAIL13tzM1TracNkFzJ/Ay8bzzBPVfun16mPcPOe1BA0XvhysIcQesgpbBXoWJxQ8DJoScAUaARAi2h4o74PnuP008GTZheUe8bjlieGL3HTLjsxP2X/hNvOqATEECgMA+wkE4BnNGKoj7UA6QR9HS18mWZ5Su1x7ULBGx1GFVFVUwVZyUYRKZj/IMSYv4jDyLgIxDTaCL80iVSZOLVonCyZJI/ocqykULMQYYRcrFrQNdhrsFWv8BAAfCDwJLhr2Fbf8PPsnAuoA+AS/DI0Nvf/T/BgXDh2rAyP7Kfnh62/wcQiIGZ4RTvbQ5l/qnvXuA7EA5/gJFBgyijHkNoNCeSs4B7cJFiPDHIQIHBzPM30WXOfd1AfTe9TQ3vTm/daruIOlw5p6miuyf8uC1ULdS+Dd4t/pXduwxuPSVeIE4Wf1mhmMJAwh0y22P+44Mx2GCMz/O/b08ncGXSAZH/oTuCYnPWQx8iBxJr4oARZkBq4UPio5KXUqKzgNNa8sqyzhG0IDXPqz9WbtLuM73dnlxumf2u/P0c5zxhG5LbSPuhC5KaoEqgq4M7+4x0TMx8IgwQXK69KF4XTtpvMM+jr3Sfa/AVcKhRp6MeEuKyUdMUI8wDp4MSggCRjLG6QYCxe6IxorZx2EDgUTuRg6DQUCHP5z8R7i3+Fa7L30MftzA2MGBv+n8xHsjfNhCcoTLQuPA7MDcAuXGpAilSBXIrsjWxwSHWEyLD9CKt4VoR4xI8MXWyNrQ6ZJtDHRIe8mKCf/FsAMcxE1EhIKowk7FGgcfR5oIEsish/ZE1UGwQt+HM8YeAXy/VcB0wFw/OT2kPSp57DMQ769w1zJe8oUyH7Fg9Ck2mPOD8S0ynTNbs4H1RXZSeY1+fT6o/4YEcAXMBbvHJcjVibOHhoQYA3mB6j7uwM4Bzr2Jfgl/OPk+NZZ2FjQiMVGtPCZGYljhpiTuqVLp1ew2c9u3e3U5tVQ18bNTtGy6hP9A/dW7qXzV/oA+W/zM/FZ9cb4afzrAc3+P/1TC5UXmhYgDWADOwseGYQVJhadIIsbaRdMH1MaFxJqFrwUqA/FGNQh9BdtAb3yofpkDGwOSQboBtgDsfSD7sPxi+5t6aLjM9evxQyz3LD3vtW8/K89riys17UyzUnHu7iF0DTo1d+W21zvKgXdDOMW3ykFK/AfrCJSLaxC5lUQQhUqKTbyPZcv7yQ4JpApwxo0EXksNTVpGYcQFQdN8NvxF/CI6oYBdAfQAJQZKyUPHZogARfoEacecRLKCNEbgCW8K/ovnCJUIvQkNxULGHgloCQrJo8fJBt8NuZIpT8qPtFA9kJTTiVThE/OSGA49SZrGZoRAhbNFLAJTQrID+0NjAqaBwUPpB2VGfUKbAmdDNUPqRlDHtYX6hKODN/4p+Pp23bZ7NOAz67NLMrPxB/J5daX1WjGzsQR0YLhXe6j7Fr0CRJgIKwi+DHgNWct8y5BKuAeyyC5Jg0f9ACB42zqafJH113Jo9a70BG8ULI1rRKqaa03tZO6Ibw/yFraDeBO6ov8Ofa26Az7JQ5t/o/ufPTk6DzPCt5K/Xz13+YJ7GrlO9cv1n7c7Oc/77fuFfRq+Cz3P/q/AF4R9SDPHUMoUT78NhwuvS8OG6UOIhtlG0YUEhCABmEBJwIZCBEFKugK4Mn2ufBz3n/ZBssB0Ifg1M2yvh29Na+st6fEcruqx5PU9s1y3wjve+S71je9w7r+3ZPkpOTQ+034WQOhNMQ5KijROJ9HsUggQV4z2TtXOggYzBH6JAMjTRpKFGoQOBH3/Q7j3eCg5nfxpQlUEusL0BBeF3YZiCIYJeIY2hiGKdcpdRzkIaQypDfiM3Yz8Dt/O5UjxRDGEDUQYxABDkwAH/r1/wQLBRlUFSoJWAwqDSkS0CiMNO872UQKM3cicSXzH9silirsG1QXhx3iFasYSBwmED4JAv0r9goHWwLF8SL99fgr34zYwdNhy5HUA+Xd7ZLn9t4D5/zp7+Lk6kPy0uYe1nHNUdbL517w9/Db7KnvnwCgDG8MHwRc+6QALwThBucYkA2Y7tj3wvgW4Wjlz9mkupu9NLPAmcai5KhQqOK0ir3G1LvgPNMQ7wEEQ+yo/7AKwuHe8rMUHP8uAYUOjfy+/KsLfBJ0BXfisukzA7jrH+4VD+QAOvp2D+ELnQJW8y/j6fajAETzdPwMBfsKRRxyGG0adzIQK+8Q6wXZ/cH8/f15/VAMBRXiB0j8EfVF8ar1y/Kd5DDfLOsN7JXSy8wt5BjmtNrg4jT0WwGL+IPj/+pI91rp++DZ6I3ypvVk8ZoAyhS/CkQKiBkSEMYNTBnmDmoNux0TIb4mLC2JIKcSsgovCPwV8R4HCEXn5eFr7lj0Hf2vAMz35AybLzssgCXYJeURaxSrLDQncRpfHuYoYi+vIHofjzoUNCYjlTh8QY83hDbqJwYcEiMZKWcwMiv7IOstHChfErwepSYcIvwsGyBZEZAk4yhPKRM04RhO+zb9SfkQ/BcFkvs5/qEFufyQA5kLWgMfBr4CtvlzCrcTwgl/CLv+ZPsWEoUJTfAeCecZrveb5Q7qfOhC8dDsBNl86cIAYfmq+TkANPnZ7u7b49q19QLzOeWY98D88/FD7pLXCcpv1wvL1bLSuXPJ3MGLobCVUreKyWC6xLoqywXbad7BzR3PlOd99If7evyF/AYKmP7D6CX4d/0A9tQIQAQ37zv14O7T8H8S0QsO8Mn9tBGuGAYasxHkEXEHtOdX6XsFVwRT7gTnofVP/6H3W/m1+Zns0PKn9OXhtvNlFtoWZBJdDbL8jPne+gr8+gUn/UjzLgZeCEvw5+S34CHfbObZ79j+fvsv4ZHrDwPf6mLgZ/KI30LgKhHiFzcLqhgWBgvw4QD6/vT0J/gu7TMDLijtEycUYDw3NF4nxy9jIUIn6yrfAdn8QQdj6TryEhFkCIgOyhTc/ssJjR0WDscFuhQ1LKwu1BM+HeA6zilZIzM0ziKEHB8sZChRMPozQiFgLiI5xCE7JAEziDQPN2Qg0BEIHWj9Ae5eGL8MlfQDGAYTMgCNHhcN1ubN9tn68v+LF3b/yPdyI6MhngjkEEYafxe6/gP0JCLDLKwI0hXVF930RQEtCGPxEgEhBDbthflW/dv19Q9dDzftePEoCXEQDhlxGtkECPXx91zvsufv9gvrYs+Y3/zeqsAZ0kXWLK5os765UpxmqgW2PJp/rTTKbLdZxozzzuvlzm7ZRvOa/dQFOwWN70b0XhGRAPrlz/XV9/juNgC0+SviSu3l+Fjvauux7XXsqOSR5ln4IvaG738F5g/SFFUpVxZG+BcF3wbwBiwf9Q8d+Q4Eh+8k2ajqg+cF4qD2wv7ACfkKDvNnAT0Pn/K3AbcWJ/FO71YHYPIX7sD62+uH6qTwC+wJ+N72h+Tr8Pz+x+uQ6M8WtTC5AYPwuSgjK0oDAxGSGaEWdib3A3/schw2HYEAoxbRG6gSJw987JT4ZTSNKEz8NfjLAmkRvhFmCZ4X2hxRFh8VawnnGNwxdRK0/zgavxraEBAUvBa0JkIpNhn4GyIgjyGGJ4ooHzyYPtcbfSVCPZktnjKnMCAe6jhINP4OSSRBIcn/ohW0DkboQvk8CX8EQfyF3dDkiPvs2zjdfAeRCyoKev4x69UQOCi0C+URuh7RExEhjyRDEj4YASAOEcL9OftjA1ruD9mA7oj0wuda7OnXI9ZhE7wbIOy9+4ghMhAr+lsKAxjcA4r3jQU+BZT9Ffhd57DykQDD2mTJq9LgsuCi/625n4SlZrYjr0vBF8sHt4zRUugmxgjBVOGq+BUDcewO3nf7//se5rryQfmP+doMowi3/QkIOf7w7b7tUOdd72j3J+Gj6XMBreox8CwRVPdS8IAbkxR2+jX4Wusk+kkSO/ee5Wzp693P6Uv0/uOM6vrwvu88/1j0fPOlDBDqMN2FFuUFnd/FBN4HsPKI+4/h+9omApH5gevA9KDhGerSCHP9Z/3zApbu0AyYNMAJqufdCcIbsAu1DC0aORtsGMAb6CG4KSwlYxIxFDAlhBwfCMwEdwsfDBcAV/5IDUgNehEPJH4TIgElFgEVGQctGScXRAdkEBYEHPqPHdQkcBBrHXQgtx2LO3gzMhPNLVY/giDQG0MrWjbKQ9A53jHMOg4xiz3GVI80WSQyOFQtmCphHp/rKfF9CjT3vf+kAF3mIPgn9I3ivAeq+wXRTd181drYt/Jk0FDkzh+n74Lq7TEsIUkOFxq4/f4RhihMAgIOfxUz764Btwk17lH/ZvMQ2GILrDMxF7/y3e+KFQUe3fdc8773zOcJ7FTigsuszxLLgcWhzMu5/KX/n6qbWrAHv4XCI+MV6rjQqdTH2XPjA/6Q6XvOLOXd8QvzBv8wAM0PVh0tCuEOfxsg/FHu2gFQ+7roeObG5kfk+eJB69z3mPMr6NfjWeL48nkJbfvt5z/9ihWfEzQMNwfqBlf+heMx4pr22+fB1inmyuyS7CT1wffX+Urs79it62Tv8suL2NkD8AWY++z0PuYJ5if0b/5UAQ0D4QamAMH/TRI6FQ0Lmwu/CRcJxAL8AT4ovybK8HQC+h/W9z72nhNhDq4QdQTD8v8GAf0r6xYAcPHX5poG+wKVAcYOWvX/AXssGx46E2ckzCUfICkQpRESL3sqvhpnHmsWcx2rKt8i1y6xNOMiZie8KNsmhi+OFdUHDxueDT8U3zsEOP0xgzXXHMUaRywfM5079CkPIFw/mjnmF7AQpQf6Alj+FOsX8zrzY9bH5Pf9nPV0+Bj8MvrL+xTgR9LD61LrM+b9+4kENhLWJ98U7f6IFIIq+iWDJZMqyxmPBY0HmhDUFXcLUfea9i3tCuZ7Dw8HL8FU02gEGfWb9jz7mutG+Qno9cVq0Ua9eqX4vku4wLld1rm1HK4j3xLcX9kI7PrIjqz/v17inwKq6PWzPcK57UICLfp42JXcXASCCagBtwMM/9kAsgJfAg4GVPWj4cnjy+nm9wQG4/y88wn8kwZCA8T5BgIQCeYE9A9XDOL1uflA+jrtp+wU4ZLjm/jq4sTMkdz+6iD+7/ly037Tsd+l1Zvf8dvVzSfqfPwd8177+Qa6/j7m/emxEz4UMQHFEiQQTQqVHAsWqBqNItELkBoBIuYNzjM1LOfu0RCcKz4PqSKTHTEHoxiYAir9ihef9K7xtgcV30ToFAyT/6UaWiUQARMQJhYJB9YX5A50Fsc3UhvFC90adQpIGBIkaxIWNC4/zRgpGxMXfhJ1MD8Ztf3JIOAqRx0dGsMRsyQANWcgCR4NKIwfcxVxGtA9RlP1NkYm8i4WNYc6UClQFOYN8/QY7rb9x+/e8FoCIvocAK78EuEa6urq29VX5YjoYOFb/oAFvP9tExQWXRXYHjkcDSNvHqcGoAqZDbkEYBGMD+//EQKQ/yv83/Tj62ETjC1H9aTROumZ7pTqzPH96dzeet2h29vT/sSnv4nHocTCvXzDf8Mmu/i8dMG0xmnYvdkewErEC+U937/Cwcla6BD6dfME5afrE/oh9Ovs9/KO803wIfJj6RHZ8tnh5UDtePAt5hzeue9w8eDgNPxLG10Ene9a+FAIGR47GqX/RP9HBtv/Kvao4dDgEPFt32baUfU/7urn+vZm4eXQddtHzw7Teugs2kHXJe6N9BX9WgL2AosaTxl/AhAV6CfsKz03ahbT+WIlbzb4E1UM7xReHX4SDuyyB7NCmRh04mD4ewk9DfwGjuTC9FIfQgTg46DrOvS8B7IRuQr9HkEnDxOWE6gQxQoTHMgU4gb/GiYbRgwyFjsZSBerHuEYMhTvGdsXkBbwHdwkLh8dF/gpdDJZC1/4ExX3KBQj3QyKAsIeoDKrKMUm8CVmIZco8i4OPgRTUEn9MgEp/h85HW4Z/BF9HzIl1weP8HTqfud58H3vw99V5pnv9uM24oDgjdWG6koI5QVFBPYNMRk4L90yviDDGR0SCxTmJmoeZg/sCxb00PpYI98XAPKY2EjN+wPrN+gCJse00m3yBw3bEMv9yu/z3MzQa9od21nYVtoz0dLQKtcL0M/IBcUhzL3a78wXtGm4ltZI9fLkXbkYxfbqmulK01XAP8gD3L3LkMeQ49jeMtiZ5nbcLNxK6pncYN6w8iLveOtv66TrnQFdEpcR9BBAD+Yd1CqqFSMMNRDb+CLvbvsJ87LsPPWz9OTuueSB2HLXSduq2oHMebvhxxbdnNz62iDYeNTt5rv1RPX/AHsJqwnCD/kJHQrbHyImKSPUIvMT1BXAJvIfkiBmKVwWngY4C6UjJErrOM8HxxPqJ/8jVTepMpwW6xM6/pf27iapM9MbaRE++Lnylg1gE9ASzwat8PwA1ALA7WYKExoOBZMOwQv8+8cN/Az3/+ED4vb6+3oZjBr/F0QbIha7FKgA+PqZJaUyRCHwKoo2fUB4QVwpfi24Pks3HklOYIBXp06VNmkc/yYnKEAckSCrHNwZXRHz7LvbF9rVyr/P79YP00/nuOgGzB3VA+3o6MXscQE1C4IKxwvbD3cVfB1qHZ4SAw/UFAAbBxrcCvj9bPzFAkcW3hDB5mLXpeUe/4Il8BXX4AziF++b84AXnB8pBHnwedtz768TYvMJ1Nnauc8OzY7L17yCzbXNNq68rHC1JNO4AhPrMrzvwv/VJO7o7v/FpcYy1zq9g7/P4RTvVuRrxfzC9t3o15HUQOD12EPsEf7t6D78zyFzH8YgahvWEHMp+TPOKRIu8CMdHKogSxP6FS8XaPGW54Lyp9r4y27KysB0yy7NAbtjv2nAsLsV2Jju7+1s9qf2NO4F8/7xfO8Z+jb+1v/2AEnxeex5ABYM6wpgCEoImhDGD9YKNBrGF6L8BwxXOL4/HyjkEfsSnC16PRIzRyRBH9sjDydUJzokVAxy9IT2mPhX/5ATCgnw7aLxiP/bAdr9sv7LDQgQlQTWCPEAnO3W9lT+KvWz96QDoCGcO3gkGwxOECwIbwIgDI8WlzCSQJY3KUV4W4pX11GXU+9XDVuQTQtBhkO6RmJPMFGhPKcyrj4bSD9Ahxp67J7fB+i66pDp6OSW3frc1eM44iXTBNuSBIMaIRCLCHYAc/WU/AEQIR9HGRD60O5TCXkRz/bD57P1JQT19iPmMPrdDan3A+Kw5vT2/RHUG+sFcfbm9Ib8hA4OBtLrUejC5HfiBfJJ7FHbqdfSwQKxPL9cw3K7orQKq1yz+MNu0wHsCONQv+DCuNot7Dv88e2w1KvR+c4s2Yjv3OZZ1M3TEtti64Hw7OWN6ln32wPhDTgGHQ13KKcoTCDhJfwj9inwNLct0ictI8MZjhinDHT6g/a46gjfw+Ai0tq+vLwUvs3EvMPzs7u8VNch4qDoiuwD6yDulezq8ZAGvAJ+6HPl7PSZ/Cb9uP66AQAB5Pyj9NDlOOdGCHIm6iOLEigIAwYLFts+oVgeQA0bwBtwOltNEUApLawnPRquDAQX6R5BD3z6j/Cz9W36dvCg6hvzVv3C/vLwkOj5+GAH6ARZACT+lwW1ElgSdQwqDCUNqw/pDU4Kmw6nEOAS4CFYNKJGoVRgUaRHlUS6SsFZg11CVoxbBF6zU61VTWEfZsxgD0zEM7glLxsoE+oLdgB495HuJec57oj1AO+36gfsfevA7in0gPXS9ODzO/V0+d/93gPgBVv/+wHsEwwahgvSACAAIfkY7lrubPaa+iYAqQpPCaj6t/bJ+rDxLe7+Bd8S1+5qxGnSuQJ8D3D0FOF03dnUZ89D2xTjnMtspWqa2bCsx1nL3cV6v8+2UrZby+jiNtmJtRaonsJJ4tfnJ9rvyzvC2LtwvXnJ09Esx5S3ib+F2+PrIemN7P/8AATxArMTKSxNKYoRpAicE6wcqB0jILQjHSLqHnAchxX1DBwJEQUW+5DtPeD22EfcjuBq12LHv8ZC2O/p4PoBEocXvfxb6+gCDxz6DP/u0e9HCSkT6AZQAcQITwVB8ofspQKBFf0KLv97Du4ggyHmJJQxXCvSEa4RHTgzUZ09pSNoIucoOSsWL+ssFhscBQz/zwhxDc0EPPo58bTq3/HqBMwRFBLoDvgNvwnSATYCdgj8BCwBjwxjExwB+uxs9xYRHxCC+1H9XQ59D4wQyh/3IlcZMiNJPTxH8UJ8TUdeblKCOmFDQF4IXwtLI0GSQ1BBCjjLM5wydSeiEy7/L/Ky9vT/jvct6ObjtuW26GnqqOfL66T6uQI9/uj6CwJuDJsLcgFu+//6VgDfDVYXXRUAEEsHu/rC9Xv9Igk1DAAHAgkBE/YWrRS+C7j4ku/TABoc2CaMEOHnHNgf65n+Kv4l7qHb/tfc4KjhcNRuw9G5CLuBwGTHVM+XzgnCF7nvxajgWN/ttYea2KlVwLrNjtkF1h7DzrV8sV21C8QQzjrE+bT2vCvaZOhK3YfU9ti15G/2tP1m8HDo6PgnELQWGw4GC7APrQk6/fz79P+Z+5jtCODj3y7kBd9k3OfcjtIA0JnjNPPy75Tl5eCP7F3++f5q+VQHfRwQHR0O1QmQElwXYBcOF8wWYiIcMAkhlQfOCy8h4S1cLwcmLSG3LdMyyCFVFbofIzS5QclFbUBnKhoReRIhJBYmghtCDvj6x+/7+dEKVQ8jBgr7avSO8JX4qA8VICcdWQ54/tv9WAskEBIN+AsQA8P3p/Zc+WoDSRSNFOIJ4QvmCun5yvffFh84OztgLJonJzBBPhBJXkXYPsVEiEj7RftHbT+XKJUaihLzBacBqgcYDR0NOwRv+CLxCuqQ5Qzl0d863j7rTPykCOcKq/ws7jf1RAwkHo0e+xZbFXkTyA6mEvAb8iKfJCkY6gd5BicK0A4hHdAlXyIfI7MlCCQLIl0aLhMLGIAa0BLTDOwEj/Sq5o7iid9906PFv8DtvJm52r/Xvhuu+qeas6TAhsj2xXu8OrdstKm8mdLz0CSyeabstujD/MPvvK62xLa4tBqv4q/RtFq24rSvuL/Ix9lh4EXird8q3SHpnPZ6+OD/5QgLAFTxquxH9A8GOxCECcP++vTy76bvi+Fczi/Tm+DS3E3UZ9ei5MHsOuLW2e/thgrYDWr88fUkBVsSMxV9HQkjEhpREG8MpxMPJ/MkiQmPBcYb8ishOIQ8IC6KJOsrzjJWNZc1qixvHVQWnx16JvYmzCNMFnP/eP0IEVwbnhsRFocB1+3x6afrie0h6zPh3ttm3gnmDfviG4Y/WlirTywz6iT9EmzosMY1yErjAgJxCdv8jf/gE8gZTwvRA5UP/Br+IUs4e1X8ZKpl6lBWNuk8aE3kPSUrAC23MCY42EFlO94yAjcJNngovxcAAz3lmsdju/m+X8U80kLks+8X/HAJjgjeCTMfkjKONOYtpCS2Gn0LtPf58l4A0wksBPr3Hf0LGBsYx+fqwiLR8vMXByL/S/OSCc8uqy5SEWcGrhdjKsUsdSQvG5kZDiVsLBwk7x/fIGAZRxr4IPwSyf+G9hjpEuRF7+Pvo+M82w/Z/OBm7sPz7e864tHOy8OHw4/LtdJ2yNm7uMASxsXEP8UowQm+YcHQvjK/Ps1t12PVuMyewse+7bmIsJmzkrvbuFy+ANDm1VfNfb89urrTuvlQ/5Doedpq4HXqEucZ3iLkBfOx+wD/LP/3A74OxQ1vB0UOERb5GV0cpQ3x/A0CVgr7DzgdTiO8IKQd4BPhD98XxxTdBt0HAyDENVImNwGa8mP6SAdMEeoLiATQBo362umg9L0CwfPA0AWzMrPByarPQrxmqg2wUs0u6MjpMdtEzqrKk9D32dPhnuKf2zjc7Ofd7fLsq+p84izfgOsp+q0EXA/xFSUbYiG+HFMPVAZFA2QKoxvfKtg3zjwGMHAtIkLwSClBSk1GYuRm5WOJZblliWHtZ/xztmdwT4BJC0ztVkRn5VpaSbhZXmTkVj5MND+bOmxMdE1mNvIpgCSSF3oKewaKCngISwRgDMMPHQwvFBgU6AJ2+yH1aODc1WvhIPLD+4f78vD33pzWbuSF7jziJ9uf4Znibe32BSUALduLxC6+Br/t05rhKtHJz3fs0vSw4D/ZleVo6uribOXz+IMTCSp/IEfu9sQ3yVnoqAaLEZQIeAJxCp8XGRrfDGMM7CUWNrYu7SUlJKUoGDEUN1U+OUsUV8dThkDNPDlSPl3YWCVWoErsO4o6gzgFLcQfyhfLG58h8R5NGDkJ1fxOCe0ZNBfrCyn+/fEc7fbmbN8G3lHnu/2MBGDk+McQ07blS+PK2BTUls+FxHK+y8py2j7WSsinxsPKrsopzJXGubo6xqjg8uED0LzGBMiDzs/Z+ubW6TfWQbTQlN6K9KPcwRXDqrxevzfAw8DFvCyyHLbvzKPmBO24zjSvDbg3ykrIUMcgzfTTzuTn8Z3nIOHx98MJzACM/UMDlP8vCLkbgR3tILEyfTO3IVAZpyH8KaAgoA8CCSEL/RM8GvIQ9QXbAan9YP0b+a/ql+Ja42Lu+gVwDzAIUQXz+7bzGgLhDGoJkg0kDzgIEwr2DxMVGx+gIy4jsCueLsYg3yAnN2c7AyebF/sNxQsAICkyjSsaJjsrFiQeG20ruD2lMGAesR8hHbQY0yjHOzlAejPfCzvclcTZy2jqcQIJAEz6o/ZF7sb3GQky/0joHOI68CwIRxaPD4f7A+QFyhutZ6NjvhTitveiAk/59d/dybW4qbcbym/Yw+Pq8V7zAfGq9xP7CfXe6rfpEPJ46HXQ/coT1XzeleAj1WvJhsW/wm3Jqc4NwKe5W8kB0wHRF8qcvHa2Qr0zwpzD3spx2k/sRO/h3OnRF+I57OjUI7yExrfnS/v19rbwOO1h4Ubd9eAw1cfQx+ds/MQEjQdHAsEG/xo+LjM7Qjp7Mu01/jGNJuA1f1K/WrFH5hy7+DbzZfvVDWwu0UdrTRFAIiv5IK0ZRRKSHJ0p4SsTO5VQqUpiNGA1PVD0Yntj4GT6ZIJaBVG2Suo7pSizKJ1FxVsuUWtFoUp4S6tFhULFRYZXamqUaDhZSEzCS0FZ2GBSWCdSFVEDQfclwBlZG1EVUQlgA1gEmBBVIO4bBwy8DLQVXhAiBCYB6ATyB7sBsukh13zlnvpiAMoHPgUh7uDgON3A0AnIyse90lrtcv4k/rD5s+wo5kbwxfUqAwofeyKIEOkDJPeq804BdAjKBOEI5RbJE2buYs9Q0mPW6dxi+30PcgXl8/Pp//QjBZD2HuswD4g1hDKdIhcZFQek88nzwwbjHvwrPiZcGb4Kpfr6+QwEFQP6BlIdoC1lLP8nCi+3PztH0UcxUdRUwkZEN3Iz4TkeOtMpEhksD5sHWAV4/rTy3vfzB7MLCf8O7h/zxA8vG5kG4u2N4STdVOBl6zHs7N4t3lzjed0F4hbhK8aUwv/SYcLQr3W8U80N1FHKr76uzLLUdsPMwIfRpN9/4h/WHNMp4NfcT9X73JvUIriGpn+nGrVSxznUFtDOryWLRYZbk+uZeaJXqhCnxap9uRe8ibgrvRG+FcC6xJSwqZfjoEyvaqrPprOm16X0qWmvbLJdq26i9rEkxJe7x71U4D/9PgHo/MH8Pv6eAdALfBDwC5cPahF2B8sJVBZyFmYNtP+675nnDuoB+E4JwA0aB5H+A/1XBpcI9gE+BQQHLf6/+ysDiBdbN69FXD7bN6Uxfy1kN0JDckGMOLY4LkWiSBA4fS+gQbRWo1qQWmNkdG+zbnpjYViTUwVVjV29Z5ljE1G/Qh83piGEFCslDUFjTQdIizK/ELT3XvMb+3sL2R0JHpsMggA4/fn0k+9sAeIdeSUQGQEH6utQ0N/G28t61+zn9/Pj+DXzJdpPxrzSMOPn4cPp//6hCJ8I4gj3/5rrXOBK7zIDlP5M8pDzLvRK8jTyBuXA0gjKeb/Vt6O+NMb4x7LFT73Lt7239bg/vPCwSJNdhsyTZqNTsRTAFcbkwgS8/7UouOy+br4guiC6nLe2sf6yALdDtcO1MMGk1WbmQuqb74T7YvnI7cPw6/9qDQcSfAsRA+EC3QhhB3n4nfOVBo8cuC6nO9QraAZl8KTwc/rPCuYe9yrTJu8amA7LBD0M+CMEO6lNpk0XNQwmmSmpKf4o/yvtMPs7Uz60MYkpyCvDN5hLgldGWOVXHFy5ZXhmrVzZYh92uXdSaRpi3WSUY1ddfl3AXuNcI2WXbhtnD13SW9lY9FbwXKBfUlwAXyJffU8YRgNQH1LpSPZLP1BGQs8y1zBTLU0hwx/lLaw4kTSEJFoY9xuCHnMaSx/OIZogES2BL4kf0yE+Msg0aSqYHPIYAh7vG7gcvR5FEO4EFgOo9CPp5vPLB9EWKBKg8jnHdKarpYq8Acvi0r7eu98S19zJm7EwqJ7EzutRBLwGqehkwfy3rrotrDOpiMTW1RXHxLdRvh/M09Xe5J31WfXi6YrmTuYT2/DO2tjd7prvB+Tl5iHpaePF56nqBd8Q1ijZHt/+2pvPHNAR1XTNrspK03vQZcCTtgu8+MeX0avaqdti0a3K3MRBwJrMb9VC0hLkpfhd7S3g9+bt8Dj20fah+1QJSA60CBsF3AJ3BQ0J2QIyAc0IDgdOACcBsAbHDI8LcQhRENsKNu9u63wD6Q7MEiQYrQj16F3N+b+lyYXdPfCjCSMV9wUH+hDz3uW255b0i/Sp8H/4dgk3EmQIUAKPCgIPEhR6HWsWwgNL/9kMHRclCvf5eQVWGQcYhQ7nEuUgyyS3HXUfainiKrolhyM6ItQWUAH19OfyT+vE5urn0d0G00HRmcZ8uiXBgs542AzlR+256WLg19Zd0DnM3sdDzLbboON83pXczORe78f1G/xcA1r93/GT+xwJnQBW98/5x/vd+9jyRuEg3nPp4/LV+V7/BQId/XTuyuRf4OrS18r10V3VT9aa3yDdHb1RlROGk45SnZ6yrcQMuoiibaJYrkqwW74C5cz6IOQ9xLq7w7jIrQqxccfC00LP29EI28bV6c2m3bXy+O9H8LcLsxnYCPH8v/f48GD7TApVDjIXeh7wILkrfCo/GOgO3QraCogV+hMEBLz7nfyLBsQPWAdgAtkQYxqYGQUg3yjHJJIXKBKrFqgVzg1oEjslPyzvIwkmui6BLXUvGjP+LXY0qUTdRAc+m0A1S8pVnVE/RSVA/zdtMpk+bEihSpxUE1JMOOUmiiS7HcYb4SeBL6szvD94PdshYgPQ8An0ywiFFk4jxDXPLzsb4R9YMTAyeSV3HAIc9xgzGr4rpDEwGoIC0QPZGbUlJBjtFpcuvjj/MokysTS7NrQ3GDmiPakzoBvyFFchuSwGM5UvuB9HEVwMVQYm+rT0//vMCpYeSCicGlYIDgL2/i744fUoBIsWcBOnBpQCr/r27xTu2e578Ivz2fZh/ET3ROcn5c/wiPpTADEBUwOHCZcGWf30+00DOA6uEXcIa/uj77DsmvdXAsEGTAuAELsUTgqs64jX0tw553bu2fWIAf4PVAhS6TbY/tJwxW7MBe9e/VrxiesL5w3drOO4+6cQXBO4/KPmJ/BlAR7/V/mz9p7ynflrBtsHKgoIGC4jciq+M7wvnh/9Haom6iBkEWIMzhYsIdMgrCYZNGswcSJVGLMIWf/mBQIIqQJj/jv+AQrFFD4QngVJ9m7vdv8hB6gBBw5ZE/n+/flsCfALgABC/XoOth/aFmMKDBK3FY0MIBDxIOYoCyb8IqYfbRr3FuMW2B0SJ4cf/wxFC9sUvQ89/3v8bQ71GGkHefOA8MXqbOLV79AIGBKJE2kbCxF25hXGscg0zwHR0eHk8kXvU+MY2yTVTtit6H/zxusp5tLuZO/g3zfVZd388jQB4f88A/wMyApABXkGvgWyBEwHQw9SHJAWF/rX7+j87/u36x/lt+jB5kvcitd/22LW/MaLwcnF+sKdvi3CG8ADu/rG/NFcxfK4XL+6yIvGIb7DwcrLncaCxhHXkNfc09jiseKC1y3kGvGD74Dwqu217lf8xPgq5ZXdktni1T3frufw5nfpvu1T8Cz1hvR86+nn/e3E76rg0sqXyKzXANzS2fjjh+0f6zzgJslHr6Kg95n3oZ+5ysc7yJPIIsl91EXu1PZl3+3DwrxXxBPKMM1k1YjZnNLQ0QjereSj49ntlAPyFaQb9hATCAkW4CPMGwYTeBJ7Ep8ZSh2sDvb+Yvqd97fxSezh7/L6M/7g+o/+uQcND5cTshSUDzsHhgSVAvD69/8dFTIeZhlCHNElCC2oMI8uKyY8GIYPph5uOFQ7pS87M2I8BjXjJRgdQRtmII0p0y6uLYQsWS/zKl8enh6cJIEcpRqSJTwmcCUbKNgddBbJHMUhRCkpNj1FY1W4Sfcey/+076DpdAXGKCEqWBq0C5UCbwj0DjMQ3ByiJ0Ek4SQeJNYWWhM6HuYhryCpJ7UxujW8NOs03DN8LWUvBEJnVrFgOl3WToJF3EBgMnwhPxc6EqEUUxXqEb4VrBL+BSIKgxFKC2UT3iKIHB4Y5iGuHfATLBykIfsUQg1TEeUNoQWVCAwQaREbEzgYUhVnBbP48fmk+HjuIO+v++oABvwV9nH1A/kW90Py//T996j6WwetDOj+yfXS80rpc+Eo4vDihOgH8G/wOuqv35boBBH3LIUq8yNrDA3ctbcYsAPDjeIV7Wfp+PJH//UJ4xBd+73X7Mos1aXuGgjKBW317fae/eb1je718QH0UvUi/9UBwfIj7YL+uAgBA4kMHR/YFAsAygJAAg3twOBE4kfgT9xt3K/dndk62H3lV+8d61bodeQI5c70FPYV5yDn8Omc6a/x+fGw8WP6ifrQBaIakQsJ8gr3cwZXEtAJl+Yd3674Ivkr7Kvxde123zTw8A/CDSD1T/C3/N0ExgVlAYv9mPt19+75PwDD/nICdAhq+ZDkNOSc8igEixY5JysnjQcS3EPECcXz1a3qvfUI9EnvVfesAATwydrr4MjzKATSCnf/z/NW8FDuvvVr91brX/aIFa4mXipfHckHpQecCar82gI/GI8dSxj0DJ/7MfIZ7TjlUeGy3sndfuRF5jreiNy74pblXeSt4pviv+MG4qzdRNry2FzZ/tmq30Lu2fVw7Qzpa/La+B/2EgCvIEotlAkm6m3wgvUZ8gn85gAA9aHrXe/m+I/2peyg8a333PJ2+rMF5/1382XxhPVqAQEEifrv/JUC6vQk5Ezjqeb352T3SxFtFGr158gDpICbuLMPy7jKhMYs0DzmHv1u88XBP6LgsJLFddgZ81rxwNJkyKPUwtrj1MzOMtpG76P2+vaC9ZDpF+K56XD1UPud9Brwrvsb/unzUfVo7qzTSs1z3zfkmdxP3wziPtz74sLwfukJ34HnIelz3NXcluiI6pfpqfQv/ez5yf8FB0P5RvOgA9sK6AwiG0MiaRZTBe0AEwTm9znr7PGY+GgCmxSzE50MehQVGmAhlSXKFM4QOyPeJJkZKBQQFREi1yvGI2sXCQ6cEAMlDDhXQ+tLfEiPNekY0gDQ+on++wnkHgoqJC1wNaA0PCa/FtkVXjKoTxFPkkkcSLI/1UOuTDRB+zVAN3k2wTdNPcxARUlqU2NQQ0kQUoZhvGBiVPBLJ0TWO707Fj/hOz04mjmmNDoo3CQlK78xETpWQE1BVkAAOFssXilnLBk11j7tQnBOVVL9Ovsy4D1fKWUVHCm7Nt0yuDqMOyoolRtRHt8cFhHiCS8KEg4oH7Uw6iueIDccYBZuFZYa2xokFssQqhMSHBMavBvLK+8tEx4MEngL3wk6Dy8cNzSaRZQ9ISFW9yjWz9Le2srkz/dmAyEKpBnyFnL5YuJa31Dqs/pgBY8M6RF5D4YJJv9u6jXYyNeI54/38/fc8az1Jfir7s7p6PJH9YHiZNKn1XjVvc4I1BjWHtFe2WTZD8eBxZrMXcXXxMzJVMazysLNcr87ts+3lrfju2/Dwsgh0jXdHOJm2/fO3s5uzl65w64YwuHQw8vexILDV8CGtPGmkaHZo2mw/MFQytLQ7di+1OTQJNtG3KvHYbSZs6a5prsfw7/O2dQK3bvfedIqz/PaQ98J5Hjs6+te6gDhE8SCrFGqXLdQzMLRXsTZwq/LzcaLu1K7sMcd2+btCPll+sn3xfeY+L/50voR9w35OQhtDHH/WvwQAOv7ewGmDc4JOAXoCegDQfMB4qvYFORl8STwNfYp/+T66fqW/rH8Wv3y+Ib4CQesAc3vlPr/BMj89QbSG9Ae5ht/INIk1RrkCHQHZxA1DzUP/B5ZM/A4wTPQOitH90O5OHcp5RmkG1IlVSwkN6I4XTeKRVxIdjiRLnMmGiNeKqsq9zJhTodZrFBxRiUycRwyGGwdPiaUNLNAR0A2LHQI8Ogn4nLy6wNeD10fRTBCMj8aavNw4Q7rEfkmDkYkxB/YEZIUCBbDDMwEIQLLCMsXQSPnJZYjVR97FhkMyAvgEXcUHBfmFrcOjQUH/on8AwbTDTgPwxN5F8oTLQtnAMn25O4964LvE/Ql913+fgK2BMAMhQs4+tnrqui/6zfxJ/Mn8hT1vfrn+vzwAOaF69r/UwxbC84J8QbVA+ULkxBdAj30/e/J8jQFrxmkHPcTRf9v5kPhE+ZZ5sruAgGYE7IZxAn2+ILwHN9w03nbSek/AbUZMxLh9BHc18zTzETUTNa63n/w9/iD8hfnoOJt6jX1aPcI86bvou6U8qX9KgK9+Erz4/qUCZce1S29KlQi1x3rFQwMYwmWD7sRDwQ594T8XASXBcsNQRVACiP97v0l+V7qQ+m/86b9fw05FxEMjQDg/gn4HO6T65XuX/KK9f78OgboAGLx0+5q9c/zmPKa+2QBwQG1DDAbOhnGDEMGgAmsDvMJFAHZABcCzQXiFcUe0RG7/eHozNpP4YHwhf6xE24nOzB1LzAbxfyA77Hs9e6ECuwsJjYIMyAkLfov1+/ZBu7EBEUiPEOBWPVJoB7X+ezi4OE/BMEjgin+MvA20yRtGVwSIvyM7/D9fBmbNO1CFz7iLOAghiSVI2QThwzqEHgNXAkcDu0ToBQuEnYPmgPb7tHp4/Vd/8YK9heyFicMPwV9AY76xO7c6lHxyvIJ9ZYBBQpSCH8A2fTZ89IBWg6vEfMOHA3wEX8VoxEgDSYNaxTTHzEmNCl8KsAkjiCPH6sSwwnnGPYbsP4C74L6vvwT+AMBtwpeC8MI0gHU9DjmdN+94xHrmfhoDLYPEgBo8NLe8ckJv3HB782E3nfuvQKfDU31kM5gx+PYRt223ov2XQi7ANz/LQU69BTg9eAc7KX5RgncGKck6iBEDkP+mPbi8LLp3OM44snfWN515MLmBeDf30Lm+uWO41PnQOjc4V3k7+y/5AHd2epY77XeXtJoyF++wsQ/1yzqsfaB9K3rMed26PfwtvZs9K73hAMjFbsm/CBSBt/4Fv80CN4OthVvHBobCxQIFIYN4fPJ4jblBODK0xHar+p57EvoEfM//Svvytm31QXYR9TZ12HkAer27NnymOl8zrS1L6mKrUHE4+Gb++EF1PYr3OPHlrmPtmjKReaC7n3m4eGk3bzTQczkys7UCejF76vrgenY4zTd+N3q41bww/Kt4nDftt8Lw9yuo7/X1YTjYesU7hbyzuy430Hekt3+3Gby3Ar/D7IOGAZ18WzjTOBB3THjEvqADJMJeQG6AiUDR/wR+Ub/wwWOCqQUaBoaFeEU3Re6EFoT5SwtQjxClDssOOsyUi1sKcoY9vrr6vD0MQuzF/gOHgVxCi4OiQopBsT67+5H8moCuRCdEtUTFCHhKwwsBCNzCz332vZp+4ABbg5UGsYjXioRLUsuBioDJ0kpeyLSGuUePiNKKmAzTjBwLf4wKS9CMfo4czrzOHkx0CMOH1keQxdxFGocAycBK9oq9TDdObA98z6pOv0wQC5GMWUxNTV4QAlHj0OEPxs9bjQIJ4QdBhwMIegjnSLdJ/wx5TfyQKZOWFEESg9K5VF3VtxUVUuSPrc+VUiaSkBPUl6SYqpYHVgSYT1bmkJ8LRUjFBdaECMY4x1IHBke+Ry1EkYHaQDj/mz9vPrl//YJuBLeHmkkyhhxCBX5ouqu5knqpfQlE30yjCt4CILytvHT+VcNaCUSLnsssSh5Fu0BfQB7AnEA7AuVG0MbBRPRD+QKzvoE7ZTuE+3o42vrxvlM9/7zPfch7/jlve2Z9C7rBeNy5PjfK9qJ4hXpPOEH4Bnso/CG51jd49aMz7/IZ8UXwWW+q8LSxm/LadaQ2zHWQdPB1KfY198/4f3aINhw2oLdod943BfWp9ZU3AXhzeoj8KHbbcAEu4i4EqmanRialJgzmsOauJt2n76cbJZplYeUjJU+oTOyX798yWTUMtpRz+O5Gqrqn26aWKUuvd7LPs1b0WXZtdtO3brigecr6+3nqt++5g7zf+k14Dzt/PN56obnYumO5wnrq+8e6j3iluPn7WX6LwBx+1jymO+W9PHy1eZA41bo0OLF26zhweVM5Efru/KW7qznzuKv2zHYhNu02uPUs9UA3Mfiju6A/LwEZAfJBqAHEAyyDhYReRUnF6UaLyGZI3spiTKBLKcfiCGeJ3EhSBrkHPMZaAtJB4YJ7vQS3H7i7/Np9Vb1Qvqd8F3Ye8t50iHdIuil+/4LKQsqBmEKxAce8rvfquHR78kKECnzKGcPFgDm/jcJbB4JIA==\" type=\"audio/wav\" />\n",
       "                    Your browser does not support the audio element.\n",
       "                </audio>\n",
       "              "
      ],
      "text/plain": [
       "<IPython.lib.display.Audio object>"
      ]
     },
     "execution_count": 93,
     "metadata": {},
     "output_type": "execute_result"
    }
   ],
   "source": [
    "import IPython.display as ipd\n",
    "import numpy as np\n",
    "import random\n",
    "\n",
    "rand_int = random.randint(0, len(audio_dataset[\"train\"]))\n",
    "\n",
    "print(audio_dataset[\"train\"][rand_int][\"transcription\"])\n",
    "ipd.Audio(data=np.asarray(audio_dataset[\"train\"][rand_int][\"audio\"][\"array\"]), autoplay=True, rate=16000)"
   ]
  },
  {
   "cell_type": "code",
   "execution_count": 94,
   "id": "a8ed9e4d",
   "metadata": {
    "scrolled": false
   },
   "outputs": [
    {
     "name": "stdout",
     "output_type": "stream",
     "text": [
      "Target text: AND NOW I'M FINALLY SLEEPING SOUNDLY\n",
      "Input array shape: (40016,)\n",
      "Sampling rate: 16000\n"
     ]
    }
   ],
   "source": [
    "rand_int = random.randint(0, len(audio_dataset[\"train\"]))\n",
    "\n",
    "print(\"Target text:\", audio_dataset[\"train\"][rand_int][\"transcription\"])\n",
    "print(\"Input array shape:\", np.asarray(audio_dataset[\"train\"][rand_int][\"audio\"][\"array\"]).shape)\n",
    "print(\"Sampling rate:\", audio_dataset[\"train\"][rand_int][\"audio\"][\"sampling_rate\"])"
   ]
  },
  {
   "cell_type": "code",
   "execution_count": 95,
   "id": "570371d0",
   "metadata": {},
   "outputs": [],
   "source": [
    "def prepare_dataset(batch):\n",
    "    audio = batch[\"audio\"]\n",
    "\n",
    "    # batched output is \"un-batched\" to ensure mapping is correct\n",
    "    batch[\"input_values\"] = processor(audio[\"array\"], sampling_rate=audio[\"sampling_rate\"]).input_values[0]\n",
    "    batch[\"input_length\"] = len(batch[\"input_values\"])\n",
    "    \n",
    "    with processor.as_target_processor():\n",
    "        batch[\"labels\"] = processor(batch[\"transcription\"]).input_ids\n",
    "    return batch"
   ]
  },
  {
   "cell_type": "code",
   "execution_count": 96,
   "id": "c4e0dee3",
   "metadata": {},
   "outputs": [
    {
     "data": {
      "application/vnd.jupyter.widget-view+json": {
       "model_id": "e7a9f1f8c7b749ef9f80aec40cd7c43a",
       "version_major": 2,
       "version_minor": 0
      },
      "text/plain": [
       "Map:   0%|          | 0/8000 [00:00<?, ? examples/s]"
      ]
     },
     "metadata": {},
     "output_type": "display_data"
    },
    {
     "data": {
      "application/vnd.jupyter.widget-view+json": {
       "model_id": "91c086e1184f4163ac79356f3e565dd2",
       "version_major": 2,
       "version_minor": 0
      },
      "text/plain": [
       "Map:   0%|          | 0/2000 [00:00<?, ? examples/s]"
      ]
     },
     "metadata": {},
     "output_type": "display_data"
    }
   ],
   "source": [
    "audio_dataset = audio_dataset.map(prepare_dataset, \\\n",
    "                                           remove_columns=audio_dataset.column_names[\"train\"], \\\n",
    "                                           num_proc=1)\n"
   ]
  },
  {
   "cell_type": "code",
   "execution_count": 97,
   "id": "807dbc5f",
   "metadata": {},
   "outputs": [
    {
     "data": {
      "text/plain": [
       "DatasetDict({\n",
       "    train: Dataset({\n",
       "        features: ['input_values', 'input_length', 'labels'],\n",
       "        num_rows: 8000\n",
       "    })\n",
       "    test: Dataset({\n",
       "        features: ['input_values', 'input_length', 'labels'],\n",
       "        num_rows: 2000\n",
       "    })\n",
       "})"
      ]
     },
     "execution_count": 97,
     "metadata": {},
     "output_type": "execute_result"
    }
   ],
   "source": [
    "audio_dataset"
   ]
  },
  {
   "cell_type": "code",
   "execution_count": 98,
   "id": "5c55603e",
   "metadata": {},
   "outputs": [
    {
     "data": {
      "application/vnd.jupyter.widget-view+json": {
       "model_id": "8a538e077b7543449c7fb7e3b6ac1754",
       "version_major": 2,
       "version_minor": 0
      },
      "text/plain": [
       "Filter:   0%|          | 0/8000 [00:00<?, ? examples/s]"
      ]
     },
     "metadata": {},
     "output_type": "display_data"
    }
   ],
   "source": [
    "max_input_length_in_sec = 6\n",
    "audio_dataset[\"train\"] = audio_dataset[\"train\"].filter(lambda x: x < max_input_length_in_sec * processor.feature_extractor.sampling_rate, input_columns=[\"input_length\"])"
   ]
  },
  {
   "cell_type": "raw",
   "id": "b1e40e78",
   "metadata": {},
   "source": [
    "from transformers import AutoProcessor, AutoModelForCTC\n",
    "\n",
    "processor = AutoProcessor.from_pretrained(\"facebook/wav2vec2-large-960h-lv60-self\")\n"
   ]
  },
  {
   "cell_type": "code",
   "execution_count": 99,
   "id": "b26d24d7",
   "metadata": {},
   "outputs": [],
   "source": [
    "import torch\n",
    "\n",
    "from dataclasses import dataclass, field\n",
    "from typing import Any, Dict, List, Optional, Union\n",
    "\n",
    "@dataclass\n",
    "class DataCollatorCTCWithPadding:\n",
    "    \"\"\"\n",
    "    Data collator that will dynamically pad the inputs received.\n",
    "    Args:\n",
    "        processor (:class:`~transformers.Wav2Vec2Processor`)\n",
    "            The processor used for proccessing the data.\n",
    "        padding (:obj:`bool`, :obj:`str` or :class:`~transformers.tokenization_utils_base.PaddingStrategy`, `optional`, defaults to :obj:`True`):\n",
    "            Select a strategy to pad the returned sequences (according to the model's padding side and padding index)\n",
    "            among:\n",
    "            * :obj:`True` or :obj:`'longest'`: Pad to the longest sequence in the batch (or no padding if only a single\n",
    "              sequence if provided).\n",
    "            * :obj:`'max_length'`: Pad to a maximum length specified with the argument :obj:`max_length` or to the\n",
    "              maximum acceptable input length for the model if that argument is not provided.\n",
    "            * :obj:`False` or :obj:`'do_not_pad'` (default): No padding (i.e., can output a batch with sequences of\n",
    "              different lengths).\n",
    "    \"\"\"\n",
    "\n",
    "    processor: Wav2Vec2Processor\n",
    "    padding: Union[bool, str] = True\n",
    "\n",
    "    def __call__(self, features: List[Dict[str, Union[List[int], torch.Tensor]]]) -> Dict[str, torch.Tensor]:\n",
    "        # split inputs and labels since they have to be of different lenghts and need\n",
    "        # different padding methods\n",
    "        input_features = [{\"input_values\": feature[\"input_values\"]} for feature in features]\n",
    "        label_features = [{\"input_ids\": feature[\"labels\"]} for feature in features]\n",
    "\n",
    "        batch = self.processor.pad(\n",
    "            input_features,\n",
    "            padding=self.padding,\n",
    "            return_tensors=\"pt\",\n",
    "        )\n",
    "        with self.processor.as_target_processor():\n",
    "            labels_batch = self.processor.pad(\n",
    "                label_features,\n",
    "                padding=self.padding,\n",
    "                return_tensors=\"pt\",\n",
    "            )\n",
    "\n",
    "        # replace padding with -100 to ignore loss correctly\n",
    "        labels = labels_batch[\"input_ids\"].masked_fill(labels_batch.attention_mask.ne(1), -100)\n",
    "\n",
    "        batch[\"labels\"] = labels\n",
    "\n",
    "        return batch"
   ]
  },
  {
   "cell_type": "code",
   "execution_count": 100,
   "id": "df63e1c4",
   "metadata": {},
   "outputs": [],
   "source": [
    "data_collator = DataCollatorCTCWithPadding(processor=processor, padding=True)"
   ]
  },
  {
   "cell_type": "code",
   "execution_count": 101,
   "id": "363a2781",
   "metadata": {},
   "outputs": [],
   "source": [
    "from datasets import load_dataset, load_metric\n",
    "\n",
    "wer_metric = load_metric(\"wer\")"
   ]
  },
  {
   "cell_type": "code",
   "execution_count": 102,
   "id": "3c578ff1",
   "metadata": {},
   "outputs": [],
   "source": [
    "def compute_metrics(pred):\n",
    "    pred_logits = pred.predictions\n",
    "    pred_ids = np.argmax(pred_logits, axis=-1)\n",
    "\n",
    "    pred.label_ids[pred.label_ids == -100] = processor.tokenizer.pad_token_id\n",
    "\n",
    "    pred_str = processor.batch_decode(pred_ids)\n",
    "    # we do not want to group tokens when computing the metrics\n",
    "    label_str = processor.batch_decode(pred.label_ids, group_tokens=False)\n",
    "\n",
    "    wer = wer_metric.compute(predictions=pred_str, references=label_str)\n",
    "\n",
    "    return {\"wer\": wer}"
   ]
  },
  {
   "cell_type": "code",
   "execution_count": 103,
   "id": "3e0df37b",
   "metadata": {},
   "outputs": [
    {
     "name": "stderr",
     "output_type": "stream",
     "text": [
      "Some weights of Wav2Vec2ForCTC were not initialized from the model checkpoint at facebook/wav2vec2-large-960h-lv60-self and are newly initialized: ['wav2vec2.masked_spec_embed']\n",
      "You should probably TRAIN this model on a down-stream task to be able to use it for predictions and inference.\n"
     ]
    }
   ],
   "source": [
    "from transformers import Wav2Vec2ForCTC\n",
    "\n",
    "model = Wav2Vec2ForCTC.from_pretrained(\n",
    "    \"facebook/wav2vec2-large-960h-lv60-self\",\n",
    "    ctc_loss_reduction=\"mean\", \n",
    "    pad_token_id=processor.tokenizer.pad_token_id,\n",
    ")"
   ]
  },
  {
   "cell_type": "code",
   "execution_count": 104,
   "id": "b450f014",
   "metadata": {},
   "outputs": [],
   "source": [
    "model.freeze_feature_encoder()"
   ]
  },
  {
   "cell_type": "code",
   "execution_count": 105,
   "id": "226fd258",
   "metadata": {},
   "outputs": [],
   "source": [
    "from transformers import TrainingArguments\n",
    "\n",
    "training_args = TrainingArguments(\n",
    "  output_dir=\"songstolyrics_wav2vec\",\n",
    "  group_by_length=True,\n",
    "  per_device_train_batch_size=8,\n",
    "  evaluation_strategy=\"steps\",\n",
    "  num_train_epochs=30,\n",
    "  fp16=True,\n",
    "  gradient_checkpointing=True,\n",
    "  save_steps=500,\n",
    "  eval_steps=500,\n",
    "  logging_steps=500,\n",
    "  learning_rate=1e-4,\n",
    "  weight_decay=0.005,\n",
    "  warmup_steps=1000,\n",
    "  save_total_limit=2,\n",
    ")"
   ]
  },
  {
   "cell_type": "code",
   "execution_count": 106,
   "id": "07169620",
   "metadata": {},
   "outputs": [
    {
     "name": "stderr",
     "output_type": "stream",
     "text": [
      "Using amp half precision backend\n"
     ]
    }
   ],
   "source": [
    "from transformers import Trainer\n",
    "\n",
    "trainer = Trainer(\n",
    "    model=model,\n",
    "    data_collator=data_collator,\n",
    "    args=training_args,\n",
    "    compute_metrics=compute_metrics,\n",
    "    train_dataset=audio_dataset[\"train\"],\n",
    "    eval_dataset=audio_dataset[\"test\"],\n",
    "    tokenizer=processor.feature_extractor,\n",
    ")"
   ]
  },
  {
   "cell_type": "code",
   "execution_count": 107,
   "id": "e19809d0",
   "metadata": {},
   "outputs": [
    {
     "data": {
      "text/plain": [
       "Dataset({\n",
       "    features: ['input_values', 'input_length', 'labels'],\n",
       "    num_rows: 2000\n",
       "})"
      ]
     },
     "execution_count": 107,
     "metadata": {},
     "output_type": "execute_result"
    }
   ],
   "source": [
    "audio_dataset[\"test\"]"
   ]
  },
  {
   "cell_type": "code",
   "execution_count": null,
   "id": "2b1f2b44",
   "metadata": {
    "pycharm": {
     "is_executing": true
    }
   },
   "outputs": [
    {
     "name": "stderr",
     "output_type": "stream",
     "text": [
      "The following columns in the training set  don't have a corresponding argument in `Wav2Vec2ForCTC.forward` and have been ignored: input_length. If input_length are not expected by `Wav2Vec2ForCTC.forward`,  you can safely ignore this message.\n",
      "/mnt/irisgpfs/users/gmenon/slg_env/lib/python3.8/site-packages/transformers/optimization.py:306: FutureWarning: This implementation of AdamW is deprecated and will be removed in a future version. Use the PyTorch implementation torch.optim.AdamW instead, or set `no_deprecation_warning=True` to disable this warning\n",
      "  warnings.warn(\n",
      "***** Running training *****\n",
      "  Num examples = 7792\n",
      "  Num Epochs = 30\n",
      "  Instantaneous batch size per device = 8\n",
      "  Total train batch size (w. parallel, distributed & accumulation) = 8\n",
      "  Gradient Accumulation steps = 1\n",
      "  Total optimization steps = 29220\n"
     ]
    },
    {
     "data": {
      "text/html": [
       "\n",
       "    <div>\n",
       "      \n",
       "      <progress value='2' max='29220' style='width:300px; height:20px; vertical-align: middle;'></progress>\n",
       "      [    2/29220 : < :, Epoch 0.00/30]\n",
       "    </div>\n",
       "    <table border=\"1\" class=\"dataframe\">\n",
       "  <thead>\n",
       " <tr style=\"text-align: left;\">\n",
       "      <th>Step</th>\n",
       "      <th>Training Loss</th>\n",
       "      <th>Validation Loss</th>\n",
       "    </tr>\n",
       "  </thead>\n",
       "  <tbody>\n",
       "  </tbody>\n",
       "</table><p>"
      ],
      "text/plain": [
       "<IPython.core.display.HTML object>"
      ]
     },
     "metadata": {},
     "output_type": "display_data"
    },
    {
     "name": "stderr",
     "output_type": "stream",
     "text": [
      "The following columns in the evaluation set  don't have a corresponding argument in `Wav2Vec2ForCTC.forward` and have been ignored: input_length. If input_length are not expected by `Wav2Vec2ForCTC.forward`,  you can safely ignore this message.\n",
      "***** Running Evaluation *****\n",
      "  Num examples = 2000\n",
      "  Batch size = 8\n"
     ]
    }
   ],
   "source": [
    "trainer.train(resume_from_checkpoint = False)"
   ]
  },
  {
   "cell_type": "code",
   "execution_count": null,
   "id": "73f3f00f",
   "metadata": {
    "pycharm": {
     "is_executing": true
    }
   },
   "outputs": [],
   "source": [
    "trainer.save_state()"
   ]
  },
  {
   "cell_type": "code",
   "execution_count": null,
   "id": "c7b06c93",
   "metadata": {
    "pycharm": {
     "is_executing": true
    }
   },
   "outputs": [],
   "source": [
    "trainer.save_model(\"home/users/gmenon/songstolyrics_wav2vec_finetuned/\")"
   ]
  },
  {
   "cell_type": "code",
   "execution_count": null,
   "id": "abd1a798",
   "metadata": {
    "pycharm": {
     "is_executing": true
    }
   },
   "outputs": [],
   "source": [
    "processor.save_pretrained(\"home/users/gmenon/songstolyrics_wav2vec_processor/\")"
   ]
  },
  {
   "cell_type": "markdown",
   "id": "e007166a",
   "metadata": {},
   "source": [
    "## LOAD FROM ABOVE TRAINED MODELS AND EVALUATE RESULTS"
   ]
  },
  {
   "cell_type": "code",
   "execution_count": null,
   "id": "4018928e",
   "metadata": {},
   "outputs": [],
   "source": [
    "# processor = Wav2Vec2Processor.from_pretrained(\"home/users/gmenon/songstolyrics_wav2vec_processor/\",local_files_only=True)"
   ]
  },
  {
   "cell_type": "code",
   "execution_count": null,
   "id": "2ffaa991",
   "metadata": {
    "pycharm": {
     "is_executing": true
    }
   },
   "outputs": [],
   "source": [
    "from transformers import Wav2Vec2Processor\n",
    "\n",
    "processor = Wav2Vec2Processor.from_pretrained(\"home/users/gmenon/songstolyrics_wav2vec_processor/\",local_files_only=True)"
   ]
  },
  {
   "cell_type": "code",
   "execution_count": null,
   "id": "0755895c",
   "metadata": {
    "pycharm": {
     "is_executing": true
    }
   },
   "outputs": [],
   "source": [
    "model = Wav2Vec2ForCTC.from_pretrained(\"home/users/gmenon/songstolyrics_wav2vec_finetuned/\",local_files_only=True).cuda()"
   ]
  },
  {
   "cell_type": "code",
   "execution_count": null,
   "id": "32420df9",
   "metadata": {},
   "outputs": [],
   "source": [
    "# from transformers import Wav2Vec2FeatureExtractor\n",
    "# from transformers import Wav2Vec2Processor\n",
    "\n",
    "# tokenizer = Wav2Vec2CTCTokenizer(\"./vocab.json\", unk_token=\"[UNK]\", pad_token=\"[PAD]\", word_delimiter_token=\"|\")\n",
    "# feature_extractor = Wav2Vec2FeatureExtractor(feature_size=1, sampling_rate=16000, padding_value=0.0, do_normalize=True, return_attention_mask=False)\n",
    "# processor = Wav2Vec2Processor(feature_extractor=feature_extractor, tokenizer=tokenizer)"
   ]
  },
  {
   "cell_type": "code",
   "execution_count": null,
   "id": "d00d89cd",
   "metadata": {
    "pycharm": {
     "is_executing": true
    }
   },
   "outputs": [],
   "source": [
    "def map_to_result(batch):\n",
    "    with torch.no_grad():\n",
    "        input_values = torch.tensor(batch[\"input_values\"], device=\"cuda\").unsqueeze(0)\n",
    "        logits = model(input_values).logits\n",
    "    pred_ids = torch.argmax(logits, dim=-1)\n",
    "    batch[\"pred_str\"] = processor.batch_decode(pred_ids)[0]\n",
    "    batch[\"transcription\"] = processor.decode(batch[\"labels\"], group_tokens=False)\n",
    "    return batch\n"
   ]
  },
  {
   "cell_type": "code",
   "execution_count": null,
   "id": "3f9a4771",
   "metadata": {
    "pycharm": {
     "is_executing": true
    }
   },
   "outputs": [],
   "source": [
    "import torch, torchaudio\n",
    "results = audio_dataset[\"test\"].map(map_to_result, remove_columns=audio_dataset[\"test\"].column_names)\n",
    "print(\"Test WER: {:.3f}\".format(wer_metric.compute(predictions=results[\"pred_str\"], references=results[\"transcription\"])))\n"
   ]
  },
  {
   "cell_type": "markdown",
   "id": "35f82e47",
   "metadata": {},
   "source": [
    "----"
   ]
  },
  {
   "cell_type": "code",
   "execution_count": null,
   "id": "5e017212",
   "metadata": {
    "pycharm": {
     "is_executing": true
    }
   },
   "outputs": [],
   "source": [
    "pd.DataFrame(results[0:40])"
   ]
  },
  {
   "cell_type": "code",
   "execution_count": null,
   "id": "0f646c1a",
   "metadata": {
    "pycharm": {
     "is_executing": true
    }
   },
   "outputs": [],
   "source": []
  },
  {
   "cell_type": "code",
   "execution_count": null,
   "id": "a93eabad",
   "metadata": {
    "pycharm": {
     "is_executing": true
    }
   },
   "outputs": [],
   "source": [
    "import torch, torchaudio\n",
    "results = audio_dataset[\"train\"].map(map_to_result, remove_columns=audio_dataset[\"train\"].column_names)\n",
    "print(\"Test WER: {:.3f}\".format(wer_metric.compute(predictions=results[\"pred_str\"], references=results[\"transcription\"])))\n"
   ]
  },
  {
   "cell_type": "code",
   "execution_count": null,
   "id": "332f1e0a",
   "metadata": {
    "pycharm": {
     "is_executing": true
    }
   },
   "outputs": [],
   "source": []
  },
  {
   "cell_type": "code",
   "execution_count": null,
   "id": "2d530f95",
   "metadata": {},
   "outputs": [],
   "source": []
  }
 ],
 "metadata": {
  "kernelspec": {
   "display_name": "Python 3 (ipykernel)",
   "language": "python",
   "name": "python3"
  },
  "language_info": {
   "codemirror_mode": {
    "name": "ipython",
    "version": 3
   },
   "file_extension": ".py",
   "mimetype": "text/x-python",
   "name": "python",
   "nbconvert_exporter": "python",
   "pygments_lexer": "ipython3",
   "version": "3.8.6"
  }
 },
 "nbformat": 4,
 "nbformat_minor": 5
}
