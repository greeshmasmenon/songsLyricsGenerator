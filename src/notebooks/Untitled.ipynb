{
 "cells": [
  {
   "cell_type": "code",
   "execution_count": 1,
   "id": "3ae8680e",
   "metadata": {},
   "outputs": [
    {
     "name": "stdout",
     "output_type": "stream",
     "text": [
      "Looking in indexes: https://pypi.org/simple, https://pypi.ngc.nvidia.com\n",
      "Requirement already satisfied: dali-dataset in /mnt/irisgpfs/users/gmenon/slg_env/lib/python3.8/site-packages (1.1)\n",
      "Requirement already satisfied: youtube-dl in /mnt/irisgpfs/users/gmenon/slg_env/lib/python3.8/site-packages (from dali-dataset) (2021.12.17)\n",
      "Looking in indexes: https://pypi.org/simple, https://pypi.ngc.nvidia.com\n",
      "Requirement already satisfied: pydub in /mnt/irisgpfs/users/gmenon/slg_env/lib/python3.8/site-packages (0.25.1)\n",
      "Looking in indexes: https://pypi.org/simple, https://pypi.ngc.nvidia.com\n",
      "Requirement already satisfied: uuid in /mnt/irisgpfs/users/gmenon/slg_env/lib/python3.8/site-packages (1.30)\n"
     ]
    }
   ],
   "source": [
    "! pip install dali-dataset --upgrade\n",
    "! pip install pydub --upgrade\n",
    "! pip install uuid --upgrade\n"
   ]
  },
  {
   "cell_type": "code",
   "execution_count": 2,
   "id": "ff5b266d",
   "metadata": {},
   "outputs": [
    {
     "name": "stdout",
     "output_type": "stream",
     "text": [
      "/mnt/irisgpfs/users/gmenon/slg_env/bin/python\r\n"
     ]
    }
   ],
   "source": [
    "! which python"
   ]
  },
  {
   "cell_type": "code",
   "execution_count": 2,
   "id": "f4dffdda",
   "metadata": {},
   "outputs": [],
   "source": [
    "import DALI as dali_code"
   ]
  },
  {
   "cell_type": "code",
   "execution_count": 3,
   "id": "d0efa906",
   "metadata": {},
   "outputs": [
    {
     "data": {
      "text/plain": [
       "<module 'DALI' from '/home/users/gmenon/.local/lib/python3.8/site-packages/DALI/__init__.py'>"
      ]
     },
     "execution_count": 3,
     "metadata": {},
     "output_type": "execute_result"
    }
   ],
   "source": [
    "dali_code"
   ]
  },
  {
   "cell_type": "code",
   "execution_count": 4,
   "id": "cafeb79f",
   "metadata": {},
   "outputs": [
    {
     "name": "stdout",
     "output_type": "stream",
     "text": [
      "Python 3.8.6\r\n"
     ]
    }
   ],
   "source": [
    "! python --version"
   ]
  },
  {
   "cell_type": "code",
   "execution_count": 3,
   "id": "f1e4888d",
   "metadata": {},
   "outputs": [
    {
     "ename": "ModuleNotFoundError",
     "evalue": "No module named 'pydub'",
     "output_type": "error",
     "traceback": [
      "\u001b[0;31m---------------------------------------------------------------------------\u001b[0m",
      "\u001b[0;31mModuleNotFoundError\u001b[0m                       Traceback (most recent call last)",
      "Cell \u001b[0;32mIn[3], line 9\u001b[0m\n\u001b[1;32m      7\u001b[0m \u001b[38;5;28;01mimport\u001b[39;00m \u001b[38;5;21;01mos\u001b[39;00m\n\u001b[1;32m      8\u001b[0m \u001b[38;5;28;01mimport\u001b[39;00m \u001b[38;5;21;01mnumpy\u001b[39;00m \u001b[38;5;28;01mas\u001b[39;00m \u001b[38;5;21;01mnp\u001b[39;00m\n\u001b[0;32m----> 9\u001b[0m \u001b[38;5;28;01mfrom\u001b[39;00m \u001b[38;5;21;01mpydub\u001b[39;00m \u001b[38;5;28;01mimport\u001b[39;00m AudioSegment\n\u001b[1;32m     10\u001b[0m \u001b[38;5;28;01mfrom\u001b[39;00m \u001b[38;5;21;01mtyping\u001b[39;00m \u001b[38;5;28;01mimport\u001b[39;00m Dict, Optional, List\n\u001b[1;32m     12\u001b[0m logging\u001b[38;5;241m.\u001b[39mbasicConfig(filename\u001b[38;5;241m=\u001b[39m\u001b[38;5;124m'\u001b[39m\u001b[38;5;124mapp.log\u001b[39m\u001b[38;5;124m'\u001b[39m, filemode\u001b[38;5;241m=\u001b[39m\u001b[38;5;124m'\u001b[39m\u001b[38;5;124mw\u001b[39m\u001b[38;5;124m'\u001b[39m, \u001b[38;5;28mformat\u001b[39m\u001b[38;5;241m=\u001b[39m\u001b[38;5;124m'\u001b[39m\u001b[38;5;132;01m%(asctime)s\u001b[39;00m\u001b[38;5;124m - \u001b[39m\u001b[38;5;132;01m%(funcName)s\u001b[39;00m\u001b[38;5;124m - \u001b[39m\u001b[38;5;132;01m%(levelname)s\u001b[39;00m\u001b[38;5;124m - \u001b[39m\u001b[38;5;132;01m%(message)s\u001b[39;00m\u001b[38;5;124m'\u001b[39m, level\u001b[38;5;241m=\u001b[39mlogging\u001b[38;5;241m.\u001b[39mINFO)\n",
      "\u001b[0;31mModuleNotFoundError\u001b[0m: No module named 'pydub'"
     ]
    }
   ],
   "source": [
    "from abc import ABC\n",
    "import DALI as dali_code\n",
    "import logging\n",
    "import pandas as pd\n",
    "import uuid\n",
    "import csv\n",
    "import os\n",
    "import numpy as np\n",
    "from pydub import AudioSegment\n",
    "from typing import Dict, Optional, List\n",
    "\n",
    "logging.basicConfig(filename='app.log', filemode='w', format='%(asctime)s - %(funcName)s - %(levelname)s - %(message)s', level=logging.INFO)\n",
    "__all__ = [\"DALIDataset\"]\n",
    "\n",
    "\n",
    "class DALIDataset:\n",
    "\n",
    "    def __init__(self, data_path: str, file_path: Optional[str] = None):\n",
    "        self._data_path = data_path\n",
    "        if file_path is None:\n",
    "            self._file_path = self._data_path + 'audio/'\n",
    "        else:\n",
    "            self._file_path = file_path\n",
    "\n",
    "    @property\n",
    "    def data_path(self):\n",
    "        logging.info(\"Setting the data_path\")\n",
    "        return self._data_path\n",
    "\n",
    "    @data_path.setter\n",
    "    def data_path(self, data_path: str):\n",
    "        logging.info(\"Setting the data_path\")\n",
    "        self._data_path = data_path\n",
    "\n",
    "    @property\n",
    "    def file_path(self):\n",
    "        logging.info(\"Setting the data_path\")\n",
    "        return self._file_path\n",
    "\n",
    "    @file_path.setter\n",
    "    def file_path(self, file_path: str):\n",
    "        logging.info(\"Setting the data_path\")\n",
    "        self._file_path = file_path\n",
    "\n",
    "    def get_data(self) -> Dict:\n",
    "        logging.info(\"Getting the data_path\")\n",
    "        if self._data_path is not None:\n",
    "            dali_dataset = dali_code.get_the_DALI_dataset(self._data_path, skip=[], keep=[])\n",
    "            logging.info(f\"The DALI dataset has been downloaded\")\n",
    "            return dali_dataset\n",
    "        else:\n",
    "            raise TypeError(f\"Set the data_path for the location of the DALI datasets; data_path = {self._data_path}\")\n",
    "\n",
    "    def download_data(self) -> NotImplementedError:\n",
    "        # dali_data = self.get_data()\n",
    "        # logging.info(f\"Downloading the data into the file path = {self._data_path}data/\")\n",
    "        raise NotImplementedError\n",
    "\n",
    "    def get_info(self) -> pd.DataFrame:\n",
    "        logging.info(f\"Getting the info related to the data from the data_path = {self._data_path}\")\n",
    "        if self._data_path is not None:\n",
    "            dali_info = dali_code.get_info(self._data_path + 'info/DALI_DATA_INFO.gz')\n",
    "            dali_df = pd.DataFrame(dali_info)[1:]\n",
    "            dali_df.columns = dali_info[0]\n",
    "            logging.info(f\"The DALI dataset has {len(dali_info)} rows in it\")\n",
    "            return dali_df\n",
    "        else:\n",
    "            raise TypeError(f\"Set the data_path for the location of the DALI datasets; data_path = {self._data_path}\")\n",
    "\n",
    "    def download_info(self) -> None:\n",
    "        dali_df = self.get_info()\n",
    "        logging.info(f\"Downloading to the file path = {self._data_path}info/ \")\n",
    "        dali_df.to_csv(self._data_path + 'info/dali_info.csv')\n",
    "        logging.info(f\"Download complete in the file path = {self._data_path}info/ \")\n",
    "\n",
    "    def download_audio(self) -> List:\n",
    "        logging.info(\"Downloading audio from youtube URLs associated with the info file\")\n",
    "        if self._data_path is not None or self._file_path is not None:\n",
    "            dali_dataset_info = self.get_info()\n",
    "            logging.info(f\"The DALI Audio download has {len(dali_dataset_info)} errors in it\")\n",
    "            return dali_code.get_audio(dali_dataset_info, self._file_path, skip=[], keep=[])\n",
    "        else:\n",
    "            raise TypeError(f\"Set the data_path & file_path for the location of the DALI datasets; \"\n",
    "                            f\"data_path = {self._data_path}, file_path = {self._file_path}\")\n",
    "\n",
    "    def extract_dali_id_from_directory(self, path: str, extension: str) -> List[str]:\n",
    "        wav_files = os.listdir(path)\n",
    "        extract_dali_id = lambda x : x.split('.')[0]\n",
    "        extract_file_extension = lambda x : x.split('.')[1]\n",
    "        dali_ids = [extract_dali_id(file_name) for file_name \\\n",
    "                    in wav_files if extract_file_extension(file_name) == extension]\n",
    "        logging.info(f\"dali ids extracted from the file system directory = {path}\")\n",
    "        return dali_ids\n",
    "\n",
    "    def split_align_wav_transcripts(self, source_audio_path: str, destination_audio_path: str, extension: str = '.wav'):\n",
    "        header = [\"file_name\", \"transcription\"]\n",
    "        metadata_csv_save_path = destination_audio_path + \"metadata.csv\"\n",
    "        dali_ids = self.extract_dali_id_from_directory(source_audio_path, extension)\n",
    "        dali_dataset = self.get_data()\n",
    "        with open(metadata_csv_save_path, 'w', encoding='UTF8', newline='') as f:\n",
    "            writer = csv.writer(f, delimiter=',', quoting=csv.QUOTE_MINIMAL)\n",
    "            writer.writerow(header)\n",
    "            for dali_id in dali_ids:\n",
    "                logging.info(f\"Extracting the data for the dali_id = {dali_id}\")\n",
    "                for segment in dali_dataset[dali_id].annotations[\"annot\"][\"lines\"]:\n",
    "                    logging.info(f\"frequency = {segment['freq']}, time = {segment['time']}, text = {segment['text']}\")\n",
    "                    segment_start, segment_end = segment['time']\n",
    "                    transcript = segment['text']\n",
    "                    source_audio_file = AudioSegment.from_wav(source_audio_path + dali_id + extension)\n",
    "                    extracted_audio_segment = source_audio_file[segment_start * 1000:segment_end * 1000]\n",
    "                    extracted_audio_filename = uuid.uuid4().hex + '.wav'\n",
    "                    extracted_audio_segment.export(destination_audio_path + extracted_audio_filename)\n",
    "                    writer.writerow([dali_id, segment_start, segment_end, extracted_audio_filename, transcript])\n",
    "                    logging.info(f\"wav file saved at {destination_audio_path + extracted_audio_filename} and has transcription = {_transcript}\")\n",
    "\n"
   ]
  },
  {
   "cell_type": "code",
   "execution_count": null,
   "id": "fe44fb9b",
   "metadata": {},
   "outputs": [],
   "source": []
  },
  {
   "cell_type": "code",
   "execution_count": null,
   "id": "09682c82",
   "metadata": {},
   "outputs": [],
   "source": []
  }
 ],
 "metadata": {
  "kernelspec": {
   "display_name": "venv_gmenon",
   "language": "python",
   "name": "venv_gmenon"
  },
  "language_info": {
   "codemirror_mode": {
    "name": "ipython",
    "version": 3
   },
   "file_extension": ".py",
   "mimetype": "text/x-python",
   "name": "python",
   "nbconvert_exporter": "python",
   "pygments_lexer": "ipython3",
   "version": "3.8.6"
  }
 },
 "nbformat": 4,
 "nbformat_minor": 5
}
